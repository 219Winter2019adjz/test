{
 "cells": [
  {
   "cell_type": "markdown",
   "metadata": {
    "slideshow": {
     "slide_type": "-"
    }
   },
   "source": [
    "# Project 1\n",
    "\n",
    "Project 1 is **Classification Analysis on Textual Data**, where you extract features from raw texts and try different classification approaches to classify them into topics.\n",
    "\n",
    "During this discussion, we introduce some key concepts and usages of relevant Python packages to help you get started with your project.\n",
    "\n",
    "This explanation are mainly from different sections of the scikit-learn tutorial on text classification available at http://scikit-learn.org."
   ]
  },
  {
   "cell_type": "markdown",
   "metadata": {},
   "source": [
    "## Installation & Environment Setup\n",
    "\n",
    "### Anaconda\n",
    "\n",
    "Anaconda is recommended as a popular Python distribution with package & environment managing tools, which provides most of the tools we would use during the course. It supports Windows, macOS and Linux.\n",
    "\n",
    "Anaconda can be downloaded from https://www.anaconda.com/download/. You can follow their official installation instructions at https://docs.anaconda.com/anaconda/install/ to easily install it.\n",
    "\n",
    "If you are new to Python, Python 3.6.\\* is recommended; if you prefer Python 2, it is also fine.\n",
    "\n",
    "### Jupyter\n",
    "\n",
    ">The Jupyter Notebook App is a server-client application that allows editing and running notebook documents via a web browser. The Jupyter Notebook App can be executed on a local desktop requiring no internet access (as described in this document) or can be installed on a remote server and accessed through the internet. <span style=\"margin-top: 1em; float: right;\">--from <a href=\"http://jupyter-notebook-beginner-guide.readthedocs.io/en/latest/what_is_jupyter.html\">Jupyter/IPython Notebook Quick Start Guide</a></span>\n",
    "\n",
    "Jupyter comes with Anaconda by default, so you can simply start it using the following command at the Terminal (Mac/Linux) or Command Prompt (Windows):\n",
    "```\n",
    "jupyter notebook\n",
    "```\n",
    "\n",
    "See https://jupyter.readthedocs.io/en/latest/running.html#running for more details."
   ]
  },
  {
   "cell_type": "markdown",
   "metadata": {},
   "source": [
    "#### Demo of plotting in Jupyter notebook (`matplotlib`)"
   ]
  },
  {
   "cell_type": "code",
   "execution_count": 1,
   "metadata": {
    "collapsed": false
   },
   "outputs": [
    {
     "data": {
      "text/plain": [
       "[<matplotlib.lines.Line2D at 0x14f0a161f60>]"
      ]
     },
     "execution_count": 1,
     "metadata": {},
     "output_type": "execute_result"
    },
    {
     "data": {
      "image/png": "[encoded data removed]",
      "text/plain": [
       "<Figure size 432x288 with 1 Axes>"
      ]
     },
     "metadata": {},
     "output_type": "display_data"
    }
   ],
   "source": [
    "from matplotlib import pyplot as plt\n",
    "import numpy as np\n",
    "%matplotlib inline\n",
    "x = np.linspace(0,10,100)\n",
    "y = np.sin(x)\n",
    "plt.plot(x,y)"
   ]
  },
  {
   "cell_type": "markdown",
   "metadata": {},
   "source": [
    "## Online Python Tutorials\n",
    "\n",
    "If you are looking to learn python from scratch or you may need to refresh your python skills, we recommend to check out this interactive python tutorial: https://www.learnpython.org\n",
    "\n",
    "Another machine learning oriented tutorial is at\n",
    "https://machinelearningmastery.com/machine-learning-in-python-step-by-step/\n",
    "(thanks to the recommendation from Eric Schultz)"
   ]
  },
  {
   "cell_type": "markdown",
   "metadata": {},
   "source": [
    "## Machine Learning Task Types"
   ]
  },
  {
   "cell_type": "markdown",
   "metadata": {},
   "source": [
    "![ml_map.png](attachment:ml_map.png)"
   ]
  },
  {
   "cell_type": "markdown",
   "metadata": {},
   "source": [
    "## Classification\n",
    "> In machine learning and statistics, classification is the problem of identifying to which of a set of categories (sub-populations) a new observation belongs, on the basis of a training set of data containing observations (or instances) whose category membership is known. <span style=\"margin-top: 1em; float: right;\">--from <a href=\"https://en.wikipedia.org/wiki/Statistical_classification\">Wikipedia - Statistical classification</a></span>"
   ]
  },
  {
   "cell_type": "markdown",
   "metadata": {},
   "source": [
    "## Loading the 20 Newsgroups Dataset\n",
    "\n",
    "1. In **Project 1** we work with “20 Newsgroups” dataset. It is a collection of approximately 20,000 newsgroup documents, partitioned (nearly) evenly across 20 different newsgroups, each corresponding to a different topic. It is is splitted in two subsets: one for training (or development) and the other one for testing (or for performance evaluation) and is a popular data set for experiments in text applications of machine learning techniques, such as text classification and text clustering.\n",
    "2. The easiest way to load the data is to use the built-in dataset loader for \"20 newsgroups\" from scikit-learn package."
   ]
  },
  {
   "cell_type": "code",
   "execution_count": 2,
   "metadata": {
    "collapsed": true
   },
   "outputs": [
    {
     "name": "stderr",
     "output_type": "stream",
     "text": [
      "Downloading 20news dataset. This may take a few minutes.\n"
     ]
    },
    {
     "name": "stderr",
     "output_type": "stream",
     "text": [
      "Downloading dataset from https://ndownloader.figshare.com/files/5975967 (14 MB)\n"
     ]
    }
   ],
   "source": [
    "from sklearn.datasets import fetch_20newsgroups\n",
    "# Refer to the offcial document of scikit-learn for detailed usages:\n",
    "# http://scikit-learn.org/stable/modules/generated/sklearn.datasets.fetch_20newsgroups.html\n",
    "categories = ['comp.graphics', 'comp.sys.mac.hardware']\n",
    "# The \n",
    "twenty_train = fetch_20newsgroups(subset='train', # choose which subset of the dataset to use; can be 'train', 'test', 'all'\n",
    "                                  categories=categories, # choose the categories to load; if is `None`, load all categories\n",
    "                                  shuffle=True,\n",
    "                                  random_state=42, # set the seed of random number generator when shuffling to make the outcome repeatable across different runs\n",
    "#                                   remove=['headers'],\n",
    "                                 )\n",
    "twenty_test = fetch_20newsgroups(subset='test', categories=categories, shuffle=True, random_state=42)"
   ]
  },
  {
   "cell_type": "code",
   "execution_count": 13,
   "metadata": {
    "collapsed": false
   },
   "outputs": [
    {
     "name": "stdout",
     "output_type": "stream",
     "text": [
      "<class 'sklearn.utils.Bunch'>\n",
      "dict_keys(['data', 'filenames', 'target_names', 'target', 'DESCR', 'description'])\n"
     ]
    }
   ],
   "source": [
    "print(type(twenty_train))\n",
    "print(twenty_train.keys())"
   ]
  },
  {
   "cell_type": "code",
   "execution_count": 14,
   "metadata": {
    "collapsed": false
   },
   "outputs": [
    {
     "data": {
      "text/plain": [
       "array(['/Users/Alex/scikit_learn_data/20news_home/20news-bydate-train/comp.sys.mac.hardware/50423',\n",
       "       '/Users/Alex/scikit_learn_data/20news_home/20news-bydate-train/comp.graphics/38237',\n",
       "       '/Users/Alex/scikit_learn_data/20news_home/20news-bydate-train/comp.graphics/38277',\n",
       "       ...,\n",
       "       '/Users/Alex/scikit_learn_data/20news_home/20news-bydate-train/comp.graphics/38592',\n",
       "       '/Users/Alex/scikit_learn_data/20news_home/20news-bydate-train/comp.sys.mac.hardware/51688',\n",
       "       '/Users/Alex/scikit_learn_data/20news_home/20news-bydate-train/comp.graphics/38739'],\n",
       "      dtype='<U92')"
      ]
     },
     "execution_count": 14,
     "metadata": {},
     "output_type": "execute_result"
    }
   ],
   "source": [
    "twenty_train.filenames # the path to the text files storing the documents"
   ]
  },
  {
   "cell_type": "code",
   "execution_count": 15,
   "metadata": {
    "collapsed": false
   },
   "outputs": [
    {
     "data": {
      "text/plain": [
       "1162"
      ]
     },
     "execution_count": 15,
     "metadata": {},
     "output_type": "execute_result"
    }
   ],
   "source": [
    "len(twenty_train.filenames) # 1162 documents in the train subset"
   ]
  },
  {
   "cell_type": "code",
   "execution_count": 16,
   "metadata": {
    "collapsed": false
   },
   "outputs": [
    {
     "data": {
      "text/plain": [
       "1162"
      ]
     },
     "execution_count": 16,
     "metadata": {},
     "output_type": "execute_result"
    }
   ],
   "source": [
    "len(twenty_train.data) # `twenty_train.data` or `twenty_train['data']` is the list storing document strings"
   ]
  },
  {
   "cell_type": "code",
   "execution_count": 17,
   "metadata": {
    "collapsed": false
   },
   "outputs": [
    {
     "name": "stdout",
     "output_type": "stream",
     "text": [
      "From: winstead@faraday.ece.cmu.edu (Charles Holden Winstead)\n",
      "Subject: ftp site for Radius software???\n",
      "Organization: Electrical and Computer Engineering, Carnegie Mellon\n",
      "\n",
      "Hey All,\n",
      "\n",
      "Does anyone know if I can ftp to get the newest version of Radiusware\n",
      "and soft pivot from Radius?  I bought a pivot monitor, but it has an\n",
      "old version of this software and won't work on my C650, and Radius said\n",
      "it would be 4-5 weeks until delivery.\n",
      "\n",
      "Thanks!\n",
      "\n",
      "-Chuck\n",
      "\n",
      "\n",
      "\n"
     ]
    }
   ],
   "source": [
    "print(twenty_train.data[0]) # the content of the first document is printed below"
   ]
  },
  {
   "cell_type": "code",
   "execution_count": 18,
   "metadata": {
    "collapsed": false
   },
   "outputs": [
    {
     "data": {
      "text/plain": [
       "array([1, 0, 0, ..., 0, 1, 0])"
      ]
     },
     "execution_count": 18,
     "metadata": {},
     "output_type": "execute_result"
    }
   ],
   "source": [
    "# list of category indices of the documents\n",
    "twenty_train.target # twenty_train['target']"
   ]
  },
  {
   "cell_type": "code",
   "execution_count": 19,
   "metadata": {
    "collapsed": false
   },
   "outputs": [
    {
     "data": {
      "text/plain": [
       "1162"
      ]
     },
     "execution_count": 19,
     "metadata": {},
     "output_type": "execute_result"
    }
   ],
   "source": [
    "len(twenty_train.target) # "
   ]
  },
  {
   "cell_type": "code",
   "execution_count": 20,
   "metadata": {
    "collapsed": false
   },
   "outputs": [
    {
     "data": {
      "text/plain": [
       "array([0, 1])"
      ]
     },
     "execution_count": 20,
     "metadata": {},
     "output_type": "execute_result"
    }
   ],
   "source": [
    "# `twenty_train.target` only contains 0 and 1\n",
    "import numpy as np\n",
    "np.unique(twenty_train.target)"
   ]
  },
  {
   "cell_type": "code",
   "execution_count": 21,
   "metadata": {
    "collapsed": false
   },
   "outputs": [
    {
     "name": "stdout",
     "output_type": "stream",
     "text": [
      "['comp.graphics', 'comp.sys.mac.hardware']\n"
     ]
    }
   ],
   "source": [
    "# index 0 corresponds to 'comp.graphics'; 1 to 'comp.sys.mac.hardware'\n",
    "print(twenty_train.target_names) # twenty_train['target_names']"
   ]
  },
  {
   "cell_type": "code",
   "execution_count": 22,
   "metadata": {
    "collapsed": false
   },
   "outputs": [
    {
     "name": "stdout",
     "output_type": "stream",
     "text": [
      "comp.sys.mac.hardware\n"
     ]
    }
   ],
   "source": [
    "# The first document belongs to the category 'comp.sys.mac.hardware'\n",
    "print(twenty_train.target_names[twenty_train.target[0]])"
   ]
  },
  {
   "cell_type": "markdown",
   "metadata": {},
   "source": [
    "The files themselves are loaded in memory in the data attribute."
   ]
  },
  {
   "cell_type": "code",
   "execution_count": 23,
   "metadata": {
    "collapsed": false
   },
   "outputs": [
    {
     "name": "stdout",
     "output_type": "stream",
     "text": [
      "1162\n",
      "1162\n",
      "2\n"
     ]
    }
   ],
   "source": [
    "print(len(twenty_train.data))\n",
    "print(len(twenty_train.target))\n",
    "print(len(twenty_train.target_names))"
   ]
  },
  {
   "cell_type": "markdown",
   "metadata": {},
   "source": [
    "## Extracting features from text files\n",
    "\n",
    "### Bag of Words\n",
    "\n",
    "Bag of words is one of the simplest and most common representation of texts, where each document is represented by an unordered list (or a so-called \"bag\") of words.\n",
    "\n",
    "### Document-term Matrix\n",
    "\n",
    "$\\begin{pmatrix}tf(d_1, t_1) & \\cdots & tf(d_1, t_m) \\\\ tf(d_2, t_1) & \\cdots & tf(d_2, t_m) \\\\ \\vdots & \\vdots & \\vdots \\\\ tf(d_n, t_1) & \\cdots & tf(d_n, t_m) \\end{pmatrix}$\n",
    "\n",
    "$tf(d, t)$: term frequency of term $t$ in the document $d$, i.e. the number of occurrances of term $t$ in the document $d$.\n",
    "\n",
    "The class `CountVectorizer` can help us to convert a collection of text documents to a document-term matrix."
   ]
  },
  {
   "cell_type": "code",
   "execution_count": 24,
   "metadata": {
    "collapsed": false
   },
   "outputs": [
    {
     "data": {
      "text/plain": [
       "CountVectorizer(analyzer='word', binary=False, decode_error='strict',\n",
       "        dtype=<class 'numpy.int64'>, encoding='utf-8', input='content',\n",
       "        lowercase=True, max_df=1.0, max_features=None, min_df=1,\n",
       "        ngram_range=(1, 1), preprocessor=None, stop_words=None,\n",
       "        strip_accents=None, token_pattern='(?u)\\\\b\\\\w\\\\w+\\\\b',\n",
       "        tokenizer=None, vocabulary=None)"
      ]
     },
     "execution_count": 24,
     "metadata": {},
     "output_type": "execute_result"
    }
   ],
   "source": [
    "from sklearn.feature_extraction.text import CountVectorizer\n",
    "\n",
    "vectorizer = CountVectorizer(min_df=1)\n",
    "vectorizer"
   ]
  },
  {
   "cell_type": "markdown",
   "metadata": {},
   "source": [
    "#### `min_df`, `max_df` and stopwords"
   ]
  },
  {
   "cell_type": "code",
   "execution_count": 25,
   "metadata": {
    "collapsed": false
   },
   "outputs": [
    {
     "name": "stdout",
     "output_type": "stream",
     "text": [
      "(1162, 19610)\n",
      "(1162, 9420)\n",
      "(1162, 6348)\n",
      "(1162, 4867)\n"
     ]
    }
   ],
   "source": [
    "min_dfs = range(1,5)\n",
    "for min_df in min_dfs:\n",
    "    count_vect_tmp = CountVectorizer(min_df=min_df)\n",
    "    X_train_tmp = count_vect_tmp.fit_transform(twenty_train.data)\n",
    "    print(X_train_tmp.shape)"
   ]
  },
  {
   "cell_type": "markdown",
   "metadata": {},
   "source": [
    "**Stopwords**: Words that are too common to be useful in classification"
   ]
  },
  {
   "cell_type": "code",
   "execution_count": 26,
   "metadata": {
    "collapsed": false
   },
   "outputs": [
    {
     "name": "stdout",
     "output_type": "stream",
     "text": [
      "frozenset({'anything', 'beforehand', 'elsewhere', 'moreover', 'ten', 'up', 'to', 'or', 'not', 'show', 'very', 'rather', 'wherever', 'will', 'had', 'least', 'everything', 'yet', 'already', 'why', 'are', 'before', 'fifteen', 'throughout', 'so', 'eg', 'an', 'your', 'no', 'whether', 'forty', 'few', 'twelve', 'and', 'herself', 'whereas', 'next', 'such', 'whom', 'put', 'ie', 'own', 'cannot', 'mill', 'became', 'nevertheless', 'through', 'might', 'was', 'becomes', 'each', 'serious', 'often', 'onto', 'during', 'everyone', 'thin', 'one', 'per', 'him', 'inc', 'now', 'of', 'seem', 'than', 'thru', 'beyond', 'by', 'themselves', 'twenty', 'always', 'full', 'whereby', 'from', 'couldnt', 'under', 'when', 'with', 'between', 'has', 'been', 'its', 'less', 'while', 'system', 'behind', 'anyway', 'there', 'nine', 'mostly', 'ourselves', 'due', 'further', 'another', 'done', 'mine', 'around', 'among', 'either', 'he', 'his', 'nowhere', 'formerly', 'do', 'ever', 'nothing', 'anyhow', 'last', 'thence', 'out', 'become', 'take', 'sixty', 'along', 'other', 'being', 'since', 'get', 'the', 'eight', 'those', 'most', 'hasnt', 'afterwards', 'still', 'may', 'our', 'yours', 'fire', 'herein', 'interest', 'detail', 'it', 'someone', 'nor', 'front', 'un', 'whenever', 'at', 'part', 'until', 'seeming', 'though', 'whose', 'see', 'seemed', 'above', 'were', 'you', 'how', 'too', 'whereupon', 'never', 'only', 'con', 'within', 'whereafter', 'even', 'these', 'again', 'top', 'which', 'sincere', 'her', 'me', 'beside', 'hers', 'more', 're', 'therein', 'itself', 'third', 'upon', 'thick', 'becoming', 'both', 'also', 'meanwhile', 'find', 'none', 'on', 'well', 'down', 'anyone', 'any', 'would', 'somehow', 'then', 'ours', 'am', 'same', 'for', 'thereby', 'all', 'i', 'but', 'hereafter', 'thereupon', 'yourself', 'in', 'as', 'cant', 'five', 'therefore', 'fill', 'whither', 'co', 'my', 'describe', 'sometime', 'however', 'six', 'whence', 'amoungst', 'she', 'their', 'into', 'ltd', 'anywhere', 'nobody', 'must', 'although', 'please', 'that', 'neither', 'made', 'together', 'us', 'whoever', 'have', 'can', 'enough', 'keep', 'indeed', 'besides', 'hence', 'hereupon', 'latterly', 'we', 'against', 'off', 'over', 'whole', 'others', 'cry', 'them', 'wherein', 'whatever', 'alone', 'is', 'what', 'thereafter', 'otherwise', 'below', 'go', 'who', 'bottom', 'perhaps', 'without', 'could', 'two', 'side', 'eleven', 'former', 'noone', 'sometimes', 'bill', 'move', 'hundred', 'if', 'call', 'yourselves', 'hereby', 'myself', 'here', 'about', 'across', 'name', 'seems', 'almost', 'amount', 'be', 'everywhere', 'fifty', 'found', 'four', 'much', 'something', 'thus', 'towards', 'give', 'namely', 'back', 'else', 'himself', 'after', 'several', 'should', 'three', 'because', 'de', 'first', 'once', 'empty', 'a', 'some', 'via', 'where', 'many', 'they', 'this', 'etc', 'somewhere', 'amongst', 'toward', 'except', 'every', 'latter'})\n",
      "318\n"
     ]
    }
   ],
   "source": [
    "from sklearn.feature_extraction import text\n",
    "stop_words = text.ENGLISH_STOP_WORDS\n",
    "print(stop_words)\n",
    "print(len(stop_words))"
   ]
  },
  {
   "cell_type": "markdown",
   "metadata": {},
   "source": [
    "For the detailed documentation of `CountVectorizer`, see\n",
    "\n",
    "http://scikit-learn.org/stable/modules/generated/sklearn.feature_extraction.text.CountVectorizer.html\n",
    "\n",
    "Note: `fit`, `fit_transform`, `transform` are common methods of all kinds of data transformers in `scikit learn`"
   ]
  },
  {
   "cell_type": "markdown",
   "metadata": {},
   "source": [
    "#### Demo"
   ]
  },
  {
   "cell_type": "code",
   "execution_count": 27,
   "metadata": {
    "collapsed": false
   },
   "outputs": [
    {
     "data": {
      "text/plain": [
       "<4x9 sparse matrix of type '<class 'numpy.int64'>'\n",
       "\twith 19 stored elements in Compressed Sparse Row format>"
      ]
     },
     "execution_count": 27,
     "metadata": {},
     "output_type": "execute_result"
    }
   ],
   "source": [
    "corpus = [\n",
    "    'This is the first document.',\n",
    "    'This is the second second document.',\n",
    "    'And the third one.',\n",
    "    'Is this the first document?',\n",
    "]\n",
    "\n",
    "# `fit_transform(corpus)` is equivalent to `fit(corpus)` then `transform(corpus)`\n",
    "X = vectorizer.fit_transform(corpus)\n",
    "X"
   ]
  },
  {
   "cell_type": "code",
   "execution_count": 28,
   "metadata": {
    "collapsed": false
   },
   "outputs": [
    {
     "data": {
      "text/plain": [
       "array([[0, 1, 1, 1, 0, 0, 1, 0, 1],\n",
       "       [0, 1, 0, 1, 0, 2, 1, 0, 1],\n",
       "       [1, 0, 0, 0, 1, 0, 1, 1, 0],\n",
       "       [0, 1, 1, 1, 0, 0, 1, 0, 1]], dtype=int64)"
      ]
     },
     "execution_count": 28,
     "metadata": {},
     "output_type": "execute_result"
    }
   ],
   "source": [
    "# use `toarray()` to convert sparse matrices to ordinary matrices (multi-dim arrays)\n",
    "X.toarray()"
   ]
  },
  {
   "cell_type": "code",
   "execution_count": 29,
   "metadata": {
    "collapsed": false
   },
   "outputs": [
    {
     "data": {
      "text/plain": [
       "(4, 9)"
      ]
     },
     "execution_count": 29,
     "metadata": {},
     "output_type": "execute_result"
    }
   ],
   "source": [
    "X.toarray().shape"
   ]
  },
  {
   "cell_type": "code",
   "execution_count": 30,
   "metadata": {
    "collapsed": false
   },
   "outputs": [
    {
     "data": {
      "text/plain": [
       "['and', 'document', 'first', 'is', 'one', 'second', 'the', 'third', 'this']"
      ]
     },
     "execution_count": 30,
     "metadata": {},
     "output_type": "execute_result"
    }
   ],
   "source": [
    "# feature names are terms\n",
    "vectorizer.get_feature_names()"
   ]
  },
  {
   "cell_type": "code",
   "execution_count": 31,
   "metadata": {
    "collapsed": false
   },
   "outputs": [
    {
     "data": {
      "text/plain": [
       "array([[0, 1, 0, 0, 0, 0, 0, 0, 0]])"
      ]
     },
     "execution_count": 31,
     "metadata": {},
     "output_type": "execute_result"
    }
   ],
   "source": [
    "test_corpus = [\n",
    "    'Another random document.'\n",
    "]\n",
    "\n",
    "# Use `transform` instead of `fit_transform` here, to only count\n",
    "# terms that are in the vocabulary of the training dataset\n",
    "Y = vectorizer.transform(test_corpus)\n",
    "# Here 'Another' and 'random' are just ignored\n",
    "Y.toarray()"
   ]
  },
  {
   "cell_type": "code",
   "execution_count": 32,
   "metadata": {
    "collapsed": false
   },
   "outputs": [
    {
     "data": {
      "text/plain": [
       "(1162, 6078)"
      ]
     },
     "execution_count": 32,
     "metadata": {},
     "output_type": "execute_result"
    }
   ],
   "source": [
    "# count_vect = CountVectorizer(min_df=3)\n",
    "count_vect = CountVectorizer(min_df=3, stop_words='english')\n",
    "# count_vect = CountVectorizer(stop_words='english', min_df=3, max_df=0.7)\n",
    "X_train_counts = count_vect.fit_transform(twenty_train.data)\n",
    "X_train_counts.shape # 1162 docs, 19610 terms in the training dataset"
   ]
  },
  {
   "cell_type": "code",
   "execution_count": 33,
   "metadata": {
    "collapsed": false
   },
   "outputs": [
    {
     "data": {
      "text/plain": [
       "(774, 6078)"
      ]
     },
     "execution_count": 33,
     "metadata": {},
     "output_type": "execute_result"
    }
   ],
   "source": [
    "X_test_counts = count_vect.transform(twenty_test.data)\n",
    "X_test_counts.shape # 774 docs, 19610 terms in the training dataset"
   ]
  },
  {
   "cell_type": "markdown",
   "metadata": {},
   "source": [
    "The feature names list returned by `get_feature_names()` can be used as the mapping from column index to feature name ;\n",
    "\n",
    "The converse mapping from feature name to column index is stored in the `vocabulary_` attribute of the vectorizer:"
   ]
  },
  {
   "cell_type": "code",
   "execution_count": 34,
   "metadata": {
    "collapsed": false
   },
   "outputs": [
    {
     "data": {
      "text/plain": [
       "6078"
      ]
     },
     "execution_count": 34,
     "metadata": {},
     "output_type": "execute_result"
    }
   ],
   "source": [
    "len(count_vect.get_feature_names())"
   ]
  },
  {
   "cell_type": "code",
   "execution_count": 35,
   "metadata": {
    "collapsed": false
   },
   "outputs": [
    {
     "name": "stdout",
     "output_type": "stream",
     "text": [
      "['blue', 'blvd', 'bm967', 'bmp', 'bmug', 'bnr', 'board', 'boards', 'boat', 'bob', 'bobc', 'body', 'boeing', 'boesel', 'boisvert', 'boivert', 'bolero', 'bolson', 'bonar', 'boned']\n",
      "--------------------\n",
      "1313\n",
      "circuitry\n"
     ]
    }
   ],
   "source": [
    "print(count_vect.get_feature_names()[1000:1020])\n",
    "print('-' * 20)\n",
    "print(count_vect.vocabulary_.get('circuitry'))\n",
    "print(count_vect.get_feature_names()[1313])"
   ]
  },
  {
   "cell_type": "markdown",
   "metadata": {},
   "source": [
    "### TF-IDF\n",
    "\n",
    "TF-IDF score is used to describe \"how important a word is to a document in a collection or corpus\" (from [Wikipedia - tf-idf](https://en.wikipedia.org/wiki/Tf%E2%80%93idf))\n",
    "\n",
    "$$TF\\times IDF(d,t)=tf(d,t)\\times idf(t)$$\n",
    "<hr>\n",
    "$$idf(t)=\\log(\\frac{n}{df(t)})+1$$\n",
    "\n",
    "- $tf(t, d)$: term frequency of term $t$ in the document $d$.\n",
    "\n",
    "\n",
    "- $idf(t)$: inverse document frequency of term $t$ across the document dataset.\n",
    "  - $df(t)$: # of documents that contain the term $t$.\n",
    "  - Intuition: words that appear in all documents are useless in classificaiton.\n",
    "  \n",
    "The formula that is used to compute the tf-idf of term t is tf-idf(d, t) = tf(t) * idf(d, t), and the idf is computed as idf(d, t) = log [ n / df(d, t) ] + 1 (if smooth_idf=False), where n is the total number of documents and df(d, t) is the document frequency; the document frequency is the number of documents d that contain term t. The effect of adding “1” to the idf in the equation above is that terms with zero idf, i.e., terms that occur in all documents in a training set, will not be entirely ignored. (Note that the idf formula above differs from the standard textbook notation that defines the idf as idf(d, t) = log [ n / (df(d, t) + 1) ]).\n",
    "\n",
    "If smooth_idf=True (the default), the constant “1” is added to the numerator and denominator of the idf as if an extra document was seen containing every term in the collection exactly once, which prevents zero divisions: idf(d, t) = log [ (1 + n) / (1 + df(d, t)) ] + 1."
   ]
  },
  {
   "cell_type": "code",
   "execution_count": 36,
   "metadata": {
    "collapsed": false,
    "scrolled": false
   },
   "outputs": [
    {
     "name": "stdout",
     "output_type": "stream",
     "text": [
      "(1162, 6078)\n",
      "--------------------\n",
      "[[0 0 0 0 0]\n",
      " [0 0 0 0 0]\n",
      " [0 0 0 0 0]\n",
      " [0 0 0 0 0]\n",
      " [0 0 0 0 0]\n",
      " [0 0 0 0 0]\n",
      " [0 0 0 0 0]\n",
      " [0 0 0 0 0]\n",
      " [0 0 0 0 2]\n",
      " [0 0 0 0 0]\n",
      " [0 0 0 0 0]\n",
      " [0 0 0 0 0]\n",
      " [0 0 0 0 0]\n",
      " [0 0 0 0 0]\n",
      " [0 0 0 0 0]\n",
      " [0 0 0 0 0]\n",
      " [0 0 0 0 0]\n",
      " [0 0 0 0 0]\n",
      " [0 0 0 0 0]\n",
      " [0 0 0 0 0]\n",
      " [0 0 0 0 0]\n",
      " [0 0 0 0 0]\n",
      " [0 1 0 0 0]\n",
      " [0 0 0 0 0]\n",
      " [0 0 0 0 0]\n",
      " [0 0 0 0 0]\n",
      " [0 0 0 0 0]\n",
      " [0 0 0 0 0]\n",
      " [0 0 0 0 0]\n",
      " [0 0 0 0 0]]\n",
      "--------------------\n",
      "[[0.         0.         0.         0.         0.        ]\n",
      " [0.         0.         0.         0.         0.        ]\n",
      " [0.         0.         0.         0.         0.        ]\n",
      " [0.         0.         0.         0.         0.        ]\n",
      " [0.         0.         0.         0.         0.        ]\n",
      " [0.         0.         0.         0.         0.        ]\n",
      " [0.         0.         0.         0.         0.        ]\n",
      " [0.         0.         0.         0.         0.        ]\n",
      " [0.         0.         0.         0.         0.08238187]\n",
      " [0.         0.         0.         0.         0.        ]\n",
      " [0.         0.         0.         0.         0.        ]\n",
      " [0.         0.         0.         0.         0.        ]\n",
      " [0.         0.         0.         0.         0.        ]\n",
      " [0.         0.         0.         0.         0.        ]\n",
      " [0.         0.         0.         0.         0.        ]\n",
      " [0.         0.         0.         0.         0.        ]\n",
      " [0.         0.         0.         0.         0.        ]\n",
      " [0.         0.         0.         0.         0.        ]\n",
      " [0.         0.         0.         0.         0.        ]\n",
      " [0.         0.         0.         0.         0.        ]\n",
      " [0.         0.         0.         0.         0.        ]\n",
      " [0.         0.         0.         0.         0.        ]\n",
      " [0.         0.1035171  0.         0.         0.        ]\n",
      " [0.         0.         0.         0.         0.        ]\n",
      " [0.         0.         0.         0.         0.        ]\n",
      " [0.         0.         0.         0.         0.        ]\n",
      " [0.         0.         0.         0.         0.        ]\n",
      " [0.         0.         0.         0.         0.        ]\n",
      " [0.         0.         0.         0.         0.        ]\n",
      " [0.         0.         0.         0.         0.        ]]\n"
     ]
    }
   ],
   "source": [
    "from sklearn.feature_extraction.text import TfidfTransformer\n",
    "tfidf_transformer = TfidfTransformer()\n",
    "\n",
    "# recall that X_train_counts = count_vect.fit_transform(twenty_train.data)\n",
    "X_train_tfidf = tfidf_transformer.fit_transform(X_train_counts)\n",
    "print(X_train_tfidf.shape)\n",
    "print('-' * 20)\n",
    "print(X_train_counts.toarray()[:30,:5])\n",
    "print('-' * 20)\n",
    "print(X_train_tfidf.toarray()[:30,:5])"
   ]
  },
  {
   "cell_type": "markdown",
   "metadata": {},
   "source": [
    "## Training a classifier\n",
    "\n",
    "Let's train a classifier to predict the category of a post."
   ]
  },
  {
   "cell_type": "code",
   "execution_count": 37,
   "metadata": {
    "collapsed": true
   },
   "outputs": [],
   "source": [
    "# We use Naive Bayes classifier as an example\n",
    "from sklearn.naive_bayes import MultinomialNB\n",
    "clf = MultinomialNB().fit(X_train_tfidf, twenty_train.target)"
   ]
  },
  {
   "cell_type": "code",
   "execution_count": 38,
   "metadata": {
    "collapsed": false
   },
   "outputs": [
    {
     "name": "stdout",
     "output_type": "stream",
     "text": [
      "'He is an OS developer' => comp.sys.mac.hardware\n",
      "'OpenGL on the GPU is fast' => comp.graphics\n"
     ]
    }
   ],
   "source": [
    "docs_new = ['He is an OS developer', 'OpenGL on the GPU is fast']\n",
    "# ['comp.graphics', 'comp.sys.mac.hardware']\n",
    "X_new_counts = count_vect.transform(docs_new)\n",
    "X_new_tfidf = tfidf_transformer.transform(X_new_counts)\n",
    "\n",
    "predicted = clf.predict(X_new_tfidf)\n",
    "\n",
    "for doc, category in zip(docs_new, predicted):\n",
    "    print('%r => %s' % (doc, twenty_train.target_names[category]))"
   ]
  },
  {
   "cell_type": "code",
   "execution_count": 39,
   "metadata": {
    "collapsed": false
   },
   "outputs": [
    {
     "data": {
      "text/plain": [
       "array([1, 0])"
      ]
     },
     "execution_count": 39,
     "metadata": {},
     "output_type": "execute_result"
    }
   ],
   "source": [
    "predicted"
   ]
  },
  {
   "cell_type": "code",
   "execution_count": 40,
   "metadata": {
    "collapsed": false
   },
   "outputs": [
    {
     "data": {
      "text/plain": [
       "array([1, 0])"
      ]
     },
     "execution_count": 40,
     "metadata": {},
     "output_type": "execute_result"
    }
   ],
   "source": [
    "from sklearn.svm import LinearSVC\n",
    "LinearSVC().fit(X_train_tfidf, twenty_train.target).predict(X_new_tfidf)"
   ]
  },
  {
   "cell_type": "markdown",
   "metadata": {},
   "source": [
    "## Dimensionality reduction"
   ]
  },
  {
   "cell_type": "markdown",
   "metadata": {},
   "source": [
    "### NMF: Non-negative matrix factorization\n",
    "\\begin{array}{cc}\n",
    "\\min_\\limits{\\mathbf{W}, \\mathbf{H}} & \\lVert\\mathbf{X} - \\mathbf{W}\\mathbf{H}\\rVert_F^2 \\\\\n",
    "s.t. & \\mathbf{W} \\ge 0 \\\\\n",
    "& \\mathbf{H} \\ge 0\n",
    "\\end{array}\n",
    "\n",
    "$\\mathbf{X} \\in \\mathbb{R}^{m\\times n}$,\n",
    "\n",
    "$\\mathbf{W} \\in \\mathbb{R}^{m\\times k}$, $\\mathbf{H} \\in \\mathbb{R}^{k\\times n}$, $k < \\mathrm{rank}(\\mathbf{X})$"
   ]
  },
  {
   "cell_type": "code",
   "execution_count": 41,
   "metadata": {
    "collapsed": false
   },
   "outputs": [
    {
     "name": "stdout",
     "output_type": "stream",
     "text": [
      "(1162, 50)\n"
     ]
    }
   ],
   "source": [
    "from sklearn.decomposition import NMF\n",
    "\n",
    "model = NMF(n_components=50, init='random', random_state=0)\n",
    "W_train = model.fit_transform(X_train_tfidf)\n",
    "\n",
    "print(W_train.shape)"
   ]
  },
  {
   "cell_type": "code",
   "execution_count": 42,
   "metadata": {
    "collapsed": false
   },
   "outputs": [
    {
     "data": {
      "text/plain": [
       "(50, 6078)"
      ]
     },
     "execution_count": 42,
     "metadata": {},
     "output_type": "execute_result"
    }
   ],
   "source": [
    "H = model.components_\n",
    "H.shape"
   ]
  },
  {
   "cell_type": "code",
   "execution_count": 43,
   "metadata": {
    "collapsed": true
   },
   "outputs": [],
   "source": [
    "import numpy as np"
   ]
  },
  {
   "cell_type": "code",
   "execution_count": 47,
   "metadata": {
    "collapsed": false
   },
   "outputs": [
    {
     "data": {
      "text/plain": [
       "array([[ 1,  4, 16],\n",
       "       [ 9, 16, 64]])"
      ]
     },
     "execution_count": 47,
     "metadata": {},
     "output_type": "execute_result"
    }
   ],
   "source": [
    "np.array([[1,2,4],[3,4,8]]) ** 2"
   ]
  },
  {
   "cell_type": "code",
   "execution_count": 93,
   "metadata": {
    "collapsed": false
   },
   "outputs": [
    {
     "data": {
      "text/plain": [
       "<1162x6078 sparse matrix of type '<class 'numpy.float64'>'\n",
       "\twith 83106 stored elements in Compressed Sparse Row format>"
      ]
     },
     "execution_count": 93,
     "metadata": {},
     "output_type": "execute_result"
    }
   ],
   "source": [
    "X_train_tfidf"
   ]
  },
  {
   "cell_type": "code",
   "execution_count": 54,
   "metadata": {
    "collapsed": false
   },
   "outputs": [
    {
     "data": {
      "text/plain": [
       "923.006177178758"
      ]
     },
     "execution_count": 54,
     "metadata": {},
     "output_type": "execute_result"
    }
   ],
   "source": [
    "np.sum(np.array(X_train_tfidf - W_train.dot(H))**2)"
   ]
  },
  {
   "cell_type": "code",
   "execution_count": 57,
   "metadata": {
    "collapsed": false
   },
   "outputs": [
    {
     "name": "stdout",
     "output_type": "stream",
     "text": [
      "'He is an OS developer' => comp.graphics\n",
      "'OpenGL on the GPU is fast' => comp.graphics\n"
     ]
    }
   ],
   "source": [
    "W_test = model.transform(X_new_tfidf)\n",
    "\n",
    "clf = MultinomialNB().fit(W_train, twenty_train.target)\n",
    "\n",
    "predicted = clf.predict(W_test)\n",
    "\n",
    "for doc, category in zip(docs_new, predicted):\n",
    "    print('%r => %s' % (doc, twenty_train.target_names[category]))"
   ]
  },
  {
   "cell_type": "code",
   "execution_count": 58,
   "metadata": {
    "collapsed": false
   },
   "outputs": [
    {
     "data": {
      "text/plain": [
       "array([0, 0])"
      ]
     },
     "execution_count": 58,
     "metadata": {},
     "output_type": "execute_result"
    }
   ],
   "source": [
    "from sklearn.svm import LinearSVC\n",
    "LinearSVC(loss='hinge',C=0.01).fit(W_train, twenty_train.target).predict(W_test)"
   ]
  },
  {
   "cell_type": "markdown",
   "metadata": {},
   "source": [
    "### LSA/LSI\n",
    "\n",
    "https://simonpaarlberg.com/post/latent-semantic-analyses/"
   ]
  },
  {
   "cell_type": "code",
   "execution_count": 59,
   "metadata": {
    "collapsed": false
   },
   "outputs": [
    {
     "name": "stdout",
     "output_type": "stream",
     "text": [
      "(1162, 50)\n"
     ]
    }
   ],
   "source": [
    "from sklearn.decomposition import TruncatedSVD\n",
    "\n",
    "svd = TruncatedSVD(n_components=50, random_state=0)\n",
    "X_train_reduced = svd.fit_transform(X_train_tfidf)\n",
    "print(X_train_reduced.shape)"
   ]
  },
  {
   "cell_type": "code",
   "execution_count": 60,
   "metadata": {
    "collapsed": false
   },
   "outputs": [
    {
     "name": "stdout",
     "output_type": "stream",
     "text": [
      "'He is an OS developer' => comp.graphics\n",
      "'OpenGL on the GPU is fast' => comp.graphics\n"
     ]
    }
   ],
   "source": [
    "X_new_reduced = model.transform(X_new_tfidf)\n",
    "\n",
    "clf = LinearSVC().fit(X_train_reduced, twenty_train.target)\n",
    "\n",
    "predicted = clf.predict(X_new_reduced)\n",
    "\n",
    "for doc, category in zip(docs_new, predicted):\n",
    "    print('%r => %s' % (doc, twenty_train.target_names[category]))"
   ]
  },
  {
   "cell_type": "markdown",
   "metadata": {},
   "source": [
    "## Feature Engineering: Stemming & Lemmatization"
   ]
  },
  {
   "cell_type": "markdown",
   "metadata": {},
   "source": [
    "### NLTK\n",
    "1. Download NLTK package\n",
    "  1. `conda install -c anaconda nltk` <br>or\n",
    "  2. `pip install nltk`\n",
    "2. Have the stopwords corpus on your computer\n",
    "  1. `nltk.download()` if you want to download any data in NLTK\n",
    "  2. instruction for downloading can be found http://www.nltk.org/data.html\n",
    "3. More detailed information can be found \n",
    "  1. http://www.nltk.org/api/nltk.stem.html#module-nltk.stem\n",
    "  2. https://www.kaggle.com/alvations/basic-nlp-with-nltk"
   ]
  },
  {
   "cell_type": "markdown",
   "metadata": {},
   "source": [
    "### Use custom stop words"
   ]
  },
  {
   "cell_type": "code",
   "execution_count": 61,
   "metadata": {
    "collapsed": false
   },
   "outputs": [
    {
     "name": "stdout",
     "output_type": "stream",
     "text": [
      "# of stop_words_skt:\t\t 318\n",
      "# of stop_words_en:\t\t 153\n",
      "# of punctuation:\t\t 32\n",
      "# of combined_stopwords:\t 384\n"
     ]
    }
   ],
   "source": [
    "from sklearn.feature_extraction import text\n",
    "stop_words_skt = text.ENGLISH_STOP_WORDS\n",
    "from nltk.corpus import stopwords\n",
    "#nltk.download('stopwords')\n",
    "stop_words_en = stopwords.words('english')\n",
    "\n",
    "print(\"# of stop_words_skt:\\t\\t %s\" % len(stop_words_skt))\n",
    "print(\"# of stop_words_en:\\t\\t %s\" % len(stop_words_en))\n",
    "\n",
    "from string import punctuation\n",
    "print(\"# of punctuation:\\t\\t %s\" % len(punctuation))\n",
    "combined_stopwords = set.union(set(stop_words_en),set(punctuation),set(stop_words_skt))\n",
    "print(\"# of combined_stopwords:\\t %s\" % len(combined_stopwords))"
   ]
  },
  {
   "cell_type": "markdown",
   "metadata": {},
   "source": [
    "### Stemming and Lemmatization\n",
    "Often we want to map the different forms of the same word to the same root word, e.g. \"walks\", \"walking\", \"walked\" should all be the same as \"walk\".\n",
    "\n",
    "The stemming and lemmatization process are hand-written regex rules written find the root word.\n",
    "\n",
    "1. Stemming: Trying to shorten a word with simple regex rules\n",
    "\n",
    "2. Lemmatization: Trying to find the root word with linguistics rules (with the use of regexes)"
   ]
  },
  {
   "cell_type": "markdown",
   "metadata": {},
   "source": [
    "#### Stemming"
   ]
  },
  {
   "cell_type": "code",
   "execution_count": 62,
   "metadata": {
    "collapsed": false,
    "scrolled": true
   },
   "outputs": [
    {
     "name": "stdout",
     "output_type": "stream",
     "text": [
      "-------------------- PorterStemmer --------------------\n",
      "grow\n",
      "doe\n",
      "leav\n",
      "fairli\n",
      "articl\n",
      "-------------------- SnowballStemmer --------------------\n",
      "grow\n",
      "doe\n",
      "leav\n",
      "fair\n",
      "articl\n"
     ]
    }
   ],
   "source": [
    "# popular stemmers\n",
    "import nltk\n",
    "ps = nltk.stem.PorterStemmer()\n",
    "test_list = ['grows','does','leaves','fairly','article']\n",
    "print(\"-\"*20 + \" PorterStemmer \" + \"-\"*20)\n",
    "for item in test_list:\n",
    "    print(ps.stem(item))\n",
    "\n",
    "print(\"-\"*20 + \" SnowballStemmer \" + \"-\"*20)\n",
    "sno = nltk.stem.SnowballStemmer('english')\n",
    "for item in test_list:\n",
    "    print(sno.stem(item))"
   ]
  },
  {
   "cell_type": "markdown",
   "metadata": {},
   "source": [
    "#### Lemmatizer\n",
    "1. Lemmatize using WordNet’s built-in morphy function. Returns the input word unchanged if it cannot be found in WordNet. The default pos=NOUN.\n",
    "2. The lemmatizer is actually pretty complicated, it needs Parts of Speech (POS) tags\n",
    "3. 'pos_tag' takes the tokenized sentence as input, i.e. list of string,and returns a tuple of (word, tg), i.e. list of tuples of strings\n",
    "  1. pos_tag uses  Penn Treebank http://www.ling.upenn.edu/courses/Fall_2003/ling001/penn_treebank_pos.html\n",
    "  2. We can just map some of them to wordnet\n",
    "  3. In the wordnet (ADJ, ADJ_SAT, ADV, NOUN, VERB = 'a', 's', 'r', 'n', 'v', POS_LIST = [NOUN, VERB, ADJ, ADV])\n",
    "     You can find detailed information here http://www.nltk.org/_modules/nltk/corpus/reader/wordnet.html\n"
   ]
  },
  {
   "cell_type": "code",
   "execution_count": 63,
   "metadata": {
    "collapsed": false
   },
   "outputs": [
    {
     "name": "stdout",
     "output_type": "stream",
     "text": [
      "-------------------- WordNetLemmatizer --------------------\n",
      "grows\n",
      "doe\n",
      "leaf\n",
      "fairly\n",
      "article\n",
      "-------------------- Another example for WordNetLemmatizer --------------------\n",
      "walking\n",
      "walk\n",
      "walked\n",
      "<WordNetLemmatizer>\n"
     ]
    }
   ],
   "source": [
    "import nltk\n",
    "#nltk.download()#, if you need \"corpora/wordnet\", choose it\n",
    "wnl = nltk.wordnet.WordNetLemmatizer()\n",
    "#lemmatize(word, pos='n')\n",
    "print(\"-\"*20 + \" WordNetLemmatizer \" + \"-\"*20)\n",
    "for item in test_list:\n",
    "    print(wnl.lemmatize(item))\n",
    "print(\"-\"*20 + \" Another example for WordNetLemmatizer \" + \"-\"*20)\n",
    "for word in ['walking', 'walks', 'walked']:\n",
    "    print(wnl.lemmatize(word))\n",
    "print(wnl)"
   ]
  },
  {
   "cell_type": "code",
   "execution_count": 64,
   "metadata": {
    "collapsed": false
   },
   "outputs": [
    {
     "name": "stdout",
     "output_type": "stream",
     "text": [
      "[('He', 'PRP'), ('is', 'VBZ'), ('walking', 'VBG'), ('to', 'TO'), ('school', 'NN')]\n",
      "mapping to Verb, Noun, Adjective, Adverbial\n"
     ]
    },
    {
     "data": {
      "text/plain": [
       "['he', 'be', 'walk', 'to', 'school']"
      ]
     },
     "execution_count": 64,
     "metadata": {},
     "output_type": "execute_result"
    }
   ],
   "source": [
    "# one example for advanced stemming\n",
    "# The lemmatizer is actually pretty complicated, it needs Parts of Speech (POS) tags\n",
    "from nltk import pos_tag\n",
    "# nltk.download('punkt')#, if you need \"tokenizers/punkt/english.pickle\", choose it\n",
    "# nltk.download('averaged_perceptron_tagger')\n",
    "wnl = nltk.wordnet.WordNetLemmatizer()\n",
    "walking_tagged = pos_tag(nltk.word_tokenize('He is walking to school'))\n",
    "print(walking_tagged)\n",
    "print(\"mapping to Verb, Noun, Adjective, Adverbial\")\n",
    "\n",
    "def penn2morphy(penntag):\n",
    "    \"\"\" Converts Penn Treebank tags to WordNet. \"\"\"\n",
    "    morphy_tag = {'NN':'n', 'JJ':'a',\n",
    "                  'VB':'v', 'RB':'r'}\n",
    "    try:\n",
    "        return morphy_tag[penntag[:2]]\n",
    "    except:\n",
    "        return 'n'\n",
    "\n",
    "def lemmatize_sent_demo(text):\n",
    "    # Text input is string, returns array of lowercased strings(words).\n",
    "    return [wnl.lemmatize(word.lower(), pos=penn2morphy(tag)) \n",
    "            for word, tag in pos_tag(nltk.word_tokenize(text))]\n",
    "def lemmatize_sent(list_word):\n",
    "    # Text input is string, returns array of lowercased strings(words).\n",
    "    return [wnl.lemmatize(word.lower(), pos=penn2morphy(tag)) \n",
    "            for word, tag in pos_tag(list_word)]\n",
    "\n",
    "lemmatize_sent_demo('He is walking to school')"
   ]
  },
  {
   "cell_type": "code",
   "execution_count": 65,
   "metadata": {
    "collapsed": false
   },
   "outputs": [
    {
     "data": {
      "text/plain": [
       "['he', 'be', 'walk', 'to', 'school']"
      ]
     },
     "execution_count": 65,
     "metadata": {},
     "output_type": "execute_result"
    }
   ],
   "source": [
    "lemmatize_sent(['He', 'is', 'walking', 'to', 'school'])"
   ]
  },
  {
   "cell_type": "code",
   "execution_count": 66,
   "metadata": {
    "collapsed": true
   },
   "outputs": [],
   "source": [
    "# tokenize -> stem -> remove punctuation & stop words\n",
    "import numpy as np\n",
    "import matplotlib.pyplot as plt\n",
    "from pickle import dump\n",
    "\n",
    "from sklearn.datasets import fetch_20newsgroups\n",
    "comp_categories = [ 'comp.graphics', 'comp.os.ms-windows.misc', 'comp.sys.ibm.pc.hardware', 'comp.sys.mac.hardware']\n",
    "rec_categories = ['rec.autos', 'rec.motorcycles', 'rec.sport.baseball', 'rec.sport.hockey']\n",
    "twenty_train = fetch_20newsgroups(subset='train', categories=comp_categories+rec_categories, shuffle=True, random_state=42,)\n",
    "twenty_test = fetch_20newsgroups(subset='test', categories=comp_categories+rec_categories, shuffle=True, random_state=42,)\n",
    "counts = []"
   ]
  },
  {
   "cell_type": "code",
   "execution_count": 67,
   "metadata": {
    "collapsed": false
   },
   "outputs": [
    {
     "data": {
      "text/plain": [
       "4732"
      ]
     },
     "execution_count": 67,
     "metadata": {},
     "output_type": "execute_result"
    }
   ],
   "source": [
    "len(twenty_train.data)"
   ]
  },
  {
   "cell_type": "markdown",
   "metadata": {},
   "source": [
    "CountVectorizer().build_analyzer()  \"\"\"Return a callable that handles preprocessing and tokenization\"\"\"\n",
    "https://github.com/scikit-learn/scikit-learn/blob/a24c8b46/sklearn/feature_extraction/text.py#L247\n"
   ]
  },
  {
   "cell_type": "code",
   "execution_count": 68,
   "metadata": {
    "collapsed": true
   },
   "outputs": [],
   "source": [
    "# overwrite analyzer with callable function:\n",
    "from sklearn.feature_extraction.text import CountVectorizer\n",
    "analyzer = CountVectorizer().build_analyzer()\n",
    "\n",
    "def stemmed_words(doc):\n",
    "    return (stemmer.stem(w) for w in analyzer(doc))\n",
    "\n",
    "def stem_rmv_punc(doc):\n",
    "    return (word for word in lemmatize_sent(analyzer(doc)) if word not in combined_stopwords and not word.isdigit())"
   ]
  },
  {
   "cell_type": "code",
   "execution_count": 69,
   "metadata": {
    "collapsed": false
   },
   "outputs": [
    {
     "name": "stdout",
     "output_type": "stream",
     "text": [
      "(4732, 69068)\n",
      "(4732, 24849)\n",
      "(4732, 16292)\n",
      "(4732, 12640)\n"
     ]
    }
   ],
   "source": [
    "from sklearn.feature_extraction.text import CountVectorizer\n",
    "min_dfs = range(1,5)\n",
    "for min_df in min_dfs:\n",
    "    count_vect1 = CountVectorizer(min_df=min_df,analyzer=stem_rmv_punc, stop_words='english')\n",
    "    X_train_counts1 = count_vect1.fit_transform(twenty_train.data)\n",
    "    print(X_train_counts1.shape)"
   ]
  },
  {
   "cell_type": "code",
   "execution_count": 70,
   "metadata": {
    "collapsed": false,
    "scrolled": true
   },
   "outputs": [
    {
     "data": {
      "text/plain": [
       "CountVectorizer(analyzer=<function stem_rmv_punc at 0x1a186d9598>,\n",
       "        binary=False, decode_error='strict', dtype=<class 'numpy.int64'>,\n",
       "        encoding='utf-8', input='content', lowercase=True, max_df=1.0,\n",
       "        max_features=None, min_df=4, ngram_range=(1, 1), preprocessor=None,\n",
       "        stop_words='english', strip_accents=None,\n",
       "        token_pattern='(?u)\\\\b\\\\w\\\\w+\\\\b', tokenizer=None, vocabulary=None)"
      ]
     },
     "execution_count": 70,
     "metadata": {},
     "output_type": "execute_result"
    }
   ],
   "source": [
    "count_vect1"
   ]
  },
  {
   "cell_type": "markdown",
   "metadata": {},
   "source": [
    "## Evaluation of a Classifier"
   ]
  },
  {
   "cell_type": "code",
   "execution_count": 71,
   "metadata": {
    "collapsed": false,
    "slideshow": {
     "slide_type": "skip"
    }
   },
   "outputs": [
    {
     "data": {
      "text/html": [
       "<style>\n",
       "// add your CSS styling here\n",
       "</style>\n",
       "<style>\n",
       ".visualhide {\n",
       "    position: absolute;\n",
       "    left: -10000px;\n",
       "    top: auto;\n",
       "    width: 1px;\n",
       "    height: 1px;\n",
       "    overflow: hidden;\n",
       "}\n",
       "table.wikitable {\n",
       "    background-color: #f8f9fa;\n",
       "    color: #222;\n",
       "    margin: 1em 0;\n",
       "    border: 1px solid #a2a9b1;\n",
       "    border-collapse: collapse;\n",
       "}\n",
       ".rendered_html td {\n",
       "    text-align: center;\n",
       "}\n",
       ".rendered_html tbody tr:nth-child(odd) {\n",
       "    background: transparent;\n",
       "}\n",
       "</style>"
      ],
      "text/plain": [
       "<IPython.core.display.HTML object>"
      ]
     },
     "metadata": {},
     "output_type": "execute_result"
    }
   ],
   "source": [
    "%%html\n",
    "<style>\n",
    "// add your CSS styling here\n",
    "</style>\n",
    "<style>\n",
    ".visualhide {\n",
    "    position: absolute;\n",
    "    left: -10000px;\n",
    "    top: auto;\n",
    "    width: 1px;\n",
    "    height: 1px;\n",
    "    overflow: hidden;\n",
    "}\n",
    "table.wikitable {\n",
    "    background-color: #f8f9fa;\n",
    "    color: #222;\n",
    "    margin: 1em 0;\n",
    "    border: 1px solid #a2a9b1;\n",
    "    border-collapse: collapse;\n",
    "}\n",
    ".rendered_html td {\n",
    "    text-align: center;\n",
    "}\n",
    ".rendered_html tbody tr:nth-child(odd) {\n",
    "    background: transparent;\n",
    "}\n",
    "</style>"
   ]
  },
  {
   "cell_type": "markdown",
   "metadata": {
    "slideshow": {
     "slide_type": "slide"
    }
   },
   "source": [
    "### Confusion Matrix\n",
    "\n",
    "See [Wikipedia - Confusion matrix](https://en.wikipedia.org/wiki/Confusion_matrix)\n",
    "\n",
    "Each **row** of the matrix represents the instances in a **predicted class**<br> while each **column** represents the instances in an **actual class** (or vice versa).\n",
    "\n",
    "Many statistics can be derived from the **Confusion Matrix**.\n",
    "\n",
    "Below is an example for binary classification, where by convention we call one class as **Positive** and another as **Negative**.\n",
    "<table class=\"wikitable\" align=\"center\" style=\"text-align:center; border:none; background:transparent;\">\n",
    "<tbody><tr>\n",
    "<td style=\"border:none;\" colspan=\"2\"></td>\n",
    "<td style=\"background:#eeeebb;\" colspan=\"2\"><b>True condition</b></td>\n",
    "</tr>\n",
    "<tr>\n",
    "<td style=\"border:none;\"></td>\n",
    "<td style=\"background:#dddddd;\"><a href=\"https://en.wikipedia.org/wiki/Statistical_population\" title=\"Statistical population\">Total population</a></td>\n",
    "<td style=\"background:#ffffcc;\">Condition positive</td>\n",
    "<td style=\"background:#ddddaa;\">Condition negative</td>\n",
    "<td style=\"background:#eeeecc;font-size:90%;\"><a href=\"https://en.wikipedia.org/wiki/Prevalence\" title=\"Prevalence\">Prevalence</a> <span style=\"font-size:118%;white-space:nowrap;\">= <span class=\"sfrac nowrap\" style=\"display:inline-block; vertical-align:-0.5em; font-size:85%; text-align:center;\"><span style=\"display:block; line-height:1em; margin:0 0.1em;\">Σ&nbsp;Condition positive</span><span class=\"visualhide\">/</span><span style=\"display:block; line-height:1em; margin:0 0.1em; border-top:1px solid;\">Σ&nbsp;Total population</span></span></span></td>\n",
    "<td style=\"background:#cceecc;border-left:double silver;font-size:90%;\" colspan=\"2\"><a href=\"https://en.wikipedia.org/wiki/Accuracy_and_precision\" title=\"Accuracy and precision\">Accuracy</a> (ACC) = <span style=\"font-size:118%;\"><span class=\"sfrac nowrap\" style=\"display:inline-block; vertical-align:-0.5em; font-size:85%; text-align:center;\"><span style=\"display:block; line-height:1em; margin:0 0.1em;\">Σ&nbsp;True positive + Σ True negative</span><span class=\"visualhide\">/</span><span style=\"display:block; line-height:1em; margin:0 0.1em; border-top:1px solid;\">Σ&nbsp;Total population</span></span></span></td>\n",
    "</tr>\n",
    "<tr>\n",
    "<td style=\"background:#bbeeee;\" rowspan=\"2\"><b>Predicted<br>\n",
    "condition</b></td>\n",
    "<td style=\"background:#ccffff;\">Predicted condition<br>\n",
    "positive</td>\n",
    "<td style=\"background:#ccffcc;\"><span style=\"color:#006600;\"><b><a href=\"https://en.wikipedia.org/wiki/True_positive\" class=\"mw-redirect\" title=\"True positive\">True positive</a></b>,<br>\n",
    "<a href=\"https://en.wikipedia.org/wiki/Statistical_power\" title=\"Statistical power\">Power</a></span></td>\n",
    "<td style=\"background:#eedddd;\"><span style=\"color:#cc0000;\"><b><a href=\"https://en.wikipedia.org/wiki/False_positive\" class=\"mw-redirect\" title=\"False positive\">False positive</a></b>,<br>\n",
    "<a href=\"https://en.wikipedia.org/wiki/Type_I_error\" class=\"mw-redirect\" title=\"Type I error\">Type I error</a></span></td>\n",
    "<td style=\"background:#ccffee;border-top:double silver;font-size:90%;\"><a href=\"https://en.wikipedia.org/wiki/Positive_predictive_value\" class=\"mw-redirect\" title=\"Positive predictive value\">Positive predictive value</a> (PPV), <a href=\"https://en.wikipedia.org/wiki/Precision_(information_retrieval)\" class=\"mw-redirect\" title=\"Precision (information retrieval)\">Precision</a> = <span style=\"font-size:118%;white-space:nowrap;\"><span class=\"sfrac nowrap\" style=\"display:inline-block; vertical-align:-0.5em; font-size:85%; text-align:center;\"><span style=\"display:block; line-height:1em; margin:0 0.1em;\">Σ True positive</span><span class=\"visualhide\">/</span><span style=\"display:block; line-height:1em; margin:0 0.1em; border-top:1px solid;\">Σ&nbsp;Predicted&nbsp;condition&nbsp;positive</span></span></span></td>\n",
    "<td style=\"background:#cceeff;border-top:double silver;font-size:90%;\" colspan=\"2\"><a href=\"https://en.wikipedia.org/wiki/False_discovery_rate\" title=\"False discovery rate\">False discovery rate</a> (FDR) = <span style=\"font-size:118%;white-space:nowrap;\"><span class=\"sfrac nowrap\" style=\"display:inline-block; vertical-align:-0.5em; font-size:85%; text-align:center;\"><span style=\"display:block; line-height:1em; margin:0 0.1em;\">Σ False positive</span><span class=\"visualhide\">/</span><span style=\"display:block; line-height:1em; margin:0 0.1em; border-top:1px solid;\">Σ&nbsp;Predicted&nbsp;condition&nbsp;positive</span></span></span></td>\n",
    "</tr>\n",
    "<tr>\n",
    "<td style=\"background:#aadddd;\">Predicted condition<br>\n",
    "negative</td>\n",
    "<td style=\"background:#ffdddd;\"><span style=\"color:#cc0000;\"><b><a href=\"https://en.wikipedia.org/wiki/False_negative\" class=\"mw-redirect\" title=\"False negative\">False negative</a></b>,<br>\n",
    "<a href=\"https://en.wikipedia.org/wiki/Type_II_error\" class=\"mw-redirect\" title=\"Type II error\">Type II error</a></span></td>\n",
    "<td style=\"background:#bbeebb;\"><span style=\"color:#006600;\"><b><a href=\"https://en.wikipedia.org/wiki/True_negative\" class=\"mw-redirect\" title=\"True negative\">True negative</a></b></span></td>\n",
    "<td style=\"background:#eeddee;border-bottom:double silver;font-size:90%;\"><a href=\"https://en.wikipedia.org/wiki/False_omission_rate\" class=\"mw-redirect\" title=\"False omission rate\">False omission rate</a> (FOR) = <span style=\"font-size:118%;white-space:nowrap;\"><span class=\"sfrac nowrap\" style=\"display:inline-block; vertical-align:-0.5em; font-size:85%; text-align:center;\"><span style=\"display:block; line-height:1em; margin:0 0.1em;\">Σ False negative</span><span class=\"visualhide\">/</span><span style=\"display:block; line-height:1em; margin:0 0.1em; border-top:1px solid;\">Σ&nbsp;Predicted&nbsp;condition&nbsp;negative</span></span></span></td>\n",
    "<td style=\"background:#aaddcc;border-bottom:double silver;font-size:90%;\" colspan=\"2\"><a href=\"https://en.wikipedia.org/wiki/Negative_predictive_value\" class=\"mw-redirect\" title=\"Negative predictive value\">Negative predictive value</a> (NPV) = <span style=\"font-size:118%;white-space:nowrap;\"><span class=\"sfrac nowrap\" style=\"display:inline-block; vertical-align:-0.5em; font-size:85%; text-align:center;\"><span style=\"display:block; line-height:1em; margin:0 0.1em;\">Σ True negative</span><span class=\"visualhide\">/</span><span style=\"display:block; line-height:1em; margin:0 0.1em; border-top:1px solid;\">Σ&nbsp;Predicted&nbsp;condition&nbsp;negative</span></span></span></td>\n",
    "</tr>\n",
    "<tr style=\"font-size:90%;\">\n",
    "<td style=\"border:none;vertical-align:bottom;padding:0 2px 0 0;color:#999999;\" colspan=\"2\" rowspan=\"2\"></td>\n",
    "<td style=\"background:#eeffcc;\"><a href=\"https://en.wikipedia.org/wiki/True_positive_rate\" class=\"mw-redirect\" title=\"True positive rate\">True positive rate</a> (TPR), <a href=\"https://en.wikipedia.org/wiki/Recall_(information_retrieval)\" class=\"mw-redirect\" title=\"Recall (information retrieval)\">Recall</a>, <a href=\"https://en.wikipedia.org/wiki/Sensitivity_(tests)\" class=\"mw-redirect\" title=\"Sensitivity (tests)\">Sensitivity</a>, probability&nbsp;of&nbsp;detection <span style=\"font-size:118%;white-space:nowrap;\">= <span class=\"sfrac nowrap\" style=\"display:inline-block; vertical-align:-0.5em; font-size:85%; text-align:center;\"><span style=\"display:block; line-height:1em; margin:0 0.1em;\">Σ True positive</span><span class=\"visualhide\">/</span><span style=\"display:block; line-height:1em; margin:0 0.1em; border-top:1px solid;\">Σ&nbsp;Condition&nbsp;positive</span></span></span></td>\n",
    "<td style=\"background:#eeddbb;\"><a href=\"https://en.wikipedia.org/wiki/False_positive_rate\" title=\"False positive rate\">False positive rate</a> (FPR), <a href=\"https://en.wikipedia.org/wiki/Information_retrieval\" title=\"Information retrieval\"><span class=\"nowrap\">Fall-out</span></a>, probability&nbsp;of&nbsp;false&nbsp;alarm <span style=\"font-size:118%;white-space:nowrap;\">= <span class=\"sfrac nowrap\" style=\"display:inline-block; vertical-align:-0.5em; font-size:85%; text-align:center;\"><span style=\"display:block; line-height:1em; margin:0 0.1em;\">Σ False positive</span><span class=\"visualhide\">/</span><span style=\"display:block; line-height:1em; margin:0 0.1em; border-top:1px solid;\">Σ&nbsp;Condition&nbsp;negative</span></span></span></td>\n",
    "<td style=\"background:#eeeeee;\"><a href=\"https://en.wikipedia.org/wiki/Positive_likelihood_ratio\" class=\"mw-redirect\" title=\"Positive likelihood ratio\">Positive likelihood ratio</a> <span class=\"nowrap\">(LR+)</span> <span style=\"font-size:118%;white-space:nowrap;\">= <span class=\"sfrac nowrap\" style=\"display:inline-block; vertical-align:-0.5em; font-size:85%; text-align:center;\"><span style=\"display:block; line-height:1em; margin:0 0.1em;\">TPR</span><span class=\"visualhide\">/</span><span style=\"display:block; line-height:1em; margin:0 0.1em; border-top:1px solid;\">FPR</span></span></span></td>\n",
    "<td style=\"background:#dddddd;\" rowspan=\"2\"><a href=\"https://en.wikipedia.org/wiki/Diagnostic_odds_ratio\" title=\"Diagnostic odds ratio\">Diagnostic odds ratio</a> (DOR) <span style=\"font-size:118%;white-space:nowrap;\">= <span class=\"sfrac nowrap\" style=\"display:inline-block; vertical-align:-0.5em; font-size:85%; text-align:center;\"><span style=\"display:block; line-height:1em; margin:0 0.1em;\">LR+</span><span class=\"visualhide\">/</span><span style=\"display:block; line-height:1em; margin:0 0.1em; border-top:1px solid;\">LR−</span></span></span></td>\n",
    "<td style=\"background:#ddffdd;border-left:double silver;line-height:2;\" rowspan=\"2\"><a href=\"https://en.wikipedia.org/wiki/F1_score\" title=\"F1 score\">F<sub>1</sub> score</a> = <span style=\"font-size:118%;white-space:nowrap;\"><span class=\"sfrac nowrap\" style=\"display:inline-block; vertical-align:-0.5em; font-size:85%; text-align:center;\"><span style=\"display:block; line-height:1em; margin:0 0.1em;\">2</span><span class=\"visualhide\">/</span><span style=\"display:block; line-height:1em; margin:0 0.1em; border-top:1px solid;\"><span class=\"sfrac nowrap\" style=\"display:inline-block; vertical-align:-0.5em; font-size:85%; text-align:center;\"><span style=\"display:block; line-height:1em; margin:0 0.1em;\">1</span><span class=\"visualhide\">/</span><span style=\"display:block; line-height:1em; margin:0 0.1em; border-top:1px solid;\">Recall</span></span>&nbsp;+&nbsp;<span class=\"sfrac nowrap\" style=\"display:inline-block; vertical-align:-0.5em; font-size:85%; text-align:center;\"><span style=\"display:block; line-height:1em; margin:0 0.1em;\">1</span><span class=\"visualhide\">/</span><span style=\"display:block; line-height:1em; margin:0 0.1em; border-top:1px solid;\">Precision</span></span></span></span></span></td>\n",
    "</tr>\n",
    "<tr style=\"font-size:90%;\">\n",
    "<td style=\"background:#ffeecc;\"><a href=\"https://en.wikipedia.org/wiki/False_negative_rate\" class=\"mw-redirect\" title=\"False negative rate\">False negative rate</a> (FNR), Miss&nbsp;rate <span style=\"font-size:118%;white-space:nowrap;\">= <span class=\"sfrac nowrap\" style=\"display:inline-block; vertical-align:-0.5em; font-size:85%; text-align:center;\"><span style=\"display:block; line-height:1em; margin:0 0.1em;\">Σ False negative</span><span class=\"visualhide\">/</span><span style=\"display:block; line-height:1em; margin:0 0.1em; border-top:1px solid;\">Σ&nbsp;Condition&nbsp;positive</span></span></span></td>\n",
    "<td style=\"background:#ddeebb;\"><a href=\"https://en.wikipedia.org/wiki/True_negative_rate\" class=\"mw-redirect\" title=\"True negative rate\">True negative rate</a> (TNR), <a href=\"https://en.wikipedia.org/wiki/Specificity_(tests)\" class=\"mw-redirect\" title=\"Specificity (tests)\">Specificity</a> (SPC) <span style=\"font-size:118%;white-space:nowrap;\">= <span class=\"sfrac nowrap\" style=\"display:inline-block; vertical-align:-0.5em; font-size:85%; text-align:center;\"><span style=\"display:block; line-height:1em; margin:0 0.1em;\">Σ True negative</span><span class=\"visualhide\">/</span><span style=\"display:block; line-height:1em; margin:0 0.1em; border-top:1px solid;\">Σ&nbsp;Condition&nbsp;negative</span></span></span></td>\n",
    "<td style=\"background:#cccccc;\"><a href=\"https://en.wikipedia.org/wiki/Negative_likelihood_ratio\" class=\"mw-redirect\" title=\"Negative likelihood ratio\">Negative likelihood ratio</a> <span class=\"nowrap\">(LR−)</span> <span style=\"font-size:118%;white-space:nowrap;\">= <span class=\"sfrac nowrap\" style=\"display:inline-block; vertical-align:-0.5em; font-size:85%; text-align:center;\"><span style=\"display:block; line-height:1em; margin:0 0.1em;\">FNR</span><span class=\"visualhide\">/</span><span style=\"display:block; line-height:1em; margin:0 0.1em; border-top:1px solid;\">TNR</span></span></span></td>\n",
    "</tr>\n",
    "</tbody></table>"
   ]
  },
  {
   "cell_type": "markdown",
   "metadata": {
    "slideshow": {
     "slide_type": "slide"
    }
   },
   "source": [
    "### Precision and recall\n",
    "<table class=\"wikitable\" align=\"center\" style=\"text-align: center ; border: none ; background: transparent\">\n",
    "<tbody><tr>\n",
    "<td style=\"border: none\" colspan=\"2\"></td>\n",
    "<td style=\"background: #eeeebb\" colspan=\"2\"><b>True condition</b></td>\n",
    "</tr>\n",
    "<tr>\n",
    "<td style=\"border: none\"></td>\n",
    "<td style=\"background: #dddddd\"><a href=\"https://en.wikipedia.org/wiki/Statistical_population\" title=\"Statistical population\" target=\"_blank\">Total population</a></td>\n",
    "<td style=\"background: #ffffcc\">Condition positive</td>\n",
    "<td style=\"background: #ddddaa\">Condition negative</td>\n",
    "<td style=\"background: #eee ; font-size: 90%\"><a href=\"https://en.wikipedia.org/wiki/Prevalence\" title=\"Prevalence\" target=\"_blank\">Prevalence</a> <span style=\"font-size: 118% ; white-space: nowrap\">= <span class=\"sfrac nowrap\" style=\"display: inline-block ; vertical-align: -0.5em ; font-size: 85% ; text-align: center\"><span style=\"display: block ; line-height: 1em ; margin: 0 0.1em\">Σ&nbsp;Condition positive</span><span class=\"visualhide\">/</span><span style=\"display: block ; line-height: 1em ; margin: 0 0.1em ; border-top: 1px solid\">Σ&nbsp;Total population</span></span></span></td>\n",
    "<td style=\"background: #eee ; border-left: double silver ; font-size: 90%\" colspan=\"2\"><a href=\"https://en.wikipedia.org/wiki/Accuracy_and_precision\" title=\"Accuracy and precision\" target=\"_blank\">Accuracy</a> (ACC) = <span style=\"font-size: 118%\"><span class=\"sfrac nowrap\" style=\"display: inline-block ; vertical-align: -0.5em ; font-size: 85% ; text-align: center\"><span style=\"display: block ; line-height: 1em ; margin: 0 0.1em\">Σ&nbsp;True positive + Σ True negative</span><span class=\"visualhide\">/</span><span style=\"display: block ; line-height: 1em ; margin: 0 0.1em ; border-top: 1px solid\">Σ&nbsp;Total population</span></span></span></td>\n",
    "</tr>\n",
    "<tr>\n",
    "<td style=\"background: #bbeeee\" rowspan=\"2\"><b>Predicted<br>\n",
    "condition</b></td>\n",
    "<td style=\"background: #ccffff\">Predicted condition<br>\n",
    "positive</td>\n",
    "<td style=\"background: #ccffcc\"><span style=\"color: #006600\"><b><a href=\"https://en.wikipedia.org/wiki/True_positive\" class=\"mw-redirect\" title=\"True positive\" target=\"_blank\">True positive</a></b>,<br>\n",
    "<a href=\"https://en.wikipedia.org/wiki/Statistical_power\" title=\"Statistical power\" target=\"_blank\">Power</a></span></td>\n",
    "<td style=\"background: #eedddd\"><span style=\"color: #cc0000\"><b><a href=\"https://en.wikipedia.org/wiki/False_positive\" class=\"mw-redirect\" title=\"False positive\" target=\"_blank\">False positive</a></b>,<br>\n",
    "<a href=\"https://en.wikipedia.org/wiki/Type_I_error\" class=\"mw-redirect\" title=\"Type I error\" target=\"_blank\">Type I error</a></span></td>\n",
    "<td style=\"background: #ccffee;border-top: double silver;font-size: 90%;font-weight: bold;\"><a href=\"https://en.wikipedia.org/wiki/Positive_predictive_value\" class=\"mw-redirect\" title=\"Positive predictive value\" target=\"_blank\">Positive predictive value</a> (PPV), <a href=\"https://en.wikipedia.org/wiki/Precision_(information_retrieval)\" class=\"mw-redirect\" title=\"Precision (information retrieval)\" target=\"_blank\">Precision</a> = <span style=\"font-size: 118% ; white-space: nowrap\"><span class=\"sfrac nowrap\" style=\"display: inline-block ; vertical-align: -0.5em ; font-size: 85% ; text-align: center\"><span style=\"display: block ; line-height: 1em ; margin: 0 0.1em\">Σ True positive</span><span class=\"visualhide\">/</span><span style=\"display: block ; line-height: 1em ; margin: 0 0.1em ; border-top: 1px solid\">Σ&nbsp;Predicted&nbsp;condition&nbsp;positive</span></span></span></td>\n",
    "<td style=\"background: #eee ; border-top: double silver ; font-size: 90%\" colspan=\"2\"><a href=\"https://en.wikipedia.org/wiki/False_discovery_rate\" title=\"False discovery rate\" target=\"_blank\">False discovery rate</a> (FDR) = <span style=\"font-size: 118% ; white-space: nowrap\"><span class=\"sfrac nowrap\" style=\"display: inline-block ; vertical-align: -0.5em ; font-size: 85% ; text-align: center\"><span style=\"display: block ; line-height: 1em ; margin: 0 0.1em\">Σ False positive</span><span class=\"visualhide\">/</span><span style=\"display: block ; line-height: 1em ; margin: 0 0.1em ; border-top: 1px solid\">Σ&nbsp;Predicted&nbsp;condition&nbsp;positive</span></span></span></td>\n",
    "</tr>\n",
    "<tr>\n",
    "<td style=\"background: #aadddd\">Predicted condition<br>\n",
    "negative</td>\n",
    "<td style=\"background: #ffdddd\"><span style=\"color: #cc0000\"><b><a href=\"https://en.wikipedia.org/wiki/False_negative\" class=\"mw-redirect\" title=\"False negative\" target=\"_blank\">False negative</a></b>,<br>\n",
    "<a href=\"https://en.wikipedia.org/wiki/Type_II_error\" class=\"mw-redirect\" title=\"Type II error\" target=\"_blank\">Type II error</a></span></td>\n",
    "<td style=\"background: #bbeebb\"><span style=\"color: #006600\"><b><a href=\"https://en.wikipedia.org/wiki/True_negative\" class=\"mw-redirect\" title=\"True negative\" target=\"_blank\">True negative</a></b></span></td>\n",
    "<td style=\"background: #eee ; border-bottom: double silver ; font-size: 90%\"><a href=\"https://en.wikipedia.org/wiki/False_omission_rate\" class=\"mw-redirect\" title=\"False omission rate\" target=\"_blank\">False omission rate</a> (FOR) = <span style=\"font-size: 118% ; white-space: nowrap\"><span class=\"sfrac nowrap\" style=\"display: inline-block ; vertical-align: -0.5em ; font-size: 85% ; text-align: center\"><span style=\"display: block ; line-height: 1em ; margin: 0 0.1em\">Σ False negative</span><span class=\"visualhide\">/</span><span style=\"display: block ; line-height: 1em ; margin: 0 0.1em ; border-top: 1px solid\">Σ&nbsp;Predicted&nbsp;condition&nbsp;negative</span></span></span></td>\n",
    "<td style=\"background: #eee ; border-bottom: double silver ; font-size: 90%\" colspan=\"2\"><a href=\"https://en.wikipedia.org/wiki/Negative_predictive_value\" class=\"mw-redirect\" title=\"Negative predictive value\" target=\"_blank\">Negative predictive value</a> (NPV) = <span style=\"font-size: 118% ; white-space: nowrap\"><span class=\"sfrac nowrap\" style=\"display: inline-block ; vertical-align: -0.5em ; font-size: 85% ; text-align: center\"><span style=\"display: block ; line-height: 1em ; margin: 0 0.1em\">Σ True negative</span><span class=\"visualhide\">/</span><span style=\"display: block ; line-height: 1em ; margin: 0 0.1em ; border-top: 1px solid\">Σ&nbsp;Predicted&nbsp;condition&nbsp;negative</span></span></span></td>\n",
    "</tr>\n",
    "<tr style=\"font-size: 90%\">\n",
    "<td style=\"border: none ; vertical-align: bottom ; padding: 0 2px 0 0 ; color: #999999\" colspan=\"2\" rowspan=\"2\"></td>\n",
    "<td style=\"background: #eeffcc;font-weight: bold;\"><a href=\"https://en.wikipedia.org/wiki/True_positive_rate\" class=\"mw-redirect\" title=\"True positive rate\" target=\"_blank\">True positive rate</a> (TPR), <a href=\"https://en.wikipedia.org/wiki/Recall_(information_retrieval)\" class=\"mw-redirect\" title=\"Recall (information retrieval)\" target=\"_blank\">Recall</a>, <a href=\"https://en.wikipedia.org/wiki/Sensitivity_(tests)\" class=\"mw-redirect\" title=\"Sensitivity (tests)\" target=\"_blank\">Sensitivity</a>, probability&nbsp;of&nbsp;detection <span style=\"font-size: 118% ; white-space: nowrap\">= <span class=\"sfrac nowrap\" style=\"display: inline-block ; vertical-align: -0.5em ; font-size: 85% ; text-align: center\"><span style=\"display: block ; line-height: 1em ; margin: 0 0.1em\">Σ True positive</span><span class=\"visualhide\">/</span><span style=\"display: block ; line-height: 1em ; margin: 0 0.1em ; border-top: 1px solid\">Σ&nbsp;Condition&nbsp;positive</span></span></span></td>\n",
    "<td style=\"background: #eee\"><a href=\"https://en.wikipedia.org/wiki/False_positive_rate\" title=\"False positive rate\" target=\"_blank\">False positive rate</a> (FPR), <a href=\"https://en.wikipedia.org/wiki/Information_retrieval\" title=\"Information retrieval\" target=\"_blank\"><span class=\"nowrap\">Fall-out</span></a>, probability&nbsp;of&nbsp;false&nbsp;alarm <span style=\"font-size: 118% ; white-space: nowrap\">= <span class=\"sfrac nowrap\" style=\"display: inline-block ; vertical-align: -0.5em ; font-size: 85% ; text-align: center\"><span style=\"display: block ; line-height: 1em ; margin: 0 0.1em\">Σ False positive</span><span class=\"visualhide\">/</span><span style=\"display: block ; line-height: 1em ; margin: 0 0.1em ; border-top: 1px solid\">Σ&nbsp;Condition&nbsp;negative</span></span></span></td>\n",
    "<td style=\"background: #eeeeee\"><a href=\"https://en.wikipedia.org/wiki/Positive_likelihood_ratio\" class=\"mw-redirect\" title=\"Positive likelihood ratio\" target=\"_blank\">Positive likelihood ratio</a> <span class=\"nowrap\">(LR+)</span> <span style=\"font-size: 118% ; white-space: nowrap\">= <span class=\"sfrac nowrap\" style=\"display: inline-block ; vertical-align: -0.5em ; font-size: 85% ; text-align: center\"><span style=\"display: block ; line-height: 1em ; margin: 0 0.1em\">TPR</span><span class=\"visualhide\">/</span><span style=\"display: block ; line-height: 1em ; margin: 0 0.1em ; border-top: 1px solid\">FPR</span></span></span></td>\n",
    "<td style=\"background: #eee\" rowspan=\"2\"><a href=\"https://en.wikipedia.org/wiki/Diagnostic_odds_ratio\" title=\"Diagnostic odds ratio\" target=\"_blank\">Diagnostic odds ratio</a> (DOR) <span style=\"font-size: 118% ; white-space: nowrap\">= <span class=\"sfrac nowrap\" style=\"display: inline-block ; vertical-align: -0.5em ; font-size: 85% ; text-align: center\"><span style=\"display: block ; line-height: 1em ; margin: 0 0.1em\">LR+</span><span class=\"visualhide\">/</span><span style=\"display: block ; line-height: 1em ; margin: 0 0.1em ; border-top: 1px solid\">LR−</span></span></span></td>\n",
    "<td style=\"background: #ddffdd;border-left: double silver;line-height: 2;font-weight: bold;\" rowspan=\"2\"><a href=\"https://en.wikipedia.org/wiki/F1_score\" title=\"F1 score\" target=\"_blank\">F<sub>1</sub> score</a> = <span style=\"font-size: 118% ; white-space: nowrap\"><span class=\"sfrac nowrap\" style=\"display: inline-block ; vertical-align: -0.5em ; font-size: 85% ; text-align: center\"><span style=\"display: block ; line-height: 1em ; margin: 0 0.1em\">2</span><span class=\"visualhide\">/</span><span style=\"display: block ; line-height: 1em ; margin: 0 0.1em ; border-top: 1px solid\"><span class=\"sfrac nowrap\" style=\"display: inline-block ; vertical-align: -0.5em ; font-size: 85% ; text-align: center\"><span style=\"display: block ; line-height: 1em ; margin: 0 0.1em\">1</span><span class=\"visualhide\">/</span><span style=\"display: block ; line-height: 1em ; margin: 0 0.1em ; border-top: 1px solid\">Recall</span></span>&nbsp;+&nbsp;<span class=\"sfrac nowrap\" style=\"display: inline-block ; vertical-align: -0.5em ; font-size: 85% ; text-align: center\"><span style=\"display: block ; line-height: 1em ; margin: 0 0.1em\">1</span><span class=\"visualhide\">/</span><span style=\"display: block ; line-height: 1em ; margin: 0 0.1em ; border-top: 1px solid\">Precision</span></span></span></span></span></td>\n",
    "</tr>\n",
    "<tr style=\"font-size: 90%\">\n",
    "<td style=\"background: #eee\"><a href=\"https://en.wikipedia.org/wiki/False_negative_rate\" class=\"mw-redirect\" title=\"False negative rate\" target=\"_blank\">False negative rate</a> (FNR), Miss&nbsp;rate <span style=\"font-size: 118% ; white-space: nowrap\">= <span class=\"sfrac nowrap\" style=\"display: inline-block ; vertical-align: -0.5em ; font-size: 85% ; text-align: center\"><span style=\"display: block ; line-height: 1em ; margin: 0 0.1em\">Σ False negative</span><span class=\"visualhide\">/</span><span style=\"display: block ; line-height: 1em ; margin: 0 0.1em ; border-top: 1px solid\">Σ&nbsp;Condition&nbsp;positive</span></span></span></td>\n",
    "<td style=\"background: #eee\"><a href=\"https://en.wikipedia.org/wiki/True_negative_rate\" class=\"mw-redirect\" title=\"True negative rate\" target=\"_blank\">True negative rate</a> (TNR), <a href=\"https://en.wikipedia.org/wiki/Specificity_(tests)\" class=\"mw-redirect\" title=\"Specificity (tests)\" target=\"_blank\">Specificity</a> (SPC) <span style=\"font-size: 118% ; white-space: nowrap\">= <span class=\"sfrac nowrap\" style=\"display: inline-block ; vertical-align: -0.5em ; font-size: 85% ; text-align: center\"><span style=\"display: block ; line-height: 1em ; margin: 0 0.1em\">Σ True negative</span><span class=\"visualhide\">/</span><span style=\"display: block ; line-height: 1em ; margin: 0 0.1em ; border-top: 1px solid\">Σ&nbsp;Condition&nbsp;negative</span></span></span></td>\n",
    "<td style=\"background: #eee\"><a href=\"https://en.wikipedia.org/wiki/Negative_likelihood_ratio\" class=\"mw-redirect\" title=\"Negative likelihood ratio\" target=\"_blank\">Negative likelihood ratio</a> <span class=\"nowrap\">(LR−)</span> <span style=\"font-size: 118% ; white-space: nowrap\">= <span class=\"sfrac nowrap\" style=\"display: inline-block ; vertical-align: -0.5em ; font-size: 85% ; text-align: center\"><span style=\"display: block ; line-height: 1em ; margin: 0 0.1em\">FNR</span><span class=\"visualhide\">/</span><span style=\"display: block ; line-height: 1em ; margin: 0 0.1em ; border-top: 1px solid\">TNR</span></span></span></td>\n",
    "</tr>\n",
    "</tbody></table>\n",
    "\n",
    "- Looking at only one of them is not enough: e.g. a classifier classifying nearly everything to negative can have a high **precision**, but then its **recall** is low, and *vice versa*\n",
    "- Thus, $F_1$ score is designed to kind of combine the precision and recall together using harmonic average and gives out a comprehensive measure of the classification quality."
   ]
  },
  {
   "cell_type": "markdown",
   "metadata": {
    "slideshow": {
     "slide_type": "slide"
    }
   },
   "source": [
    "### Receiver operating characteristic (ROC)\n",
    "<table class=\"wikitable\" align=\"center\" style=\"text-align: center ; border: none ; background: transparent\">\n",
    "<tbody><tr>\n",
    "<td style=\"border: none\" colspan=\"2\"></td>\n",
    "<td style=\"background: #eeeebb\" colspan=\"2\"><b>True condition</b></td>\n",
    "</tr>\n",
    "<tr>\n",
    "<td style=\"border: none\"></td>\n",
    "<td style=\"background: #dddddd\"><a href=\"https://en.wikipedia.org/wiki/Statistical_population\" title=\"Statistical population\" target=\"_blank\">Total population</a></td>\n",
    "<td style=\"background: #ffffcc\">Condition positive</td>\n",
    "<td style=\"background: #ddddaa\">Condition negative</td>\n",
    "<td style=\"background: #eee ; font-size: 90%\"><a href=\"https://en.wikipedia.org/wiki/Prevalence\" title=\"Prevalence\" target=\"_blank\">Prevalence</a> <span style=\"font-size: 118% ; white-space: nowrap\">= <span class=\"sfrac nowrap\" style=\"display: inline-block ; vertical-align: -0.5em ; font-size: 85% ; text-align: center\"><span style=\"display: block ; line-height: 1em ; margin: 0 0.1em\">Σ&nbsp;Condition positive</span><span class=\"visualhide\">/</span><span style=\"display: block ; line-height: 1em ; margin: 0 0.1em ; border-top: 1px solid\">Σ&nbsp;Total population</span></span></span></td>\n",
    "<td style=\"background: #eee ; border-left: double silver ; font-size: 90%\" colspan=\"2\"><a href=\"https://en.wikipedia.org/wiki/Accuracy_and_precision\" title=\"Accuracy and precision\" target=\"_blank\">Accuracy</a> (ACC) = <span style=\"font-size: 118%\"><span class=\"sfrac nowrap\" style=\"display: inline-block ; vertical-align: -0.5em ; font-size: 85% ; text-align: center\"><span style=\"display: block ; line-height: 1em ; margin: 0 0.1em\">Σ&nbsp;True positive + Σ True negative</span><span class=\"visualhide\">/</span><span style=\"display: block ; line-height: 1em ; margin: 0 0.1em ; border-top: 1px solid\">Σ&nbsp;Total population</span></span></span></td>\n",
    "</tr>\n",
    "<tr>\n",
    "<td style=\"background: #bbeeee\" rowspan=\"2\"><b>Predicted<br>\n",
    "condition</b></td>\n",
    "<td style=\"background: #ccffff\">Predicted condition<br>\n",
    "positive</td>\n",
    "<td style=\"background: #ccffcc\"><span style=\"color: #006600\"><b><a href=\"https://en.wikipedia.org/wiki/True_positive\" class=\"mw-redirect\" title=\"True positive\" target=\"_blank\">True positive</a></b>,<br>\n",
    "<a href=\"https://en.wikipedia.org/wiki/Statistical_power\" title=\"Statistical power\" target=\"_blank\">Power</a></span></td>\n",
    "<td style=\"background: #eedddd\"><span style=\"color: #cc0000\"><b><a href=\"https://en.wikipedia.org/wiki/False_positive\" class=\"mw-redirect\" title=\"False positive\" target=\"_blank\">False positive</a></b>,<br>\n",
    "<a href=\"https://en.wikipedia.org/wiki/Type_I_error\" class=\"mw-redirect\" title=\"Type I error\" target=\"_blank\">Type I error</a></span></td>\n",
    "<td style=\"background: #eee ; border-top: double silver ; font-size: 90%\"><a href=\"https://en.wikipedia.org/wiki/Positive_predictive_value\" class=\"mw-redirect\" title=\"Positive predictive value\" target=\"_blank\">Positive predictive value</a> (PPV), <a href=\"https://en.wikipedia.org/wiki/Precision_(information_retrieval)\" class=\"mw-redirect\" title=\"Precision (information retrieval)\" target=\"_blank\">Precision</a> = <span style=\"font-size: 118% ; white-space: nowrap\"><span class=\"sfrac nowrap\" style=\"display: inline-block ; vertical-align: -0.5em ; font-size: 85% ; text-align: center\"><span style=\"display: block ; line-height: 1em ; margin: 0 0.1em\">Σ True positive</span><span class=\"visualhide\">/</span><span style=\"display: block ; line-height: 1em ; margin: 0 0.1em ; border-top: 1px solid\">Σ&nbsp;Predicted&nbsp;condition&nbsp;positive</span></span></span></td>\n",
    "<td style=\"background: #eee ; border-top: double silver ; font-size: 90%\" colspan=\"2\"><a href=\"https://en.wikipedia.org/wiki/False_discovery_rate\" title=\"False discovery rate\" target=\"_blank\">False discovery rate</a> (FDR) = <span style=\"font-size: 118% ; white-space: nowrap\"><span class=\"sfrac nowrap\" style=\"display: inline-block ; vertical-align: -0.5em ; font-size: 85% ; text-align: center\"><span style=\"display: block ; line-height: 1em ; margin: 0 0.1em\">Σ False positive</span><span class=\"visualhide\">/</span><span style=\"display: block ; line-height: 1em ; margin: 0 0.1em ; border-top: 1px solid\">Σ&nbsp;Predicted&nbsp;condition&nbsp;positive</span></span></span></td>\n",
    "</tr>\n",
    "<tr>\n",
    "<td style=\"background: #aadddd\">Predicted condition<br>\n",
    "negative</td>\n",
    "<td style=\"background: #ffdddd\"><span style=\"color: #cc0000\"><b><a href=\"https://en.wikipedia.org/wiki/False_negative\" class=\"mw-redirect\" title=\"False negative\" target=\"_blank\">False negative</a></b>,<br>\n",
    "<a href=\"https://en.wikipedia.org/wiki/Type_II_error\" class=\"mw-redirect\" title=\"Type II error\" target=\"_blank\">Type II error</a></span></td>\n",
    "<td style=\"background: #bbeebb\"><span style=\"color: #006600\"><b><a href=\"https://en.wikipedia.org/wiki/True_negative\" class=\"mw-redirect\" title=\"True negative\" target=\"_blank\">True negative</a></b></span></td>\n",
    "<td style=\"background: #eee ; border-bottom: double silver ; font-size: 90%\"><a href=\"https://en.wikipedia.org/wiki/False_omission_rate\" class=\"mw-redirect\" title=\"False omission rate\" target=\"_blank\">False omission rate</a> (FOR) = <span style=\"font-size: 118% ; white-space: nowrap\"><span class=\"sfrac nowrap\" style=\"display: inline-block ; vertical-align: -0.5em ; font-size: 85% ; text-align: center\"><span style=\"display: block ; line-height: 1em ; margin: 0 0.1em\">Σ False negative</span><span class=\"visualhide\">/</span><span style=\"display: block ; line-height: 1em ; margin: 0 0.1em ; border-top: 1px solid\">Σ&nbsp;Predicted&nbsp;condition&nbsp;negative</span></span></span></td>\n",
    "<td style=\"background: #eee ; border-bottom: double silver ; font-size: 90%\" colspan=\"2\"><a href=\"https://en.wikipedia.org/wiki/Negative_predictive_value\" class=\"mw-redirect\" title=\"Negative predictive value\" target=\"_blank\">Negative predictive value</a> (NPV) = <span style=\"font-size: 118% ; white-space: nowrap\"><span class=\"sfrac nowrap\" style=\"display: inline-block ; vertical-align: -0.5em ; font-size: 85% ; text-align: center\"><span style=\"display: block ; line-height: 1em ; margin: 0 0.1em\">Σ True negative</span><span class=\"visualhide\">/</span><span style=\"display: block ; line-height: 1em ; margin: 0 0.1em ; border-top: 1px solid\">Σ&nbsp;Predicted&nbsp;condition&nbsp;negative</span></span></span></td>\n",
    "</tr>\n",
    "<tr style=\"font-size: 90%\">\n",
    "<td style=\"border: none ; vertical-align: bottom ; padding: 0 2px 0 0 ; color: #999999\" colspan=\"2\" rowspan=\"2\"></td>\n",
    "<td style=\"background: #eeffcc; font-weight: bold\"><a href=\"https://en.wikipedia.org/wiki/True_positive_rate\" class=\"mw-redirect\" title=\"True positive rate\" target=\"_blank\">True positive rate</a> (TPR), <a href=\"https://en.wikipedia.org/wiki/Recall_(information_retrieval)\" class=\"mw-redirect\" title=\"Recall (information retrieval)\" target=\"_blank\">Recall</a>, <a href=\"https://en.wikipedia.org/wiki/Sensitivity_(tests)\" class=\"mw-redirect\" title=\"Sensitivity (tests)\" target=\"_blank\">Sensitivity</a>, probability&nbsp;of&nbsp;detection <span style=\"font-size: 118% ; white-space: nowrap\">= <span class=\"sfrac nowrap\" style=\"display: inline-block ; vertical-align: -0.5em ; font-size: 85% ; text-align: center\"><span style=\"display: block ; line-height: 1em ; margin: 0 0.1em\">Σ True positive</span><span class=\"visualhide\">/</span><span style=\"display: block ; line-height: 1em ; margin: 0 0.1em ; border-top: 1px solid\">Σ&nbsp;Condition&nbsp;positive</span></span></span></td>\n",
    "<td style=\"background: #eeddbb; font-weight: bold\"><a href=\"https://en.wikipedia.org/wiki/False_positive_rate\" title=\"False positive rate\" target=\"_blank\">False positive rate</a> (FPR), <a href=\"https://en.wikipedia.org/wiki/Information_retrieval\" title=\"Information retrieval\" target=\"_blank\"><span class=\"nowrap\">Fall-out</span></a>, probability&nbsp;of&nbsp;false&nbsp;alarm <span style=\"font-size: 118% ; white-space: nowrap\">= <span class=\"sfrac nowrap\" style=\"display: inline-block ; vertical-align: -0.5em ; font-size: 85% ; text-align: center\"><span style=\"display: block ; line-height: 1em ; margin: 0 0.1em\">Σ False positive</span><span class=\"visualhide\">/</span><span style=\"display: block ; line-height: 1em ; margin: 0 0.1em ; border-top: 1px solid\">Σ&nbsp;Condition&nbsp;negative</span></span></span></td>\n",
    "<td style=\"background: #eeeeee\"><a href=\"https://en.wikipedia.org/wiki/Positive_likelihood_ratio\" class=\"mw-redirect\" title=\"Positive likelihood ratio\" target=\"_blank\">Positive likelihood ratio</a> <span class=\"nowrap\">(LR+)</span> <span style=\"font-size: 118% ; white-space: nowrap\">= <span class=\"sfrac nowrap\" style=\"display: inline-block ; vertical-align: -0.5em ; font-size: 85% ; text-align: center\"><span style=\"display: block ; line-height: 1em ; margin: 0 0.1em\">TPR</span><span class=\"visualhide\">/</span><span style=\"display: block ; line-height: 1em ; margin: 0 0.1em ; border-top: 1px solid\">FPR</span></span></span></td>\n",
    "<td style=\"background: #eee\" rowspan=\"2\"><a href=\"https://en.wikipedia.org/wiki/Diagnostic_odds_ratio\" title=\"Diagnostic odds ratio\" target=\"_blank\">Diagnostic odds ratio</a> (DOR) <span style=\"font-size: 118% ; white-space: nowrap\">= <span class=\"sfrac nowrap\" style=\"display: inline-block ; vertical-align: -0.5em ; font-size: 85% ; text-align: center\"><span style=\"display: block ; line-height: 1em ; margin: 0 0.1em\">LR+</span><span class=\"visualhide\">/</span><span style=\"display: block ; line-height: 1em ; margin: 0 0.1em ; border-top: 1px solid\">LR−</span></span></span></td>\n",
    "<td style=\"background: #eee;border-left: double silver;line-height: 2;\" rowspan=\"2\"><a href=\"https://en.wikipedia.org/wiki/F1_score\" title=\"F1 score\" target=\"_blank\">F<sub>1</sub> score</a> = <span style=\"font-size: 118% ; white-space: nowrap\"><span class=\"sfrac nowrap\" style=\"display: inline-block ; vertical-align: -0.5em ; font-size: 85% ; text-align: center\"><span style=\"display: block ; line-height: 1em ; margin: 0 0.1em\">2</span><span class=\"visualhide\">/</span><span style=\"display: block ; line-height: 1em ; margin: 0 0.1em ; border-top: 1px solid\"><span class=\"sfrac nowrap\" style=\"display: inline-block ; vertical-align: -0.5em ; font-size: 85% ; text-align: center\"><span style=\"display: block ; line-height: 1em ; margin: 0 0.1em\">1</span><span class=\"visualhide\">/</span><span style=\"display: block ; line-height: 1em ; margin: 0 0.1em ; border-top: 1px solid\">Recall</span></span>&nbsp;+&nbsp;<span class=\"sfrac nowrap\" style=\"display: inline-block ; vertical-align: -0.5em ; font-size: 85% ; text-align: center\"><span style=\"display: block ; line-height: 1em ; margin: 0 0.1em\">1</span><span class=\"visualhide\">/</span><span style=\"display: block ; line-height: 1em ; margin: 0 0.1em ; border-top: 1px solid\">Precision</span></span></span></span></span></td>\n",
    "</tr>\n",
    "<tr style=\"font-size: 90%\">\n",
    "<td style=\"background: #eee\"><a href=\"https://en.wikipedia.org/wiki/False_negative_rate\" class=\"mw-redirect\" title=\"False negative rate\" target=\"_blank\">False negative rate</a> (FNR), Miss&nbsp;rate <span style=\"font-size: 118% ; white-space: nowrap\">= <span class=\"sfrac nowrap\" style=\"display: inline-block ; vertical-align: -0.5em ; font-size: 85% ; text-align: center\"><span style=\"display: block ; line-height: 1em ; margin: 0 0.1em\">Σ False negative</span><span class=\"visualhide\">/</span><span style=\"display: block ; line-height: 1em ; margin: 0 0.1em ; border-top: 1px solid\">Σ&nbsp;Condition&nbsp;positive</span></span></span></td>\n",
    "<td style=\"background: #eee\"><a href=\"https://en.wikipedia.org/wiki/True_negative_rate\" class=\"mw-redirect\" title=\"True negative rate\" target=\"_blank\">True negative rate</a> (TNR), <a href=\"https://en.wikipedia.org/wiki/Specificity_(tests)\" class=\"mw-redirect\" title=\"Specificity (tests)\" target=\"_blank\">Specificity</a> (SPC) <span style=\"font-size: 118% ; white-space: nowrap\">= <span class=\"sfrac nowrap\" style=\"display: inline-block ; vertical-align: -0.5em ; font-size: 85% ; text-align: center\"><span style=\"display: block ; line-height: 1em ; margin: 0 0.1em\">Σ True negative</span><span class=\"visualhide\">/</span><span style=\"display: block ; line-height: 1em ; margin: 0 0.1em ; border-top: 1px solid\">Σ&nbsp;Condition&nbsp;negative</span></span></span></td>\n",
    "<td style=\"background: #eee\"><a href=\"https://en.wikipedia.org/wiki/Negative_likelihood_ratio\" class=\"mw-redirect\" title=\"Negative likelihood ratio\" target=\"_blank\">Negative likelihood ratio</a> <span class=\"nowrap\">(LR−)</span> <span style=\"font-size: 118% ; white-space: nowrap\">= <span class=\"sfrac nowrap\" style=\"display: inline-block ; vertical-align: -0.5em ; font-size: 85% ; text-align: center\"><span style=\"display: block ; line-height: 1em ; margin: 0 0.1em\">FNR</span><span class=\"visualhide\">/</span><span style=\"display: block ; line-height: 1em ; margin: 0 0.1em ; border-top: 1px solid\">TNR</span></span></span></td>\n",
    "</tr>\n",
    "</tbody></table>\n",
    "\n",
    "Interactive example: http://arogozhnikov.github.io/2015/10/05/roc-curve.html\n",
    "  - Blue distribution: Condition positive<br>\n",
    "  - Red distribution: Condition negative"
   ]
  },
  {
   "cell_type": "markdown",
   "metadata": {},
   "source": [
    "pipeline in sklearn http://scikit-learn.org/stable/modules/generated/sklearn.pipeline.Pipeline.html"
   ]
  },
  {
   "cell_type": "code",
   "execution_count": 72,
   "metadata": {
    "collapsed": false
   },
   "outputs": [
    {
     "name": "stdout",
     "output_type": "stream",
     "text": [
      "[0.  0.5 0.5 1. ]\n",
      "[0.5 0.5 1.  1. ]\n",
      "[0.8  0.4  0.35 0.1 ]\n"
     ]
    }
   ],
   "source": [
    "# toy demo\n",
    "import numpy as np\n",
    "from sklearn import metrics\n",
    "y = np.array([1, 1, 2, 2])\n",
    "scores = np.array([0.1, 0.4, 0.35, 0.8])\n",
    "fpr, tpr, thresholds = metrics.roc_curve(y, scores, pos_label=2)\n",
    "print(fpr)\n",
    "print(tpr)\n",
    "print(thresholds)"
   ]
  },
  {
   "cell_type": "code",
   "execution_count": 85,
   "metadata": {
    "collapsed": true,
    "slideshow": {
     "slide_type": "slide"
    }
   },
   "outputs": [],
   "source": [
    "from sklearn.datasets import fetch_20newsgroups\n",
    "\n",
    "categories = ['comp.graphics', 'comp.sys.mac.hardware']\n",
    "twenty_train = fetch_20newsgroups(subset='train', categories=categories, shuffle=True, random_state=42)\n",
    "twenty_test = fetch_20newsgroups(subset='test', categories=categories, shuffle=True, random_state=42)\n",
    "\n",
    "from sklearn.feature_extraction.text import CountVectorizer\n",
    "from sklearn.feature_extraction.text import TfidfTransformer\n",
    "\n",
    "from sklearn.naive_bayes import MultinomialNB\n",
    "from sklearn.naive_bayes import GaussianNB\n",
    "from sklearn.svm import SVC\n",
    "\n",
    "from sklearn.base import BaseEstimator, TransformerMixin\n",
    "class SparseToDenseArray(BaseEstimator, TransformerMixin):\n",
    "    def __init__(self):\n",
    "        pass\n",
    "\n",
    "    def transform(self, X, *_):\n",
    "        if hasattr(X, 'toarray'):\n",
    "            return X.toarray()\n",
    "        return X\n",
    "\n",
    "    def fit(self, *_):\n",
    "        return self\n",
    "\n",
    "from sklearn.decomposition import NMF\n",
    "\n",
    "# nmf = NMF(n_components=50, init='random', random_state=0)\n",
    "\n",
    "# \"The purpose of the pipeline is to assemble several steps that can \n",
    "#  be cross-validated together while setting different parameters.\"\n",
    "from sklearn.pipeline import Pipeline\n",
    "pipeline1 = Pipeline([\n",
    "    ('vect', CountVectorizer(min_df=1, stop_words='english')),\n",
    "    ('tfidf', TfidfTransformer()),\n",
    "    ('reduce_dim', NMF(n_components=50, init='random', random_state=0)),\n",
    "    ('clf', MultinomialNB()),\n",
    "])\n",
    "pipeline2 = Pipeline([\n",
    "    ('vect', CountVectorizer(min_df=1, stop_words='english')),\n",
    "    ('tfidf', TfidfTransformer()),\n",
    "    ('reduce_dim', NMF(n_components=50, init='random', random_state=0)),\n",
    "    ('toarr', SparseToDenseArray()),\n",
    "    ('clf', GaussianNB()),\n",
    "])\n",
    "pipeline3 = Pipeline([\n",
    "    ('vect', CountVectorizer(min_df=1, stop_words='english')),\n",
    "    ('tfidf', TfidfTransformer()),\n",
    "    ('reduce_dim', NMF(n_components=50, init='random', random_state=0)),\n",
    "    ('toarr', SparseToDenseArray()),\n",
    "    ('clf', SVC(kernel='linear', C=0.0001)),\n",
    "])\n",
    "\n",
    "from sklearn.metrics import confusion_matrix\n",
    "from sklearn.metrics import accuracy_score\n",
    "from sklearn.metrics import precision_score\n",
    "from sklearn.metrics import recall_score\n",
    "from sklearn.metrics import roc_curve\n",
    "from sklearn.metrics import auc"
   ]
  },
  {
   "cell_type": "code",
   "execution_count": 74,
   "metadata": {
    "collapsed": true,
    "slideshow": {
     "slide_type": "skip"
    }
   },
   "outputs": [],
   "source": [
    "import matplotlib.pyplot as plt\n",
    "%matplotlib inline"
   ]
  },
  {
   "cell_type": "code",
   "execution_count": 90,
   "metadata": {
    "collapsed": true,
    "slideshow": {
     "slide_type": "subslide"
    }
   },
   "outputs": [],
   "source": [
    "def plot_roc(fpr, tpr):\n",
    "    fig, ax = plt.subplots()\n",
    "\n",
    "    roc_auc = auc(fpr,tpr)\n",
    "\n",
    "    ax.plot(fpr, tpr, lw=2, label= 'area under curve = %0.4f' % roc_auc)\n",
    "\n",
    "    ax.grid(color='0.7', linestyle='--', linewidth=1)\n",
    "\n",
    "    ax.set_xlim([-0.1, 1.1])\n",
    "    ax.set_ylim([0.0, 1.05])\n",
    "    ax.set_xlabel('False Positive Rate',fontsize=15)\n",
    "    ax.set_ylabel('True Positive Rate',fontsize=15)\n",
    "\n",
    "    ax.legend(loc=\"lower right\")\n",
    "\n",
    "    for label in ax.get_xticklabels()+ax.get_yticklabels():\n",
    "        label.set_fontsize(15)\n",
    "\n",
    "def fit_predict_and_plot_roc(pipe, train_data, train_label, test_data, test_label):\n",
    "    pipe.fit(train_data, train_label)\n",
    "    # pipeline1.predict(twenty_test.data)\n",
    "\n",
    "    if hasattr(pipe, 'decision_function'):\n",
    "        prob_score = pipe.decision_function(test_data)\n",
    "        fpr, tpr, _ = roc_curve(test_label, prob_score)\n",
    "    else:\n",
    "        prob_score = pipe.predict_proba(test_data)\n",
    "        fpr, tpr, _ = roc_curve(test_label, prob_score[:,1])\n",
    "\n",
    "    plot_roc(fpr, tpr)\n",
    "#     return pipe"
   ]
  },
  {
   "cell_type": "code",
   "execution_count": 91,
   "metadata": {
    "collapsed": false
   },
   "outputs": [
    {
     "data": {
      "text/plain": [
       "Pipeline(memory=None,\n",
       "     steps=[('vect', CountVectorizer(analyzer='word', binary=False, decode_error='strict',\n",
       "        dtype=<class 'numpy.int64'>, encoding='utf-8', input='content',\n",
       "        lowercase=True, max_df=1.0, max_features=None, min_df=1,\n",
       "        ngram_range=(1, 1), preprocessor=None, stop_words='english',\n",
       "        ...,\n",
       "  max_iter=-1, probability=False, random_state=None, shrinking=True,\n",
       "  tol=0.001, verbose=False))])"
      ]
     },
     "execution_count": 91,
     "metadata": {},
     "output_type": "execute_result"
    },
    {
     "data": {
      "image/png": "[encoded data removed]",
      "text/plain": [
       "<matplotlib.figure.Figure at 0x1a28d6eda0>"
      ]
     },
     "metadata": {},
     "output_type": "display_data"
    }
   ],
   "source": [
    "fit_predict_and_plot_roc(pipeline3, twenty_train.data, twenty_train.target, twenty_test.data, twenty_test.target)"
   ]
  },
  {
   "cell_type": "code",
   "execution_count": 76,
   "metadata": {
    "collapsed": false,
    "slideshow": {
     "slide_type": "slide"
    }
   },
   "outputs": [
    {
     "data": {
      "text/plain": [
       "Pipeline(memory=None,\n",
       "     steps=[('vect', CountVectorizer(analyzer='word', binary=False, decode_error='strict',\n",
       "        dtype=<class 'numpy.int64'>, encoding='utf-8', input='content',\n",
       "        lowercase=True, max_df=1.0, max_features=None, min_df=1,\n",
       "        ngram_range=(1, 1), preprocessor=None, stop_words='english',\n",
       "        ...='cd', tol=0.0001, verbose=0)), ('clf', MultinomialNB(alpha=1.0, class_prior=None, fit_prior=True))])"
      ]
     },
     "execution_count": 76,
     "metadata": {},
     "output_type": "execute_result"
    },
    {
     "data": {
      "image/png": "[encoded data removed]",
      "text/plain": [
       "<matplotlib.figure.Figure at 0x1a13015908>"
      ]
     },
     "metadata": {},
     "output_type": "display_data"
    }
   ],
   "source": [
    "fit_predict_and_plot_roc(pipeline1, twenty_train.data, twenty_train.target, twenty_test.data, twenty_test.target)"
   ]
  },
  {
   "cell_type": "code",
   "execution_count": 77,
   "metadata": {
    "collapsed": false
   },
   "outputs": [
    {
     "data": {
      "text/plain": [
       "Pipeline(memory=None,\n",
       "     steps=[('vect', CountVectorizer(analyzer='word', binary=False, decode_error='strict',\n",
       "        dtype=<class 'numpy.int64'>, encoding='utf-8', input='content',\n",
       "        lowercase=True, max_df=1.0, max_features=None, min_df=1,\n",
       "        ngram_range=(1, 1), preprocessor=None, stop_words='english',\n",
       "        ...er='cd', tol=0.0001, verbose=0)), ('toarr', SparseToDenseArray()), ('clf', GaussianNB(priors=None))])"
      ]
     },
     "execution_count": 77,
     "metadata": {},
     "output_type": "execute_result"
    },
    {
     "data": {
      "image/png": "[encoded data removed]",
      "text/plain": [
       "<matplotlib.figure.Figure at 0x1a139fc9e8>"
      ]
     },
     "metadata": {},
     "output_type": "display_data"
    }
   ],
   "source": [
    "fit_predict_and_plot_roc(pipeline2, twenty_train.data, twenty_train.target, twenty_test.data, twenty_test.target)"
   ]
  },
  {
   "cell_type": "code",
   "execution_count": 78,
   "metadata": {
    "collapsed": false
   },
   "outputs": [
    {
     "data": {
      "text/plain": [
       "Pipeline(memory=None,\n",
       "     steps=[('vect', CountVectorizer(analyzer='word', binary=False, decode_error='strict',\n",
       "        dtype=<class 'numpy.int64'>, encoding='utf-8', input='content',\n",
       "        lowercase=True, max_df=1.0, max_features=None, min_df=1,\n",
       "        ngram_range=(1, 1), preprocessor=None, stop_words='english',\n",
       "        ...idf=True)), ('reduce_dim', None), ('toarr', SparseToDenseArray()), ('clf', GaussianNB(priors=None))])"
      ]
     },
     "execution_count": 78,
     "metadata": {},
     "output_type": "execute_result"
    },
    {
     "data": {
      "image/png": "[encoded data removed]",
      "text/plain": [
       "<matplotlib.figure.Figure at 0x1a132ce550>"
      ]
     },
     "metadata": {},
     "output_type": "display_data"
    }
   ],
   "source": [
    "# GaussianNB classifier doesn't work well with sparse data, in which\n",
    "# case the predict_proba(test_data) gives out binary results\n",
    "pipeline2.set_params(reduce_dim=None)\n",
    "fit_predict_and_plot_roc(pipeline2, twenty_train.data, twenty_train.target, twenty_test.data, twenty_test.target)"
   ]
  },
  {
   "cell_type": "code",
   "execution_count": 79,
   "metadata": {
    "collapsed": false
   },
   "outputs": [
    {
     "data": {
      "text/plain": [
       "array([[1., 0.],\n",
       "       [0., 1.],\n",
       "       [0., 1.],\n",
       "       ...,\n",
       "       [0., 1.],\n",
       "       [0., 1.],\n",
       "       [0., 1.]])"
      ]
     },
     "execution_count": 79,
     "metadata": {},
     "output_type": "execute_result"
    }
   ],
   "source": [
    "pipeline2.predict_proba(twenty_test.data)"
   ]
  },
  {
   "cell_type": "markdown",
   "metadata": {},
   "source": [
    "### Confusion Matrix Plotting\n",
    "For example codes plotting confusion matrix, see http://scikit-learn.org/stable/auto_examples/model_selection/plot_confusion_matrix.html"
   ]
  },
  {
   "cell_type": "markdown",
   "metadata": {},
   "source": [
    "## Cross Validation\n",
    "\n",
    ">Learning the parameters of a prediction function and testing it on the same data is a methodological mistake: a model that would just repeat the labels of the samples that it has just seen would have a perfect score but would fail to predict anything useful on yet-unseen data. This situation is called overfitting. To avoid it, it is common practice when performing a (supervised) machine learning experiment to hold out part of the available data as a test set `X_test`, `y_test` $\\dots$ <br> When evaluating different settings (“hyperparameters”) for estimators, $\\dots$ there is still a risk of overfitting on the test set because the parameters can be tweaked until the estimator performs optimally. This way, knowledge about the test set can “leak” into the model and evaluation metrics no longer report on generalization performance. To solve this problem, yet another part of the dataset can be held out as a so-called “validation set”: training proceeds on the training set, after which evaluation is done on the validation set, and when the experiment seems to be successful, final evaluation can be done on the test set.<span style=\"margin-top: 1em; float: right;\">--from <a href=\"http://scikit-learn.org/stable/modules/cross_validation.html\">Scikit-learn User Guide: 3.1 Cross-validation</a></span>\n",
    "\n",
    "A problem then arises with limited available data: we want more training data to better train our model, yet we'll have to save some of the data for validation (and test). To make better use of the data, and to avoid possible skewness dependent on particular partitions, we can use **cross-validation**.\n",
    "\n",
    ">A test set should still be held out for final evaluation, but the validation set is no longer needed when doing CV. In the basic approach, called k-fold CV, the training set is split into k smaller sets (other approaches are described below, but generally follow the same principles). The following procedure is followed for each of the k “folds”:\n",
    "<br>\n",
    "A model is trained using k-1 of the folds as training data;\n",
    "the resulting model is validated on the remaining part of the data (i.e., it is used as a test set to compute a performance measure such as accuracy).\n",
    "The performance measure reported by k-fold cross-validation is then the average of the values computed in the loop. This approach can be computationally expensive, but does not waste too much data (as it is the case when fixing an arbitrary test set), which is a major advantage in problem such as inverse inference where the number of samples is very small.<span style=\"margin-top: 1em; float: right;\">--from <a href=\"http://scikit-learn.org/stable/modules/cross_validation.html\">Scikit-learn User Guide: 3.1 Cross-validation</a></span>"
   ]
  },
  {
   "cell_type": "code",
   "execution_count": 56,
   "metadata": {
    "collapsed": false
   },
   "outputs": [
    {
     "data": {
      "text/plain": [
       "array([0.91378458, 0.95126379, 0.92261323])"
      ]
     },
     "execution_count": 56,
     "metadata": {},
     "output_type": "execute_result"
    }
   ],
   "source": [
    "from sklearn.model_selection import cross_val_score\n",
    "from sklearn.model_selection import ShuffleSplit\n",
    "# from sklearn import metrics\n",
    "from sklearn.svm import SVC\n",
    "\n",
    "SVC(kernel='hinge',C=1)\n",
    "cv = ShuffleSplit(n_splits=3, test_size=0.3, random_state=0)\n",
    "# f1_macro: http://scikit-learn.org/stable/modules/model_evaluation.html#scoring-parameter\n",
    "scores = cross_val_score(clf, W_train, twenty_train.target, cv=cv, scoring='f1_macro')\n",
    "\n",
    "scores"
   ]
  },
  {
   "cell_type": "markdown",
   "metadata": {},
   "source": [
    "## Pipeline and Grid Search of Parameters\n",
    "\n",
    "So far, we have gone through the complete process of training and testing a classifier. You may have found that there are lots of parameters that we can tune. For example, when we extract the features, we can choose different `min_df`, `max_df`, exclude different stopwords, use different tokenizer and stemmer/lemmatizer. Then we can choose different values for `k` if we decide to perform dimensionality reduction. We can choose the type of classifier, and for a specific classifier, there may be more parameters that we can tune...\n",
    "\n",
    "What's worse, the performance of the classification is not necessarily (actually very probably not) monotonically dependent on each parameter, with other parameters fixed.\n",
    "\n",
    "Thus, to fine-tune the parameters, we need to perform grid search in a (empirically determined) parameter range. This can be wickedly tedious if we do it by hand. Luckily, `scikit-learn` provides us with a set of tools to automate such mechanical and repetitive work."
   ]
  },
  {
   "cell_type": "markdown",
   "metadata": {},
   "source": [
    "### Pipeline"
   ]
  },
  {
   "cell_type": "code",
   "execution_count": 65,
   "metadata": {
    "collapsed": false
   },
   "outputs": [
    {
     "name": "stdout",
     "output_type": "stream",
     "text": [
      "accuracy:0.838501291989664\n"
     ]
    }
   ],
   "source": [
    "from sklearn.pipeline import Pipeline\n",
    "pipeline = Pipeline([\n",
    "    ('vect', CountVectorizer(min_df=1, stop_words='english')),\n",
    "    ('tfidf', TfidfTransformer()),\n",
    "    ('reduce_dim', TruncatedSVD(n_components=50, random_state=0)),\n",
    "    ('clf', GaussianNB()),\n",
    "])\n",
    "pipeline.fit(twenty_train.data, twenty_train.target)\n",
    "predict = pipeline.predict(twenty_test.data)\n",
    "print(\"accuracy:{}\".format(accuracy_score(twenty_test.target, predict)))"
   ]
  },
  {
   "cell_type": "markdown",
   "metadata": {},
   "source": [
    "### Grid Search"
   ]
  },
  {
   "cell_type": "code",
   "execution_count": 68,
   "metadata": {
    "collapsed": false
   },
   "outputs": [
    {
     "name": "stdout",
     "output_type": "stream",
     "text": [
      "________________________________________________________________________________\n",
      "[Memory] Calling sklearn.pipeline._fit_transform_one...\n",
      "_fit_transform_one(CountVectorizer(analyzer='word', binary=False, decode_error='strict',\n",
      "        dtype=<class 'numpy.int64'>, encoding='utf-8', input='content',\n",
      "        lowercase=True, max_df=1.0, max_features=None, min_df=1,\n",
      "        ngram_range=(1, 1), preprocessor=None, stop_words='english',\n",
      "        strip_accents=None, token_pattern='(?u)\\\\b\\\\w\\\\w+\\\\b',\n",
      "        tokenizer=None, vocabulary=None), \n",
      "None, [ 'From: doug@hparc0.aus.hp.com (Doug Parsons)\\n'\n",
      "  'Subject: 3D2 files - what are they?\\n'\n",
      "  'Organization: HP Australasian Response Centre (Melbourne)\\n'\n",
      "  'X-Newsreader: TIN [version 1.1 PL8.5]\\n'\n",
      "  'Lines: 12\\n'\n",
      "  '\\n'\n",
      "  'I was chaining around in the anonymous ftp world looking for 3D Studio\\n'\n",
      "  'meshes and other interesting graphical stuff for the program, and found\\n'\n",
      "  \"a few files with the extension 3D2.  My 3DS v2.01 doesn't know this type\\n\"\n",
      "  'of file, so what are they?\\n'\n",
      "  '\\n'\n",
      "  'And of course, the perennial... Where are some meshes, fli files, etc.\\n'\n",
      "  'out there?   I would have thought that someone would have collected a few\\n'\n",
      "  'and put them somewhere, but alas I am witho..., \n",
      "array([0, ..., 0]))\n",
      "________________________________________________fit_transform_one - 1.0s, 0.0min\n",
      "________________________________________________________________________________\n",
      "[Memory] Calling sklearn.pipeline._fit_transform_one...\n",
      "_fit_transform_one(TfidfTransformer(norm='l2', smooth_idf=True, sublinear_tf=False, use_idf=True), None, <774x15948 sparse matrix of type '<class 'numpy.int64'>'\n",
      "\twith 68950 stored elements in Compressed Sparse Row format>, \n",
      "array([0, ..., 0]))\n",
      "________________________________________________fit_transform_one - 0.0s, 0.0min\n",
      "________________________________________________________________________________\n",
      "[Memory] Calling sklearn.pipeline._fit_transform_one...\n",
      "_fit_transform_one(TruncatedSVD(algorithm='randomized', n_components=10, n_iter=5,\n",
      "       random_state=None, tol=0.0), \n",
      "None, <774x15948 sparse matrix of type '<class 'numpy.float64'>'\n",
      "\twith 68950 stored elements in Compressed Sparse Row format>, \n",
      "array([0, ..., 0]))\n",
      "________________________________________________fit_transform_one - 0.1s, 0.0min\n",
      "________________________________________________________________________________\n",
      "[Memory] Calling sklearn.pipeline._fit_transform_one...\n",
      "_fit_transform_one(CountVectorizer(analyzer='word', binary=False, decode_error='strict',\n",
      "        dtype=<class 'numpy.int64'>, encoding='utf-8', input='content',\n",
      "        lowercase=True, max_df=1.0, max_features=None, min_df=1,\n",
      "        ngram_range=(1, 1), preprocessor=None, stop_words='english',\n",
      "        strip_accents=None, token_pattern='(?u)\\\\b\\\\w\\\\w+\\\\b',\n",
      "        tokenizer=None, vocabulary=None), \n",
      "None, [ 'From: winstead@faraday.ece.cmu.edu (Charles Holden Winstead)\\n'\n",
      "  'Subject: ftp site for Radius software???\\n'\n",
      "  'Organization: Electrical and Computer Engineering, Carnegie Mellon\\n'\n",
      "  '\\n'\n",
      "  'Hey All,\\n'\n",
      "  '\\n'\n",
      "  'Does anyone know if I can ftp to get the newest version of Radiusware\\n'\n",
      "  'and soft pivot from Radius?  I bought a pivot monitor, but it has an\\n'\n",
      "  \"old version of this software and won't work on my C650, and Radius said\\n\"\n",
      "  'it would be 4-5 weeks until delivery.\\n'\n",
      "  '\\n'\n",
      "  'Thanks!\\n'\n",
      "  '\\n'\n",
      "  '-Chuck\\n'\n",
      "  '\\n'\n",
      "  '\\n',\n",
      "  'From: stefan@lis.e-technik.tu-muenchen.de (Stefan Eckart)\\n'\n",
      "  'Subject: dmpeg10.zip info: Another DOS MPEG decoder/player posted\\n'\n",
      "  'Keywords: MPEG, ..., \n",
      "array([1, ..., 0]))\n",
      "________________________________________________fit_transform_one - 0.9s, 0.0min\n",
      "________________________________________________________________________________\n",
      "[Memory] Calling sklearn.pipeline._fit_transform_one...\n",
      "_fit_transform_one(TfidfTransformer(norm='l2', smooth_idf=True, sublinear_tf=False, use_idf=True), None, <774x15597 sparse matrix of type '<class 'numpy.int64'>'\n",
      "\twith 66106 stored elements in Compressed Sparse Row format>, \n",
      "array([1, ..., 0]))\n",
      "________________________________________________fit_transform_one - 0.0s, 0.0min\n",
      "________________________________________________________________________________\n",
      "[Memory] Calling sklearn.pipeline._fit_transform_one...\n",
      "_fit_transform_one(TruncatedSVD(algorithm='randomized', n_components=10, n_iter=5,\n",
      "       random_state=None, tol=0.0), \n",
      "None, <774x15597 sparse matrix of type '<class 'numpy.float64'>'\n",
      "\twith 66106 stored elements in Compressed Sparse Row format>, \n",
      "array([1, ..., 0]))\n",
      "________________________________________________fit_transform_one - 0.1s, 0.0min\n",
      "________________________________________________________________________________\n",
      "[Memory] Calling sklearn.pipeline._fit_transform_one...\n",
      "_fit_transform_one(CountVectorizer(analyzer='word', binary=False, decode_error='strict',\n",
      "        dtype=<class 'numpy.int64'>, encoding='utf-8', input='content',\n",
      "        lowercase=True, max_df=1.0, max_features=None, min_df=1,\n",
      "        ngram_range=(1, 1), preprocessor=None, stop_words='english',\n",
      "        strip_accents=None, token_pattern='(?u)\\\\b\\\\w\\\\w+\\\\b',\n",
      "        tokenizer=None, vocabulary=None), \n",
      "None, [ 'From: winstead@faraday.ece.cmu.edu (Charles Holden Winstead)\\n'\n",
      "  'Subject: ftp site for Radius software???\\n'\n",
      "  'Organization: Electrical and Computer Engineering, Carnegie Mellon\\n'\n",
      "  '\\n'\n",
      "  'Hey All,\\n'\n",
      "  '\\n'\n",
      "  'Does anyone know if I can ftp to get the newest version of Radiusware\\n'\n",
      "  'and soft pivot from Radius?  I bought a pivot monitor, but it has an\\n'\n",
      "  \"old version of this software and won't work on my C650, and Radius said\\n\"\n",
      "  'it would be 4-5 weeks until delivery.\\n'\n",
      "  '\\n'\n",
      "  'Thanks!\\n'\n",
      "  '\\n'\n",
      "  '-Chuck\\n'\n",
      "  '\\n'\n",
      "  '\\n',\n",
      "  'From: stefan@lis.e-technik.tu-muenchen.de (Stefan Eckart)\\n'\n",
      "  'Subject: dmpeg10.zip info: Another DOS MPEG decoder/player posted\\n'\n",
      "  'Keywords: MPEG, ..., \n",
      "array([1, ..., 1]))\n",
      "________________________________________________fit_transform_one - 1.0s, 0.0min\n",
      "________________________________________________________________________________\n",
      "[Memory] Calling sklearn.pipeline._fit_transform_one...\n",
      "_fit_transform_one(TfidfTransformer(norm='l2', smooth_idf=True, sublinear_tf=False, use_idf=True), None, <776x14989 sparse matrix of type '<class 'numpy.int64'>'\n",
      "\twith 63770 stored elements in Compressed Sparse Row format>, \n",
      "array([1, ..., 1]))\n",
      "________________________________________________fit_transform_one - 0.0s, 0.0min\n",
      "________________________________________________________________________________\n",
      "[Memory] Calling sklearn.pipeline._fit_transform_one...\n",
      "_fit_transform_one(TruncatedSVD(algorithm='randomized', n_components=10, n_iter=5,\n",
      "       random_state=None, tol=0.0), \n",
      "None, <776x14989 sparse matrix of type '<class 'numpy.float64'>'\n",
      "\twith 63770 stored elements in Compressed Sparse Row format>, \n",
      "array([1, ..., 1]))\n",
      "________________________________________________fit_transform_one - 0.1s, 0.0min\n",
      "[Memory]    0.0s, 0.0min: Loading _fit_transform_one from /var/folders/cf/4rscw4s920j5hf0mlk10rhqw0000gn/T/tmpw7kv48o4/joblib/sklearn/pipeline/_fit_transform_one/7384a5f9643498f6c12c525a7571ba15\n",
      "___________________________________fit_transform_one cache loaded - 0.2s, 0.0min\n",
      "[Memory]    0.3s, 0.0min: Loading _fit_transform_one from /var/folders/cf/4rscw4s920j5hf0mlk10rhqw0000gn/T/tmpw7kv48o4/joblib/sklearn/pipeline/_fit_transform_one/13d416ca6655ca8d29196eba5304781e\n",
      "___________________________________fit_transform_one cache loaded - 0.0s, 0.0min\n",
      "________________________________________________________________________________\n",
      "[Memory] Calling sklearn.pipeline._fit_transform_one...\n",
      "_fit_transform_one(TruncatedSVD(algorithm='randomized', n_components=50, n_iter=5,\n",
      "       random_state=None, tol=0.0), \n",
      "None, <774x15948 sparse matrix of type '<class 'numpy.float64'>'\n",
      "\twith 68950 stored elements in Compressed Sparse Row format>, \n",
      "array([0, ..., 0]))\n",
      "________________________________________________fit_transform_one - 0.4s, 0.0min\n",
      "[Memory]    0.0s, 0.0min: Loading _fit_transform_one from /var/folders/cf/4rscw4s920j5hf0mlk10rhqw0000gn/T/tmpw7kv48o4/joblib/sklearn/pipeline/_fit_transform_one/aec3e12da72b7811bc80e40bcc1af7ff\n",
      "___________________________________fit_transform_one cache loaded - 0.2s, 0.0min\n",
      "[Memory]    0.2s, 0.0min: Loading _fit_transform_one from /var/folders/cf/4rscw4s920j5hf0mlk10rhqw0000gn/T/tmpw7kv48o4/joblib/sklearn/pipeline/_fit_transform_one/29371d29f599c801bc4412d985cbb72f\n",
      "___________________________________fit_transform_one cache loaded - 0.0s, 0.0min\n",
      "________________________________________________________________________________\n",
      "[Memory] Calling sklearn.pipeline._fit_transform_one...\n",
      "_fit_transform_one(TruncatedSVD(algorithm='randomized', n_components=50, n_iter=5,\n",
      "       random_state=None, tol=0.0), \n",
      "None, <774x15597 sparse matrix of type '<class 'numpy.float64'>'\n",
      "\twith 66106 stored elements in Compressed Sparse Row format>, \n",
      "array([1, ..., 0]))\n",
      "________________________________________________fit_transform_one - 0.3s, 0.0min\n",
      "[Memory]    0.0s, 0.0min: Loading _fit_transform_one from /var/folders/cf/4rscw4s920j5hf0mlk10rhqw0000gn/T/tmpw7kv48o4/joblib/sklearn/pipeline/_fit_transform_one/0bde1cd52b7e17bf1eb57fc567215434\n",
      "___________________________________fit_transform_one cache loaded - 0.3s, 0.0min\n",
      "[Memory]    0.3s, 0.0min: Loading _fit_transform_one from /var/folders/cf/4rscw4s920j5hf0mlk10rhqw0000gn/T/tmpw7kv48o4/joblib/sklearn/pipeline/_fit_transform_one/fbd5cc6b4796132e5b709a442c71e73a\n",
      "___________________________________fit_transform_one cache loaded - 0.0s, 0.0min\n",
      "________________________________________________________________________________\n",
      "[Memory] Calling sklearn.pipeline._fit_transform_one...\n",
      "_fit_transform_one(TruncatedSVD(algorithm='randomized', n_components=50, n_iter=5,\n",
      "       random_state=None, tol=0.0), \n",
      "None, <776x14989 sparse matrix of type '<class 'numpy.float64'>'\n",
      "\twith 63770 stored elements in Compressed Sparse Row format>, \n",
      "array([1, ..., 1]))\n",
      "________________________________________________fit_transform_one - 0.3s, 0.0min\n",
      "[Memory]    0.0s, 0.0min: Loading _fit_transform_one from /var/folders/cf/4rscw4s920j5hf0mlk10rhqw0000gn/T/tmpw7kv48o4/joblib/sklearn/pipeline/_fit_transform_one/7384a5f9643498f6c12c525a7571ba15\n",
      "___________________________________fit_transform_one cache loaded - 0.3s, 0.0min\n",
      "[Memory]    0.3s, 0.0min: Loading _fit_transform_one from /var/folders/cf/4rscw4s920j5hf0mlk10rhqw0000gn/T/tmpw7kv48o4/joblib/sklearn/pipeline/_fit_transform_one/13d416ca6655ca8d29196eba5304781e\n",
      "___________________________________fit_transform_one cache loaded - 0.0s, 0.0min\n",
      "________________________________________________________________________________\n",
      "[Memory] Calling sklearn.pipeline._fit_transform_one...\n",
      "_fit_transform_one(NMF(alpha=0.0, beta_loss='frobenius', init=None, l1_ratio=0.0, max_iter=200,\n",
      "  n_components=10, random_state=None, shuffle=False, solver='cd',\n",
      "  tol=0.0001, verbose=0), \n",
      "None, <774x15948 sparse matrix of type '<class 'numpy.float64'>'\n",
      "\twith 68950 stored elements in Compressed Sparse Row format>, \n",
      "array([0, ..., 0]))\n",
      "________________________________________________fit_transform_one - 1.0s, 0.0min\n",
      "[Memory]    0.0s, 0.0min: Loading _fit_transform_one from /var/folders/cf/4rscw4s920j5hf0mlk10rhqw0000gn/T/tmpw7kv48o4/joblib/sklearn/pipeline/_fit_transform_one/aec3e12da72b7811bc80e40bcc1af7ff\n",
      "___________________________________fit_transform_one cache loaded - 0.2s, 0.0min\n",
      "[Memory]    0.3s, 0.0min: Loading _fit_transform_one from /var/folders/cf/4rscw4s920j5hf0mlk10rhqw0000gn/T/tmpw7kv48o4/joblib/sklearn/pipeline/_fit_transform_one/29371d29f599c801bc4412d985cbb72f\n",
      "___________________________________fit_transform_one cache loaded - 0.0s, 0.0min\n",
      "________________________________________________________________________________\n",
      "[Memory] Calling sklearn.pipeline._fit_transform_one...\n",
      "_fit_transform_one(NMF(alpha=0.0, beta_loss='frobenius', init=None, l1_ratio=0.0, max_iter=200,\n",
      "  n_components=10, random_state=None, shuffle=False, solver='cd',\n",
      "  tol=0.0001, verbose=0), \n",
      "None, <774x15597 sparse matrix of type '<class 'numpy.float64'>'\n",
      "\twith 66106 stored elements in Compressed Sparse Row format>, \n",
      "array([1, ..., 0]))\n",
      "________________________________________________fit_transform_one - 1.2s, 0.0min\n",
      "[Memory]    0.0s, 0.0min: Loading _fit_transform_one from /var/folders/cf/4rscw4s920j5hf0mlk10rhqw0000gn/T/tmpw7kv48o4/joblib/sklearn/pipeline/_fit_transform_one/0bde1cd52b7e17bf1eb57fc567215434\n",
      "___________________________________fit_transform_one cache loaded - 0.3s, 0.0min\n",
      "[Memory]    0.3s, 0.0min: Loading _fit_transform_one from /var/folders/cf/4rscw4s920j5hf0mlk10rhqw0000gn/T/tmpw7kv48o4/joblib/sklearn/pipeline/_fit_transform_one/fbd5cc6b4796132e5b709a442c71e73a\n",
      "___________________________________fit_transform_one cache loaded - 0.0s, 0.0min\n",
      "________________________________________________________________________________\n",
      "[Memory] Calling sklearn.pipeline._fit_transform_one...\n",
      "_fit_transform_one(NMF(alpha=0.0, beta_loss='frobenius', init=None, l1_ratio=0.0, max_iter=200,\n",
      "  n_components=10, random_state=None, shuffle=False, solver='cd',\n",
      "  tol=0.0001, verbose=0), \n",
      "None, <776x14989 sparse matrix of type '<class 'numpy.float64'>'\n",
      "\twith 63770 stored elements in Compressed Sparse Row format>, \n",
      "array([1, ..., 1]))\n",
      "________________________________________________fit_transform_one - 1.0s, 0.0min\n",
      "[Memory]    0.0s, 0.0min: Loading _fit_transform_one from /var/folders/cf/4rscw4s920j5hf0mlk10rhqw0000gn/T/tmpw7kv48o4/joblib/sklearn/pipeline/_fit_transform_one/7384a5f9643498f6c12c525a7571ba15\n",
      "___________________________________fit_transform_one cache loaded - 0.3s, 0.0min\n",
      "[Memory]    0.3s, 0.0min: Loading _fit_transform_one from /var/folders/cf/4rscw4s920j5hf0mlk10rhqw0000gn/T/tmpw7kv48o4/joblib/sklearn/pipeline/_fit_transform_one/13d416ca6655ca8d29196eba5304781e\n",
      "___________________________________fit_transform_one cache loaded - 0.0s, 0.0min\n",
      "________________________________________________________________________________\n",
      "[Memory] Calling sklearn.pipeline._fit_transform_one...\n",
      "_fit_transform_one(NMF(alpha=0.0, beta_loss='frobenius', init=None, l1_ratio=0.0, max_iter=200,\n",
      "  n_components=50, random_state=None, shuffle=False, solver='cd',\n",
      "  tol=0.0001, verbose=0), \n",
      "None, <774x15948 sparse matrix of type '<class 'numpy.float64'>'\n",
      "\twith 68950 stored elements in Compressed Sparse Row format>, \n",
      "array([0, ..., 0]))\n",
      "_______________________________________________fit_transform_one - 16.2s, 0.3min\n",
      "[Memory]    0.0s, 0.0min: Loading _fit_transform_one from /var/folders/cf/4rscw4s920j5hf0mlk10rhqw0000gn/T/tmpw7kv48o4/joblib/sklearn/pipeline/_fit_transform_one/aec3e12da72b7811bc80e40bcc1af7ff\n",
      "___________________________________fit_transform_one cache loaded - 0.4s, 0.0min\n",
      "[Memory]    0.4s, 0.0min: Loading _fit_transform_one from /var/folders/cf/4rscw4s920j5hf0mlk10rhqw0000gn/T/tmpw7kv48o4/joblib/sklearn/pipeline/_fit_transform_one/29371d29f599c801bc4412d985cbb72f\n",
      "___________________________________fit_transform_one cache loaded - 0.0s, 0.0min\n",
      "________________________________________________________________________________\n",
      "[Memory] Calling sklearn.pipeline._fit_transform_one...\n",
      "_fit_transform_one(NMF(alpha=0.0, beta_loss='frobenius', init=None, l1_ratio=0.0, max_iter=200,\n",
      "  n_components=50, random_state=None, shuffle=False, solver='cd',\n",
      "  tol=0.0001, verbose=0), \n",
      "None, <774x15597 sparse matrix of type '<class 'numpy.float64'>'\n",
      "\twith 66106 stored elements in Compressed Sparse Row format>, \n",
      "array([1, ..., 0]))\n",
      "_______________________________________________fit_transform_one - 18.1s, 0.3min\n",
      "[Memory]    0.0s, 0.0min: Loading _fit_transform_one from /var/folders/cf/4rscw4s920j5hf0mlk10rhqw0000gn/T/tmpw7kv48o4/joblib/sklearn/pipeline/_fit_transform_one/0bde1cd52b7e17bf1eb57fc567215434\n",
      "___________________________________fit_transform_one cache loaded - 0.2s, 0.0min\n",
      "[Memory]    0.2s, 0.0min: Loading _fit_transform_one from /var/folders/cf/4rscw4s920j5hf0mlk10rhqw0000gn/T/tmpw7kv48o4/joblib/sklearn/pipeline/_fit_transform_one/fbd5cc6b4796132e5b709a442c71e73a\n",
      "___________________________________fit_transform_one cache loaded - 0.0s, 0.0min\n",
      "________________________________________________________________________________\n",
      "[Memory] Calling sklearn.pipeline._fit_transform_one...\n",
      "_fit_transform_one(NMF(alpha=0.0, beta_loss='frobenius', init=None, l1_ratio=0.0, max_iter=200,\n",
      "  n_components=50, random_state=None, shuffle=False, solver='cd',\n",
      "  tol=0.0001, verbose=0), \n",
      "None, <776x14989 sparse matrix of type '<class 'numpy.float64'>'\n",
      "\twith 63770 stored elements in Compressed Sparse Row format>, \n",
      "array([1, ..., 1]))\n",
      "_______________________________________________fit_transform_one - 14.6s, 0.2min\n",
      "[Memory]    0.0s, 0.0min: Loading _fit_transform_one from /var/folders/cf/4rscw4s920j5hf0mlk10rhqw0000gn/T/tmpw7kv48o4/joblib/sklearn/pipeline/_fit_transform_one/7384a5f9643498f6c12c525a7571ba15\n",
      "___________________________________fit_transform_one cache loaded - 0.2s, 0.0min\n",
      "[Memory]    0.2s, 0.0min: Loading _fit_transform_one from /var/folders/cf/4rscw4s920j5hf0mlk10rhqw0000gn/T/tmpw7kv48o4/joblib/sklearn/pipeline/_fit_transform_one/13d416ca6655ca8d29196eba5304781e\n",
      "___________________________________fit_transform_one cache loaded - 0.0s, 0.0min\n",
      "[Memory]    0.3s, 0.0min: Loading _fit_transform_one from /var/folders/cf/4rscw4s920j5hf0mlk10rhqw0000gn/T/tmpw7kv48o4/joblib/sklearn/pipeline/_fit_transform_one/427a4d1cb0a7366fbf30824a2f91d5d6\n",
      "___________________________________fit_transform_one cache loaded - 0.0s, 0.0min\n",
      "[Memory]    0.0s, 0.0min: Loading _fit_transform_one from /var/folders/cf/4rscw4s920j5hf0mlk10rhqw0000gn/T/tmpw7kv48o4/joblib/sklearn/pipeline/_fit_transform_one/aec3e12da72b7811bc80e40bcc1af7ff\n",
      "___________________________________fit_transform_one cache loaded - 0.2s, 0.0min\n",
      "[Memory]    0.3s, 0.0min: Loading _fit_transform_one from /var/folders/cf/4rscw4s920j5hf0mlk10rhqw0000gn/T/tmpw7kv48o4/joblib/sklearn/pipeline/_fit_transform_one/29371d29f599c801bc4412d985cbb72f\n",
      "___________________________________fit_transform_one cache loaded - 0.0s, 0.0min\n",
      "[Memory]    0.3s, 0.0min: Loading _fit_transform_one from /var/folders/cf/4rscw4s920j5hf0mlk10rhqw0000gn/T/tmpw7kv48o4/joblib/sklearn/pipeline/_fit_transform_one/4d90a720a01b275b9104b262b26bb466\n",
      "___________________________________fit_transform_one cache loaded - 0.0s, 0.0min\n",
      "[Memory]    0.0s, 0.0min: Loading _fit_transform_one from /var/folders/cf/4rscw4s920j5hf0mlk10rhqw0000gn/T/tmpw7kv48o4/joblib/sklearn/pipeline/_fit_transform_one/0bde1cd52b7e17bf1eb57fc567215434\n",
      "___________________________________fit_transform_one cache loaded - 0.3s, 0.0min\n",
      "[Memory]    0.3s, 0.0min: Loading _fit_transform_one from /var/folders/cf/4rscw4s920j5hf0mlk10rhqw0000gn/T/tmpw7kv48o4/joblib/sklearn/pipeline/_fit_transform_one/fbd5cc6b4796132e5b709a442c71e73a\n",
      "___________________________________fit_transform_one cache loaded - 0.0s, 0.0min\n",
      "[Memory]    0.3s, 0.0min: Loading _fit_transform_one from /var/folders/cf/4rscw4s920j5hf0mlk10rhqw0000gn/T/tmpw7kv48o4/joblib/sklearn/pipeline/_fit_transform_one/52abe8dad395c320b6cfcae9ecbd93fa\n",
      "___________________________________fit_transform_one cache loaded - 0.0s, 0.0min\n",
      "[Memory]    0.0s, 0.0min: Loading _fit_transform_one from /var/folders/cf/4rscw4s920j5hf0mlk10rhqw0000gn/T/tmpw7kv48o4/joblib/sklearn/pipeline/_fit_transform_one/7384a5f9643498f6c12c525a7571ba15\n",
      "___________________________________fit_transform_one cache loaded - 0.3s, 0.0min\n",
      "[Memory]    0.3s, 0.0min: Loading _fit_transform_one from /var/folders/cf/4rscw4s920j5hf0mlk10rhqw0000gn/T/tmpw7kv48o4/joblib/sklearn/pipeline/_fit_transform_one/13d416ca6655ca8d29196eba5304781e\n",
      "___________________________________fit_transform_one cache loaded - 0.0s, 0.0min\n",
      "[Memory]    0.3s, 0.0min: Loading _fit_transform_one from /var/folders/cf/4rscw4s920j5hf0mlk10rhqw0000gn/T/tmpw7kv48o4/joblib/sklearn/pipeline/_fit_transform_one/aa75165e99a5218d9ebebc7d359d1492\n",
      "___________________________________fit_transform_one cache loaded - 0.0s, 0.0min\n",
      "[Memory]    0.0s, 0.0min: Loading _fit_transform_one from /var/folders/cf/4rscw4s920j5hf0mlk10rhqw0000gn/T/tmpw7kv48o4/joblib/sklearn/pipeline/_fit_transform_one/aec3e12da72b7811bc80e40bcc1af7ff\n",
      "___________________________________fit_transform_one cache loaded - 0.3s, 0.0min\n",
      "[Memory]    0.3s, 0.0min: Loading _fit_transform_one from /var/folders/cf/4rscw4s920j5hf0mlk10rhqw0000gn/T/tmpw7kv48o4/joblib/sklearn/pipeline/_fit_transform_one/29371d29f599c801bc4412d985cbb72f\n",
      "___________________________________fit_transform_one cache loaded - 0.0s, 0.0min\n",
      "[Memory]    0.3s, 0.0min: Loading _fit_transform_one from /var/folders/cf/4rscw4s920j5hf0mlk10rhqw0000gn/T/tmpw7kv48o4/joblib/sklearn/pipeline/_fit_transform_one/d71afc2fbb5a974c65116d1a11eb34d4\n",
      "___________________________________fit_transform_one cache loaded - 0.0s, 0.0min\n",
      "[Memory]    0.0s, 0.0min: Loading _fit_transform_one from /var/folders/cf/4rscw4s920j5hf0mlk10rhqw0000gn/T/tmpw7kv48o4/joblib/sklearn/pipeline/_fit_transform_one/0bde1cd52b7e17bf1eb57fc567215434\n",
      "___________________________________fit_transform_one cache loaded - 0.2s, 0.0min\n",
      "[Memory]    0.3s, 0.0min: Loading _fit_transform_one from /var/folders/cf/4rscw4s920j5hf0mlk10rhqw0000gn/T/tmpw7kv48o4/joblib/sklearn/pipeline/_fit_transform_one/fbd5cc6b4796132e5b709a442c71e73a\n",
      "___________________________________fit_transform_one cache loaded - 0.0s, 0.0min\n",
      "[Memory]    0.3s, 0.0min: Loading _fit_transform_one from /var/folders/cf/4rscw4s920j5hf0mlk10rhqw0000gn/T/tmpw7kv48o4/joblib/sklearn/pipeline/_fit_transform_one/039a0851af27af004c0a4dd92e7a695e\n",
      "___________________________________fit_transform_one cache loaded - 0.0s, 0.0min\n",
      "[Memory]    0.0s, 0.0min: Loading _fit_transform_one from /var/folders/cf/4rscw4s920j5hf0mlk10rhqw0000gn/T/tmpw7kv48o4/joblib/sklearn/pipeline/_fit_transform_one/7384a5f9643498f6c12c525a7571ba15\n",
      "___________________________________fit_transform_one cache loaded - 0.3s, 0.0min\n",
      "[Memory]    0.3s, 0.0min: Loading _fit_transform_one from /var/folders/cf/4rscw4s920j5hf0mlk10rhqw0000gn/T/tmpw7kv48o4/joblib/sklearn/pipeline/_fit_transform_one/13d416ca6655ca8d29196eba5304781e\n",
      "___________________________________fit_transform_one cache loaded - 0.0s, 0.0min\n",
      "[Memory]    0.3s, 0.0min: Loading _fit_transform_one from /var/folders/cf/4rscw4s920j5hf0mlk10rhqw0000gn/T/tmpw7kv48o4/joblib/sklearn/pipeline/_fit_transform_one/e852b3e3167ef585ec70eb18b5beb684\n",
      "___________________________________fit_transform_one cache loaded - 0.0s, 0.0min\n",
      "[Memory]    0.0s, 0.0min: Loading _fit_transform_one from /var/folders/cf/4rscw4s920j5hf0mlk10rhqw0000gn/T/tmpw7kv48o4/joblib/sklearn/pipeline/_fit_transform_one/aec3e12da72b7811bc80e40bcc1af7ff\n",
      "___________________________________fit_transform_one cache loaded - 0.3s, 0.0min\n",
      "[Memory]    0.3s, 0.0min: Loading _fit_transform_one from /var/folders/cf/4rscw4s920j5hf0mlk10rhqw0000gn/T/tmpw7kv48o4/joblib/sklearn/pipeline/_fit_transform_one/29371d29f599c801bc4412d985cbb72f\n",
      "___________________________________fit_transform_one cache loaded - 0.0s, 0.0min\n",
      "[Memory]    0.3s, 0.0min: Loading _fit_transform_one from /var/folders/cf/4rscw4s920j5hf0mlk10rhqw0000gn/T/tmpw7kv48o4/joblib/sklearn/pipeline/_fit_transform_one/c032b4788d9ac0aba64aa61d8fe10563\n",
      "___________________________________fit_transform_one cache loaded - 0.0s, 0.0min\n",
      "[Memory]    0.0s, 0.0min: Loading _fit_transform_one from /var/folders/cf/4rscw4s920j5hf0mlk10rhqw0000gn/T/tmpw7kv48o4/joblib/sklearn/pipeline/_fit_transform_one/0bde1cd52b7e17bf1eb57fc567215434\n",
      "___________________________________fit_transform_one cache loaded - 0.2s, 0.0min\n",
      "[Memory]    0.2s, 0.0min: Loading _fit_transform_one from /var/folders/cf/4rscw4s920j5hf0mlk10rhqw0000gn/T/tmpw7kv48o4/joblib/sklearn/pipeline/_fit_transform_one/fbd5cc6b4796132e5b709a442c71e73a\n",
      "___________________________________fit_transform_one cache loaded - 0.0s, 0.0min\n",
      "[Memory]    0.2s, 0.0min: Loading _fit_transform_one from /var/folders/cf/4rscw4s920j5hf0mlk10rhqw0000gn/T/tmpw7kv48o4/joblib/sklearn/pipeline/_fit_transform_one/cd38eac573f3f8c9570d8e19a90e05d9\n",
      "___________________________________fit_transform_one cache loaded - 0.0s, 0.0min\n",
      "[Memory]    0.0s, 0.0min: Loading _fit_transform_one from /var/folders/cf/4rscw4s920j5hf0mlk10rhqw0000gn/T/tmpw7kv48o4/joblib/sklearn/pipeline/_fit_transform_one/7384a5f9643498f6c12c525a7571ba15\n",
      "___________________________________fit_transform_one cache loaded - 0.3s, 0.0min\n",
      "[Memory]    0.3s, 0.0min: Loading _fit_transform_one from /var/folders/cf/4rscw4s920j5hf0mlk10rhqw0000gn/T/tmpw7kv48o4/joblib/sklearn/pipeline/_fit_transform_one/13d416ca6655ca8d29196eba5304781e\n",
      "___________________________________fit_transform_one cache loaded - 0.0s, 0.0min\n",
      "[Memory]    0.3s, 0.0min: Loading _fit_transform_one from /var/folders/cf/4rscw4s920j5hf0mlk10rhqw0000gn/T/tmpw7kv48o4/joblib/sklearn/pipeline/_fit_transform_one/6205f00388a43618422c1567e9e48ff2\n",
      "___________________________________fit_transform_one cache loaded - 0.0s, 0.0min\n",
      "[Memory]    0.0s, 0.0min: Loading _fit_transform_one from /var/folders/cf/4rscw4s920j5hf0mlk10rhqw0000gn/T/tmpw7kv48o4/joblib/sklearn/pipeline/_fit_transform_one/aec3e12da72b7811bc80e40bcc1af7ff\n",
      "___________________________________fit_transform_one cache loaded - 0.3s, 0.0min\n",
      "[Memory]    0.3s, 0.0min: Loading _fit_transform_one from /var/folders/cf/4rscw4s920j5hf0mlk10rhqw0000gn/T/tmpw7kv48o4/joblib/sklearn/pipeline/_fit_transform_one/29371d29f599c801bc4412d985cbb72f\n",
      "___________________________________fit_transform_one cache loaded - 0.0s, 0.0min\n",
      "[Memory]    0.3s, 0.0min: Loading _fit_transform_one from /var/folders/cf/4rscw4s920j5hf0mlk10rhqw0000gn/T/tmpw7kv48o4/joblib/sklearn/pipeline/_fit_transform_one/44f36522a013b0877e15292644d36449\n",
      "___________________________________fit_transform_one cache loaded - 0.0s, 0.0min\n",
      "[Memory]    0.0s, 0.0min: Loading _fit_transform_one from /var/folders/cf/4rscw4s920j5hf0mlk10rhqw0000gn/T/tmpw7kv48o4/joblib/sklearn/pipeline/_fit_transform_one/0bde1cd52b7e17bf1eb57fc567215434\n",
      "___________________________________fit_transform_one cache loaded - 0.2s, 0.0min\n",
      "[Memory]    0.3s, 0.0min: Loading _fit_transform_one from /var/folders/cf/4rscw4s920j5hf0mlk10rhqw0000gn/T/tmpw7kv48o4/joblib/sklearn/pipeline/_fit_transform_one/fbd5cc6b4796132e5b709a442c71e73a\n",
      "___________________________________fit_transform_one cache loaded - 0.0s, 0.0min\n",
      "[Memory]    0.3s, 0.0min: Loading _fit_transform_one from /var/folders/cf/4rscw4s920j5hf0mlk10rhqw0000gn/T/tmpw7kv48o4/joblib/sklearn/pipeline/_fit_transform_one/ae4ce65c7ceeca28d0ca7489af5e1d18\n",
      "___________________________________fit_transform_one cache loaded - 0.0s, 0.0min\n",
      "[Memory]    0.0s, 0.0min: Loading _fit_transform_one from /var/folders/cf/4rscw4s920j5hf0mlk10rhqw0000gn/T/tmpw7kv48o4/joblib/sklearn/pipeline/_fit_transform_one/7384a5f9643498f6c12c525a7571ba15\n",
      "___________________________________fit_transform_one cache loaded - 0.3s, 0.0min\n",
      "[Memory]    0.3s, 0.0min: Loading _fit_transform_one from /var/folders/cf/4rscw4s920j5hf0mlk10rhqw0000gn/T/tmpw7kv48o4/joblib/sklearn/pipeline/_fit_transform_one/13d416ca6655ca8d29196eba5304781e\n",
      "___________________________________fit_transform_one cache loaded - 0.0s, 0.0min\n",
      "[Memory]    0.3s, 0.0min: Loading _fit_transform_one from /var/folders/cf/4rscw4s920j5hf0mlk10rhqw0000gn/T/tmpw7kv48o4/joblib/sklearn/pipeline/_fit_transform_one/427a4d1cb0a7366fbf30824a2f91d5d6\n",
      "___________________________________fit_transform_one cache loaded - 0.0s, 0.0min\n",
      "[Memory]    0.0s, 0.0min: Loading _fit_transform_one from /var/folders/cf/4rscw4s920j5hf0mlk10rhqw0000gn/T/tmpw7kv48o4/joblib/sklearn/pipeline/_fit_transform_one/aec3e12da72b7811bc80e40bcc1af7ff\n",
      "___________________________________fit_transform_one cache loaded - 0.2s, 0.0min\n",
      "[Memory]    0.3s, 0.0min: Loading _fit_transform_one from /var/folders/cf/4rscw4s920j5hf0mlk10rhqw0000gn/T/tmpw7kv48o4/joblib/sklearn/pipeline/_fit_transform_one/29371d29f599c801bc4412d985cbb72f\n",
      "___________________________________fit_transform_one cache loaded - 0.0s, 0.0min\n",
      "[Memory]    0.3s, 0.0min: Loading _fit_transform_one from /var/folders/cf/4rscw4s920j5hf0mlk10rhqw0000gn/T/tmpw7kv48o4/joblib/sklearn/pipeline/_fit_transform_one/4d90a720a01b275b9104b262b26bb466\n",
      "___________________________________fit_transform_one cache loaded - 0.0s, 0.0min\n",
      "[Memory]    0.0s, 0.0min: Loading _fit_transform_one from /var/folders/cf/4rscw4s920j5hf0mlk10rhqw0000gn/T/tmpw7kv48o4/joblib/sklearn/pipeline/_fit_transform_one/0bde1cd52b7e17bf1eb57fc567215434\n",
      "___________________________________fit_transform_one cache loaded - 0.2s, 0.0min\n",
      "[Memory]    0.2s, 0.0min: Loading _fit_transform_one from /var/folders/cf/4rscw4s920j5hf0mlk10rhqw0000gn/T/tmpw7kv48o4/joblib/sklearn/pipeline/_fit_transform_one/fbd5cc6b4796132e5b709a442c71e73a\n",
      "___________________________________fit_transform_one cache loaded - 0.0s, 0.0min\n",
      "[Memory]    0.3s, 0.0min: Loading _fit_transform_one from /var/folders/cf/4rscw4s920j5hf0mlk10rhqw0000gn/T/tmpw7kv48o4/joblib/sklearn/pipeline/_fit_transform_one/52abe8dad395c320b6cfcae9ecbd93fa\n",
      "___________________________________fit_transform_one cache loaded - 0.0s, 0.0min\n",
      "[Memory]    0.0s, 0.0min: Loading _fit_transform_one from /var/folders/cf/4rscw4s920j5hf0mlk10rhqw0000gn/T/tmpw7kv48o4/joblib/sklearn/pipeline/_fit_transform_one/7384a5f9643498f6c12c525a7571ba15\n",
      "___________________________________fit_transform_one cache loaded - 0.2s, 0.0min\n",
      "[Memory]    0.3s, 0.0min: Loading _fit_transform_one from /var/folders/cf/4rscw4s920j5hf0mlk10rhqw0000gn/T/tmpw7kv48o4/joblib/sklearn/pipeline/_fit_transform_one/13d416ca6655ca8d29196eba5304781e\n",
      "___________________________________fit_transform_one cache loaded - 0.0s, 0.0min\n",
      "[Memory]    0.3s, 0.0min: Loading _fit_transform_one from /var/folders/cf/4rscw4s920j5hf0mlk10rhqw0000gn/T/tmpw7kv48o4/joblib/sklearn/pipeline/_fit_transform_one/aa75165e99a5218d9ebebc7d359d1492\n",
      "___________________________________fit_transform_one cache loaded - 0.0s, 0.0min\n",
      "[Memory]    0.0s, 0.0min: Loading _fit_transform_one from /var/folders/cf/4rscw4s920j5hf0mlk10rhqw0000gn/T/tmpw7kv48o4/joblib/sklearn/pipeline/_fit_transform_one/aec3e12da72b7811bc80e40bcc1af7ff\n",
      "___________________________________fit_transform_one cache loaded - 0.3s, 0.0min\n",
      "[Memory]    0.3s, 0.0min: Loading _fit_transform_one from /var/folders/cf/4rscw4s920j5hf0mlk10rhqw0000gn/T/tmpw7kv48o4/joblib/sklearn/pipeline/_fit_transform_one/29371d29f599c801bc4412d985cbb72f\n",
      "___________________________________fit_transform_one cache loaded - 0.0s, 0.0min\n",
      "[Memory]    0.3s, 0.0min: Loading _fit_transform_one from /var/folders/cf/4rscw4s920j5hf0mlk10rhqw0000gn/T/tmpw7kv48o4/joblib/sklearn/pipeline/_fit_transform_one/d71afc2fbb5a974c65116d1a11eb34d4\n",
      "___________________________________fit_transform_one cache loaded - 0.0s, 0.0min\n",
      "[Memory]    0.0s, 0.0min: Loading _fit_transform_one from /var/folders/cf/4rscw4s920j5hf0mlk10rhqw0000gn/T/tmpw7kv48o4/joblib/sklearn/pipeline/_fit_transform_one/0bde1cd52b7e17bf1eb57fc567215434\n",
      "___________________________________fit_transform_one cache loaded - 0.2s, 0.0min\n",
      "[Memory]    0.3s, 0.0min: Loading _fit_transform_one from /var/folders/cf/4rscw4s920j5hf0mlk10rhqw0000gn/T/tmpw7kv48o4/joblib/sklearn/pipeline/_fit_transform_one/fbd5cc6b4796132e5b709a442c71e73a\n",
      "___________________________________fit_transform_one cache loaded - 0.0s, 0.0min\n",
      "[Memory]    0.3s, 0.0min: Loading _fit_transform_one from /var/folders/cf/4rscw4s920j5hf0mlk10rhqw0000gn/T/tmpw7kv48o4/joblib/sklearn/pipeline/_fit_transform_one/039a0851af27af004c0a4dd92e7a695e\n",
      "___________________________________fit_transform_one cache loaded - 0.0s, 0.0min\n",
      "[Memory]    0.0s, 0.0min: Loading _fit_transform_one from /var/folders/cf/4rscw4s920j5hf0mlk10rhqw0000gn/T/tmpw7kv48o4/joblib/sklearn/pipeline/_fit_transform_one/7384a5f9643498f6c12c525a7571ba15\n",
      "___________________________________fit_transform_one cache loaded - 0.3s, 0.0min\n",
      "[Memory]    0.3s, 0.0min: Loading _fit_transform_one from /var/folders/cf/4rscw4s920j5hf0mlk10rhqw0000gn/T/tmpw7kv48o4/joblib/sklearn/pipeline/_fit_transform_one/13d416ca6655ca8d29196eba5304781e\n",
      "___________________________________fit_transform_one cache loaded - 0.0s, 0.0min\n",
      "[Memory]    0.3s, 0.0min: Loading _fit_transform_one from /var/folders/cf/4rscw4s920j5hf0mlk10rhqw0000gn/T/tmpw7kv48o4/joblib/sklearn/pipeline/_fit_transform_one/e852b3e3167ef585ec70eb18b5beb684\n",
      "___________________________________fit_transform_one cache loaded - 0.0s, 0.0min\n",
      "[Memory]    0.0s, 0.0min: Loading _fit_transform_one from /var/folders/cf/4rscw4s920j5hf0mlk10rhqw0000gn/T/tmpw7kv48o4/joblib/sklearn/pipeline/_fit_transform_one/aec3e12da72b7811bc80e40bcc1af7ff\n",
      "___________________________________fit_transform_one cache loaded - 0.3s, 0.0min\n",
      "[Memory]    0.3s, 0.0min: Loading _fit_transform_one from /var/folders/cf/4rscw4s920j5hf0mlk10rhqw0000gn/T/tmpw7kv48o4/joblib/sklearn/pipeline/_fit_transform_one/29371d29f599c801bc4412d985cbb72f\n",
      "___________________________________fit_transform_one cache loaded - 0.0s, 0.0min\n",
      "[Memory]    0.3s, 0.0min: Loading _fit_transform_one from /var/folders/cf/4rscw4s920j5hf0mlk10rhqw0000gn/T/tmpw7kv48o4/joblib/sklearn/pipeline/_fit_transform_one/c032b4788d9ac0aba64aa61d8fe10563\n",
      "___________________________________fit_transform_one cache loaded - 0.0s, 0.0min\n",
      "[Memory]    0.0s, 0.0min: Loading _fit_transform_one from /var/folders/cf/4rscw4s920j5hf0mlk10rhqw0000gn/T/tmpw7kv48o4/joblib/sklearn/pipeline/_fit_transform_one/0bde1cd52b7e17bf1eb57fc567215434\n",
      "___________________________________fit_transform_one cache loaded - 0.3s, 0.0min\n",
      "[Memory]    0.3s, 0.0min: Loading _fit_transform_one from /var/folders/cf/4rscw4s920j5hf0mlk10rhqw0000gn/T/tmpw7kv48o4/joblib/sklearn/pipeline/_fit_transform_one/fbd5cc6b4796132e5b709a442c71e73a\n",
      "___________________________________fit_transform_one cache loaded - 0.0s, 0.0min\n",
      "[Memory]    0.3s, 0.0min: Loading _fit_transform_one from /var/folders/cf/4rscw4s920j5hf0mlk10rhqw0000gn/T/tmpw7kv48o4/joblib/sklearn/pipeline/_fit_transform_one/cd38eac573f3f8c9570d8e19a90e05d9\n",
      "___________________________________fit_transform_one cache loaded - 0.0s, 0.0min\n",
      "[Memory]    0.0s, 0.0min: Loading _fit_transform_one from /var/folders/cf/4rscw4s920j5hf0mlk10rhqw0000gn/T/tmpw7kv48o4/joblib/sklearn/pipeline/_fit_transform_one/7384a5f9643498f6c12c525a7571ba15\n",
      "___________________________________fit_transform_one cache loaded - 0.2s, 0.0min\n",
      "[Memory]    0.3s, 0.0min: Loading _fit_transform_one from /var/folders/cf/4rscw4s920j5hf0mlk10rhqw0000gn/T/tmpw7kv48o4/joblib/sklearn/pipeline/_fit_transform_one/13d416ca6655ca8d29196eba5304781e\n",
      "___________________________________fit_transform_one cache loaded - 0.0s, 0.0min\n",
      "[Memory]    0.3s, 0.0min: Loading _fit_transform_one from /var/folders/cf/4rscw4s920j5hf0mlk10rhqw0000gn/T/tmpw7kv48o4/joblib/sklearn/pipeline/_fit_transform_one/6205f00388a43618422c1567e9e48ff2\n",
      "___________________________________fit_transform_one cache loaded - 0.0s, 0.0min\n",
      "[Memory]    0.0s, 0.0min: Loading _fit_transform_one from /var/folders/cf/4rscw4s920j5hf0mlk10rhqw0000gn/T/tmpw7kv48o4/joblib/sklearn/pipeline/_fit_transform_one/aec3e12da72b7811bc80e40bcc1af7ff\n",
      "___________________________________fit_transform_one cache loaded - 0.2s, 0.0min\n",
      "[Memory]    0.3s, 0.0min: Loading _fit_transform_one from /var/folders/cf/4rscw4s920j5hf0mlk10rhqw0000gn/T/tmpw7kv48o4/joblib/sklearn/pipeline/_fit_transform_one/29371d29f599c801bc4412d985cbb72f\n",
      "___________________________________fit_transform_one cache loaded - 0.0s, 0.0min\n",
      "[Memory]    0.3s, 0.0min: Loading _fit_transform_one from /var/folders/cf/4rscw4s920j5hf0mlk10rhqw0000gn/T/tmpw7kv48o4/joblib/sklearn/pipeline/_fit_transform_one/44f36522a013b0877e15292644d36449\n",
      "___________________________________fit_transform_one cache loaded - 0.0s, 0.0min\n",
      "[Memory]    0.0s, 0.0min: Loading _fit_transform_one from /var/folders/cf/4rscw4s920j5hf0mlk10rhqw0000gn/T/tmpw7kv48o4/joblib/sklearn/pipeline/_fit_transform_one/0bde1cd52b7e17bf1eb57fc567215434\n",
      "___________________________________fit_transform_one cache loaded - 0.2s, 0.0min\n",
      "[Memory]    0.2s, 0.0min: Loading _fit_transform_one from /var/folders/cf/4rscw4s920j5hf0mlk10rhqw0000gn/T/tmpw7kv48o4/joblib/sklearn/pipeline/_fit_transform_one/fbd5cc6b4796132e5b709a442c71e73a\n",
      "___________________________________fit_transform_one cache loaded - 0.0s, 0.0min\n",
      "[Memory]    0.2s, 0.0min: Loading _fit_transform_one from /var/folders/cf/4rscw4s920j5hf0mlk10rhqw0000gn/T/tmpw7kv48o4/joblib/sklearn/pipeline/_fit_transform_one/ae4ce65c7ceeca28d0ca7489af5e1d18\n",
      "___________________________________fit_transform_one cache loaded - 0.0s, 0.0min\n",
      "[Memory]    0.0s, 0.0min: Loading _fit_transform_one from /var/folders/cf/4rscw4s920j5hf0mlk10rhqw0000gn/T/tmpw7kv48o4/joblib/sklearn/pipeline/_fit_transform_one/7384a5f9643498f6c12c525a7571ba15\n",
      "___________________________________fit_transform_one cache loaded - 0.2s, 0.0min\n",
      "[Memory]    0.3s, 0.0min: Loading _fit_transform_one from /var/folders/cf/4rscw4s920j5hf0mlk10rhqw0000gn/T/tmpw7kv48o4/joblib/sklearn/pipeline/_fit_transform_one/13d416ca6655ca8d29196eba5304781e\n",
      "___________________________________fit_transform_one cache loaded - 0.0s, 0.0min\n",
      "[Memory]    0.3s, 0.0min: Loading _fit_transform_one from /var/folders/cf/4rscw4s920j5hf0mlk10rhqw0000gn/T/tmpw7kv48o4/joblib/sklearn/pipeline/_fit_transform_one/427a4d1cb0a7366fbf30824a2f91d5d6\n",
      "___________________________________fit_transform_one cache loaded - 0.0s, 0.0min\n",
      "[Memory]    0.0s, 0.0min: Loading _fit_transform_one from /var/folders/cf/4rscw4s920j5hf0mlk10rhqw0000gn/T/tmpw7kv48o4/joblib/sklearn/pipeline/_fit_transform_one/aec3e12da72b7811bc80e40bcc1af7ff\n",
      "___________________________________fit_transform_one cache loaded - 0.2s, 0.0min\n",
      "[Memory]    0.2s, 0.0min: Loading _fit_transform_one from /var/folders/cf/4rscw4s920j5hf0mlk10rhqw0000gn/T/tmpw7kv48o4/joblib/sklearn/pipeline/_fit_transform_one/29371d29f599c801bc4412d985cbb72f\n",
      "___________________________________fit_transform_one cache loaded - 0.0s, 0.0min\n",
      "[Memory]    0.2s, 0.0min: Loading _fit_transform_one from /var/folders/cf/4rscw4s920j5hf0mlk10rhqw0000gn/T/tmpw7kv48o4/joblib/sklearn/pipeline/_fit_transform_one/4d90a720a01b275b9104b262b26bb466\n",
      "___________________________________fit_transform_one cache loaded - 0.0s, 0.0min\n",
      "[Memory]    0.0s, 0.0min: Loading _fit_transform_one from /var/folders/cf/4rscw4s920j5hf0mlk10rhqw0000gn/T/tmpw7kv48o4/joblib/sklearn/pipeline/_fit_transform_one/0bde1cd52b7e17bf1eb57fc567215434\n",
      "___________________________________fit_transform_one cache loaded - 0.2s, 0.0min\n",
      "[Memory]    0.2s, 0.0min: Loading _fit_transform_one from /var/folders/cf/4rscw4s920j5hf0mlk10rhqw0000gn/T/tmpw7kv48o4/joblib/sklearn/pipeline/_fit_transform_one/fbd5cc6b4796132e5b709a442c71e73a\n",
      "___________________________________fit_transform_one cache loaded - 0.0s, 0.0min\n",
      "[Memory]    0.3s, 0.0min: Loading _fit_transform_one from /var/folders/cf/4rscw4s920j5hf0mlk10rhqw0000gn/T/tmpw7kv48o4/joblib/sklearn/pipeline/_fit_transform_one/52abe8dad395c320b6cfcae9ecbd93fa\n",
      "___________________________________fit_transform_one cache loaded - 0.0s, 0.0min\n",
      "[Memory]    0.0s, 0.0min: Loading _fit_transform_one from /var/folders/cf/4rscw4s920j5hf0mlk10rhqw0000gn/T/tmpw7kv48o4/joblib/sklearn/pipeline/_fit_transform_one/7384a5f9643498f6c12c525a7571ba15\n",
      "___________________________________fit_transform_one cache loaded - 0.3s, 0.0min\n",
      "[Memory]    0.3s, 0.0min: Loading _fit_transform_one from /var/folders/cf/4rscw4s920j5hf0mlk10rhqw0000gn/T/tmpw7kv48o4/joblib/sklearn/pipeline/_fit_transform_one/13d416ca6655ca8d29196eba5304781e\n",
      "___________________________________fit_transform_one cache loaded - 0.0s, 0.0min\n",
      "[Memory]    0.3s, 0.0min: Loading _fit_transform_one from /var/folders/cf/4rscw4s920j5hf0mlk10rhqw0000gn/T/tmpw7kv48o4/joblib/sklearn/pipeline/_fit_transform_one/aa75165e99a5218d9ebebc7d359d1492\n",
      "___________________________________fit_transform_one cache loaded - 0.0s, 0.0min\n",
      "[Memory]    0.0s, 0.0min: Loading _fit_transform_one from /var/folders/cf/4rscw4s920j5hf0mlk10rhqw0000gn/T/tmpw7kv48o4/joblib/sklearn/pipeline/_fit_transform_one/aec3e12da72b7811bc80e40bcc1af7ff\n",
      "___________________________________fit_transform_one cache loaded - 0.2s, 0.0min\n",
      "[Memory]    0.3s, 0.0min: Loading _fit_transform_one from /var/folders/cf/4rscw4s920j5hf0mlk10rhqw0000gn/T/tmpw7kv48o4/joblib/sklearn/pipeline/_fit_transform_one/29371d29f599c801bc4412d985cbb72f\n",
      "___________________________________fit_transform_one cache loaded - 0.0s, 0.0min\n",
      "[Memory]    0.3s, 0.0min: Loading _fit_transform_one from /var/folders/cf/4rscw4s920j5hf0mlk10rhqw0000gn/T/tmpw7kv48o4/joblib/sklearn/pipeline/_fit_transform_one/d71afc2fbb5a974c65116d1a11eb34d4\n",
      "___________________________________fit_transform_one cache loaded - 0.0s, 0.0min\n",
      "[Memory]    0.0s, 0.0min: Loading _fit_transform_one from /var/folders/cf/4rscw4s920j5hf0mlk10rhqw0000gn/T/tmpw7kv48o4/joblib/sklearn/pipeline/_fit_transform_one/0bde1cd52b7e17bf1eb57fc567215434\n",
      "___________________________________fit_transform_one cache loaded - 0.4s, 0.0min\n",
      "[Memory]    0.5s, 0.0min: Loading _fit_transform_one from /var/folders/cf/4rscw4s920j5hf0mlk10rhqw0000gn/T/tmpw7kv48o4/joblib/sklearn/pipeline/_fit_transform_one/fbd5cc6b4796132e5b709a442c71e73a\n",
      "___________________________________fit_transform_one cache loaded - 0.0s, 0.0min\n",
      "[Memory]    0.5s, 0.0min: Loading _fit_transform_one from /var/folders/cf/4rscw4s920j5hf0mlk10rhqw0000gn/T/tmpw7kv48o4/joblib/sklearn/pipeline/_fit_transform_one/039a0851af27af004c0a4dd92e7a695e\n",
      "___________________________________fit_transform_one cache loaded - 0.0s, 0.0min\n",
      "[Memory]    0.0s, 0.0min: Loading _fit_transform_one from /var/folders/cf/4rscw4s920j5hf0mlk10rhqw0000gn/T/tmpw7kv48o4/joblib/sklearn/pipeline/_fit_transform_one/7384a5f9643498f6c12c525a7571ba15\n",
      "___________________________________fit_transform_one cache loaded - 0.3s, 0.0min\n",
      "[Memory]    0.3s, 0.0min: Loading _fit_transform_one from /var/folders/cf/4rscw4s920j5hf0mlk10rhqw0000gn/T/tmpw7kv48o4/joblib/sklearn/pipeline/_fit_transform_one/13d416ca6655ca8d29196eba5304781e\n",
      "___________________________________fit_transform_one cache loaded - 0.0s, 0.0min\n",
      "[Memory]    0.3s, 0.0min: Loading _fit_transform_one from /var/folders/cf/4rscw4s920j5hf0mlk10rhqw0000gn/T/tmpw7kv48o4/joblib/sklearn/pipeline/_fit_transform_one/e852b3e3167ef585ec70eb18b5beb684\n",
      "___________________________________fit_transform_one cache loaded - 0.0s, 0.0min\n",
      "[Memory]    0.0s, 0.0min: Loading _fit_transform_one from /var/folders/cf/4rscw4s920j5hf0mlk10rhqw0000gn/T/tmpw7kv48o4/joblib/sklearn/pipeline/_fit_transform_one/aec3e12da72b7811bc80e40bcc1af7ff\n",
      "___________________________________fit_transform_one cache loaded - 0.3s, 0.0min\n",
      "[Memory]    0.3s, 0.0min: Loading _fit_transform_one from /var/folders/cf/4rscw4s920j5hf0mlk10rhqw0000gn/T/tmpw7kv48o4/joblib/sklearn/pipeline/_fit_transform_one/29371d29f599c801bc4412d985cbb72f\n",
      "___________________________________fit_transform_one cache loaded - 0.0s, 0.0min\n",
      "[Memory]    0.3s, 0.0min: Loading _fit_transform_one from /var/folders/cf/4rscw4s920j5hf0mlk10rhqw0000gn/T/tmpw7kv48o4/joblib/sklearn/pipeline/_fit_transform_one/c032b4788d9ac0aba64aa61d8fe10563\n",
      "___________________________________fit_transform_one cache loaded - 0.0s, 0.0min\n",
      "[Memory]    0.0s, 0.0min: Loading _fit_transform_one from /var/folders/cf/4rscw4s920j5hf0mlk10rhqw0000gn/T/tmpw7kv48o4/joblib/sklearn/pipeline/_fit_transform_one/0bde1cd52b7e17bf1eb57fc567215434\n",
      "___________________________________fit_transform_one cache loaded - 0.2s, 0.0min\n",
      "[Memory]    0.2s, 0.0min: Loading _fit_transform_one from /var/folders/cf/4rscw4s920j5hf0mlk10rhqw0000gn/T/tmpw7kv48o4/joblib/sklearn/pipeline/_fit_transform_one/fbd5cc6b4796132e5b709a442c71e73a\n",
      "___________________________________fit_transform_one cache loaded - 0.0s, 0.0min\n",
      "[Memory]    0.3s, 0.0min: Loading _fit_transform_one from /var/folders/cf/4rscw4s920j5hf0mlk10rhqw0000gn/T/tmpw7kv48o4/joblib/sklearn/pipeline/_fit_transform_one/cd38eac573f3f8c9570d8e19a90e05d9\n",
      "___________________________________fit_transform_one cache loaded - 0.0s, 0.0min\n",
      "[Memory]    0.0s, 0.0min: Loading _fit_transform_one from /var/folders/cf/4rscw4s920j5hf0mlk10rhqw0000gn/T/tmpw7kv48o4/joblib/sklearn/pipeline/_fit_transform_one/7384a5f9643498f6c12c525a7571ba15\n",
      "___________________________________fit_transform_one cache loaded - 0.3s, 0.0min\n",
      "[Memory]    0.3s, 0.0min: Loading _fit_transform_one from /var/folders/cf/4rscw4s920j5hf0mlk10rhqw0000gn/T/tmpw7kv48o4/joblib/sklearn/pipeline/_fit_transform_one/13d416ca6655ca8d29196eba5304781e\n",
      "___________________________________fit_transform_one cache loaded - 0.0s, 0.0min\n",
      "[Memory]    0.3s, 0.0min: Loading _fit_transform_one from /var/folders/cf/4rscw4s920j5hf0mlk10rhqw0000gn/T/tmpw7kv48o4/joblib/sklearn/pipeline/_fit_transform_one/6205f00388a43618422c1567e9e48ff2\n",
      "___________________________________fit_transform_one cache loaded - 0.0s, 0.0min\n",
      "[Memory]    0.0s, 0.0min: Loading _fit_transform_one from /var/folders/cf/4rscw4s920j5hf0mlk10rhqw0000gn/T/tmpw7kv48o4/joblib/sklearn/pipeline/_fit_transform_one/aec3e12da72b7811bc80e40bcc1af7ff\n",
      "___________________________________fit_transform_one cache loaded - 0.2s, 0.0min\n",
      "[Memory]    0.3s, 0.0min: Loading _fit_transform_one from /var/folders/cf/4rscw4s920j5hf0mlk10rhqw0000gn/T/tmpw7kv48o4/joblib/sklearn/pipeline/_fit_transform_one/29371d29f599c801bc4412d985cbb72f\n",
      "___________________________________fit_transform_one cache loaded - 0.0s, 0.0min\n",
      "[Memory]    0.3s, 0.0min: Loading _fit_transform_one from /var/folders/cf/4rscw4s920j5hf0mlk10rhqw0000gn/T/tmpw7kv48o4/joblib/sklearn/pipeline/_fit_transform_one/44f36522a013b0877e15292644d36449\n",
      "___________________________________fit_transform_one cache loaded - 0.0s, 0.0min\n",
      "[Memory]    0.0s, 0.0min: Loading _fit_transform_one from /var/folders/cf/4rscw4s920j5hf0mlk10rhqw0000gn/T/tmpw7kv48o4/joblib/sklearn/pipeline/_fit_transform_one/0bde1cd52b7e17bf1eb57fc567215434\n",
      "___________________________________fit_transform_one cache loaded - 0.3s, 0.0min\n",
      "[Memory]    0.3s, 0.0min: Loading _fit_transform_one from /var/folders/cf/4rscw4s920j5hf0mlk10rhqw0000gn/T/tmpw7kv48o4/joblib/sklearn/pipeline/_fit_transform_one/fbd5cc6b4796132e5b709a442c71e73a\n",
      "___________________________________fit_transform_one cache loaded - 0.0s, 0.0min\n",
      "[Memory]    0.3s, 0.0min: Loading _fit_transform_one from /var/folders/cf/4rscw4s920j5hf0mlk10rhqw0000gn/T/tmpw7kv48o4/joblib/sklearn/pipeline/_fit_transform_one/ae4ce65c7ceeca28d0ca7489af5e1d18\n",
      "___________________________________fit_transform_one cache loaded - 0.0s, 0.0min\n",
      "________________________________________________________________________________\n",
      "[Memory] Calling sklearn.pipeline._fit_transform_one...\n",
      "_fit_transform_one(CountVectorizer(analyzer='word', binary=False, decode_error='strict',\n",
      "        dtype=<class 'numpy.int64'>, encoding='utf-8', input='content',\n",
      "        lowercase=True, max_df=1.0, max_features=None, min_df=1,\n",
      "        ngram_range=(1, 1), preprocessor=None, stop_words='english',\n",
      "        strip_accents=None, token_pattern='(?u)\\\\b\\\\w\\\\w+\\\\b',\n",
      "        tokenizer=None, vocabulary=None), \n",
      "None, [ 'From: winstead@faraday.ece.cmu.edu (Charles Holden Winstead)\\n'\n",
      "  'Subject: ftp site for Radius software???\\n'\n",
      "  'Organization: Electrical and Computer Engineering, Carnegie Mellon\\n'\n",
      "  '\\n'\n",
      "  'Hey All,\\n'\n",
      "  '\\n'\n",
      "  'Does anyone know if I can ftp to get the newest version of Radiusware\\n'\n",
      "  'and soft pivot from Radius?  I bought a pivot monitor, but it has an\\n'\n",
      "  \"old version of this software and won't work on my C650, and Radius said\\n\"\n",
      "  'it would be 4-5 weeks until delivery.\\n'\n",
      "  '\\n'\n",
      "  'Thanks!\\n'\n",
      "  '\\n'\n",
      "  '-Chuck\\n'\n",
      "  '\\n'\n",
      "  '\\n',\n",
      "  'From: stefan@lis.e-technik.tu-muenchen.de (Stefan Eckart)\\n'\n",
      "  'Subject: dmpeg10.zip info: Another DOS MPEG decoder/player posted\\n'\n",
      "  'Keywords: MPEG, ..., \n",
      "array([1, ..., 0]))\n",
      "________________________________________________fit_transform_one - 1.2s, 0.0min\n",
      "________________________________________________________________________________\n",
      "[Memory] Calling sklearn.pipeline._fit_transform_one...\n",
      "_fit_transform_one(TfidfTransformer(norm='l2', smooth_idf=True, sublinear_tf=False, use_idf=True), None, <1162x19320 sparse matrix of type '<class 'numpy.int64'>'\n",
      "\twith 99413 stored elements in Compressed Sparse Row format>, \n",
      "array([1, ..., 0]))\n",
      "________________________________________________fit_transform_one - 0.0s, 0.0min\n",
      "________________________________________________________________________________\n",
      "[Memory] Calling sklearn.pipeline._fit_transform_one...\n",
      "_fit_transform_one(TruncatedSVD(algorithm='randomized', n_components=50, n_iter=5,\n",
      "       random_state=None, tol=0.0), \n",
      "None, <1162x19320 sparse matrix of type '<class 'numpy.float64'>'\n",
      "\twith 99413 stored elements in Compressed Sparse Row format>, \n",
      "array([1, ..., 0]))\n",
      "________________________________________________fit_transform_one - 0.5s, 0.0min\n"
     ]
    }
   ],
   "source": [
    "import numpy as np\n",
    "import matplotlib.pyplot as plt\n",
    "from sklearn.model_selection import GridSearchCV\n",
    "from sklearn.pipeline import Pipeline\n",
    "from sklearn.svm import LinearSVC\n",
    "from sklearn.decomposition import TruncatedSVD, NMF\n",
    "\n",
    "# used to cache results\n",
    "from tempfile import mkdtemp\n",
    "from shutil import rmtree\n",
    "from sklearn.externals.joblib import Memory\n",
    "# print(__doc__)\n",
    "cachedir = mkdtemp()\n",
    "memory = Memory(cachedir=cachedir, verbose=10)\n",
    "\n",
    "pipeline = Pipeline([\n",
    "    ('vect', CountVectorizer(min_df=1, stop_words='english')),\n",
    "    ('tfidf', TfidfTransformer()),\n",
    "    ('reduce_dim', TruncatedSVD(random_state=0)),\n",
    "    ('clf', GaussianNB()),\n",
    "],\n",
    "memory=memory\n",
    ")\n",
    "\n",
    "N_FEATURES_OPTIONS = [10, 50]\n",
    "C_OPTIONS = [0.1, 1, 10]\n",
    "# REG_OPTIONS = ['l1', 'l2']\n",
    "# REG_STRENGTH_OPTIONS = [0.1, 1, 10]\n",
    "\n",
    "param_grid = [\n",
    "    {\n",
    "        'reduce_dim': [TruncatedSVD(), NMF()],\n",
    "        'reduce_dim__n_components': N_FEATURES_OPTIONS,\n",
    "        'clf': [LinearSVC()],\n",
    "        'clf__C': C_OPTIONS\n",
    "    },\n",
    "    {\n",
    "        'reduce_dim': [TruncatedSVD(), NMF()],\n",
    "        'reduce_dim__n_components': N_FEATURES_OPTIONS,\n",
    "        'clf': [GaussianNB()],\n",
    "#         'clf__C': C_OPTIONS\n",
    "    },\n",
    "]\n",
    "# reducer_labels = ['LinearSVC', 'NMF', 'KBest(chi2)']\n",
    "\n",
    "grid = GridSearchCV(pipeline, cv=3, n_jobs=1, param_grid=param_grid, scoring='accuracy')\n",
    "grid.fit(twenty_train.data, twenty_train.target)\n",
    "rmtree(cachedir)"
   ]
  },
  {
   "cell_type": "code",
   "execution_count": 70,
   "metadata": {
    "collapsed": false,
    "scrolled": false
   },
   "outputs": [
    {
     "name": "stderr",
     "output_type": "stream",
     "text": [
      "/Users/Alex/anaconda/envs/py36/lib/python3.6/site-packages/sklearn/utils/deprecation.py:122: FutureWarning: You are accessing a training score ('mean_train_score'), which will not be available by default any more in 0.21. If you need training scores, please set return_train_score=True\n",
      "  warnings.warn(*warn_args, **warn_kwargs)\n",
      "/Users/Alex/anaconda/envs/py36/lib/python3.6/site-packages/sklearn/utils/deprecation.py:122: FutureWarning: You are accessing a training score ('split0_train_score'), which will not be available by default any more in 0.21. If you need training scores, please set return_train_score=True\n",
      "  warnings.warn(*warn_args, **warn_kwargs)\n",
      "/Users/Alex/anaconda/envs/py36/lib/python3.6/site-packages/sklearn/utils/deprecation.py:122: FutureWarning: You are accessing a training score ('split1_train_score'), which will not be available by default any more in 0.21. If you need training scores, please set return_train_score=True\n",
      "  warnings.warn(*warn_args, **warn_kwargs)\n",
      "/Users/Alex/anaconda/envs/py36/lib/python3.6/site-packages/sklearn/utils/deprecation.py:122: FutureWarning: You are accessing a training score ('split2_train_score'), which will not be available by default any more in 0.21. If you need training scores, please set return_train_score=True\n",
      "  warnings.warn(*warn_args, **warn_kwargs)\n",
      "/Users/Alex/anaconda/envs/py36/lib/python3.6/site-packages/sklearn/utils/deprecation.py:122: FutureWarning: You are accessing a training score ('std_train_score'), which will not be available by default any more in 0.21. If you need training scores, please set return_train_score=True\n",
      "  warnings.warn(*warn_args, **warn_kwargs)\n"
     ]
    },
    {
     "data": {
      "text/html": [
       "<div>\n",
       "<style scoped>\n",
       "    .dataframe tbody tr th:only-of-type {\n",
       "        vertical-align: middle;\n",
       "    }\n",
       "\n",
       "    .dataframe tbody tr th {\n",
       "        vertical-align: top;\n",
       "    }\n",
       "\n",
       "    .dataframe thead th {\n",
       "        text-align: right;\n",
       "    }\n",
       "</style>\n",
       "<table border=\"1\" class=\"dataframe\">\n",
       "  <thead>\n",
       "    <tr style=\"text-align: right;\">\n",
       "      <th></th>\n",
       "      <th>mean_fit_time</th>\n",
       "      <th>mean_score_time</th>\n",
       "      <th>mean_test_score</th>\n",
       "      <th>mean_train_score</th>\n",
       "      <th>param_clf</th>\n",
       "      <th>param_clf__C</th>\n",
       "      <th>param_reduce_dim</th>\n",
       "      <th>param_reduce_dim__n_components</th>\n",
       "      <th>params</th>\n",
       "      <th>rank_test_score</th>\n",
       "      <th>split0_test_score</th>\n",
       "      <th>split0_train_score</th>\n",
       "      <th>split1_test_score</th>\n",
       "      <th>split1_train_score</th>\n",
       "      <th>split2_test_score</th>\n",
       "      <th>split2_train_score</th>\n",
       "      <th>std_fit_time</th>\n",
       "      <th>std_score_time</th>\n",
       "      <th>std_test_score</th>\n",
       "      <th>std_train_score</th>\n",
       "    </tr>\n",
       "  </thead>\n",
       "  <tbody>\n",
       "    <tr>\n",
       "      <th>0</th>\n",
       "      <td>1.084690</td>\n",
       "      <td>0.087081</td>\n",
       "      <td>0.919966</td>\n",
       "      <td>0.925135</td>\n",
       "      <td>LinearSVC(C=10, class_weight=None, dual=True, ...</td>\n",
       "      <td>0.1</td>\n",
       "      <td>TruncatedSVD(algorithm='randomized', n_compone...</td>\n",
       "      <td>10</td>\n",
       "      <td>{'clf': LinearSVC(C=10, class_weight=None, dua...</td>\n",
       "      <td>8</td>\n",
       "      <td>0.920103</td>\n",
       "      <td>0.918605</td>\n",
       "      <td>0.930412</td>\n",
       "      <td>0.937984</td>\n",
       "      <td>0.909326</td>\n",
       "      <td>0.918814</td>\n",
       "      <td>0.015070</td>\n",
       "      <td>0.002589</td>\n",
       "      <td>0.008605</td>\n",
       "      <td>0.009087</td>\n",
       "    </tr>\n",
       "    <tr>\n",
       "      <th>1</th>\n",
       "      <td>0.613888</td>\n",
       "      <td>0.092680</td>\n",
       "      <td>0.936317</td>\n",
       "      <td>0.946217</td>\n",
       "      <td>LinearSVC(C=10, class_weight=None, dual=True, ...</td>\n",
       "      <td>0.1</td>\n",
       "      <td>TruncatedSVD(algorithm='randomized', n_compone...</td>\n",
       "      <td>50</td>\n",
       "      <td>{'clf': LinearSVC(C=10, class_weight=None, dua...</td>\n",
       "      <td>3</td>\n",
       "      <td>0.930412</td>\n",
       "      <td>0.947028</td>\n",
       "      <td>0.948454</td>\n",
       "      <td>0.949612</td>\n",
       "      <td>0.930052</td>\n",
       "      <td>0.942010</td>\n",
       "      <td>0.031922</td>\n",
       "      <td>0.013473</td>\n",
       "      <td>0.008594</td>\n",
       "      <td>0.003156</td>\n",
       "    </tr>\n",
       "    <tr>\n",
       "      <th>2</th>\n",
       "      <td>1.351925</td>\n",
       "      <td>0.093882</td>\n",
       "      <td>0.911360</td>\n",
       "      <td>0.909638</td>\n",
       "      <td>LinearSVC(C=10, class_weight=None, dual=True, ...</td>\n",
       "      <td>0.1</td>\n",
       "      <td>NMF(alpha=0.0, beta_loss='frobenius', init=Non...</td>\n",
       "      <td>10</td>\n",
       "      <td>{'clf': LinearSVC(C=10, class_weight=None, dua...</td>\n",
       "      <td>11</td>\n",
       "      <td>0.925258</td>\n",
       "      <td>0.908269</td>\n",
       "      <td>0.904639</td>\n",
       "      <td>0.910853</td>\n",
       "      <td>0.904145</td>\n",
       "      <td>0.909794</td>\n",
       "      <td>0.077522</td>\n",
       "      <td>0.019159</td>\n",
       "      <td>0.009842</td>\n",
       "      <td>0.001061</td>\n",
       "    </tr>\n",
       "    <tr>\n",
       "      <th>3</th>\n",
       "      <td>16.630639</td>\n",
       "      <td>0.115106</td>\n",
       "      <td>0.911360</td>\n",
       "      <td>0.905335</td>\n",
       "      <td>LinearSVC(C=10, class_weight=None, dual=True, ...</td>\n",
       "      <td>0.1</td>\n",
       "      <td>NMF(alpha=0.0, beta_loss='frobenius', init=Non...</td>\n",
       "      <td>50</td>\n",
       "      <td>{'clf': LinearSVC(C=10, class_weight=None, dua...</td>\n",
       "      <td>11</td>\n",
       "      <td>0.917526</td>\n",
       "      <td>0.909561</td>\n",
       "      <td>0.917526</td>\n",
       "      <td>0.900517</td>\n",
       "      <td>0.898964</td>\n",
       "      <td>0.905928</td>\n",
       "      <td>1.524968</td>\n",
       "      <td>0.005656</td>\n",
       "      <td>0.008743</td>\n",
       "      <td>0.003716</td>\n",
       "    </tr>\n",
       "    <tr>\n",
       "      <th>4</th>\n",
       "      <td>0.285721</td>\n",
       "      <td>0.094092</td>\n",
       "      <td>0.928571</td>\n",
       "      <td>0.931157</td>\n",
       "      <td>LinearSVC(C=10, class_weight=None, dual=True, ...</td>\n",
       "      <td>1</td>\n",
       "      <td>TruncatedSVD(algorithm='randomized', n_compone...</td>\n",
       "      <td>10</td>\n",
       "      <td>{'clf': LinearSVC(C=10, class_weight=None, dua...</td>\n",
       "      <td>7</td>\n",
       "      <td>0.932990</td>\n",
       "      <td>0.922481</td>\n",
       "      <td>0.940722</td>\n",
       "      <td>0.944444</td>\n",
       "      <td>0.911917</td>\n",
       "      <td>0.926546</td>\n",
       "      <td>0.026412</td>\n",
       "      <td>0.010971</td>\n",
       "      <td>0.012163</td>\n",
       "      <td>0.009541</td>\n",
       "    </tr>\n",
       "    <tr>\n",
       "      <th>5</th>\n",
       "      <td>0.300280</td>\n",
       "      <td>0.080426</td>\n",
       "      <td>0.944062</td>\n",
       "      <td>0.960847</td>\n",
       "      <td>LinearSVC(C=10, class_weight=None, dual=True, ...</td>\n",
       "      <td>1</td>\n",
       "      <td>TruncatedSVD(algorithm='randomized', n_compone...</td>\n",
       "      <td>50</td>\n",
       "      <td>{'clf': LinearSVC(C=10, class_weight=None, dua...</td>\n",
       "      <td>2</td>\n",
       "      <td>0.938144</td>\n",
       "      <td>0.961240</td>\n",
       "      <td>0.958763</td>\n",
       "      <td>0.965116</td>\n",
       "      <td>0.935233</td>\n",
       "      <td>0.956186</td>\n",
       "      <td>0.009305</td>\n",
       "      <td>0.010101</td>\n",
       "      <td>0.010476</td>\n",
       "      <td>0.003657</td>\n",
       "    </tr>\n",
       "    <tr>\n",
       "      <th>6</th>\n",
       "      <td>0.295010</td>\n",
       "      <td>0.076805</td>\n",
       "      <td>0.917384</td>\n",
       "      <td>0.914804</td>\n",
       "      <td>LinearSVC(C=10, class_weight=None, dual=True, ...</td>\n",
       "      <td>1</td>\n",
       "      <td>NMF(alpha=0.0, beta_loss='frobenius', init=Non...</td>\n",
       "      <td>10</td>\n",
       "      <td>{'clf': LinearSVC(C=10, class_weight=None, dua...</td>\n",
       "      <td>10</td>\n",
       "      <td>0.927835</td>\n",
       "      <td>0.918605</td>\n",
       "      <td>0.922680</td>\n",
       "      <td>0.913437</td>\n",
       "      <td>0.901554</td>\n",
       "      <td>0.912371</td>\n",
       "      <td>0.038096</td>\n",
       "      <td>0.009130</td>\n",
       "      <td>0.011361</td>\n",
       "      <td>0.002722</td>\n",
       "    </tr>\n",
       "    <tr>\n",
       "      <th>7</th>\n",
       "      <td>0.312434</td>\n",
       "      <td>0.126650</td>\n",
       "      <td>0.919105</td>\n",
       "      <td>0.916095</td>\n",
       "      <td>LinearSVC(C=10, class_weight=None, dual=True, ...</td>\n",
       "      <td>1</td>\n",
       "      <td>NMF(alpha=0.0, beta_loss='frobenius', init=Non...</td>\n",
       "      <td>50</td>\n",
       "      <td>{'clf': LinearSVC(C=10, class_weight=None, dua...</td>\n",
       "      <td>9</td>\n",
       "      <td>0.920103</td>\n",
       "      <td>0.930233</td>\n",
       "      <td>0.930412</td>\n",
       "      <td>0.904393</td>\n",
       "      <td>0.906736</td>\n",
       "      <td>0.913660</td>\n",
       "      <td>0.031074</td>\n",
       "      <td>0.019027</td>\n",
       "      <td>0.009688</td>\n",
       "      <td>0.010689</td>\n",
       "    </tr>\n",
       "    <tr>\n",
       "      <th>8</th>\n",
       "      <td>0.273779</td>\n",
       "      <td>0.079616</td>\n",
       "      <td>0.933735</td>\n",
       "      <td>0.936316</td>\n",
       "      <td>LinearSVC(C=10, class_weight=None, dual=True, ...</td>\n",
       "      <td>10</td>\n",
       "      <td>TruncatedSVD(algorithm='randomized', n_compone...</td>\n",
       "      <td>10</td>\n",
       "      <td>{'clf': LinearSVC(C=10, class_weight=None, dua...</td>\n",
       "      <td>4</td>\n",
       "      <td>0.932990</td>\n",
       "      <td>0.927649</td>\n",
       "      <td>0.956186</td>\n",
       "      <td>0.944444</td>\n",
       "      <td>0.911917</td>\n",
       "      <td>0.936856</td>\n",
       "      <td>0.015466</td>\n",
       "      <td>0.010177</td>\n",
       "      <td>0.018072</td>\n",
       "      <td>0.006867</td>\n",
       "    </tr>\n",
       "    <tr>\n",
       "      <th>9</th>\n",
       "      <td>0.283329</td>\n",
       "      <td>0.082133</td>\n",
       "      <td>0.949225</td>\n",
       "      <td>0.971171</td>\n",
       "      <td>LinearSVC(C=10, class_weight=None, dual=True, ...</td>\n",
       "      <td>10</td>\n",
       "      <td>TruncatedSVD(algorithm='randomized', n_compone...</td>\n",
       "      <td>50</td>\n",
       "      <td>{'clf': LinearSVC(C=10, class_weight=None, dua...</td>\n",
       "      <td>1</td>\n",
       "      <td>0.943299</td>\n",
       "      <td>0.968992</td>\n",
       "      <td>0.958763</td>\n",
       "      <td>0.974160</td>\n",
       "      <td>0.945596</td>\n",
       "      <td>0.970361</td>\n",
       "      <td>0.008235</td>\n",
       "      <td>0.009699</td>\n",
       "      <td>0.006817</td>\n",
       "      <td>0.002186</td>\n",
       "    </tr>\n",
       "    <tr>\n",
       "      <th>10</th>\n",
       "      <td>0.304268</td>\n",
       "      <td>0.091553</td>\n",
       "      <td>0.929432</td>\n",
       "      <td>0.929432</td>\n",
       "      <td>LinearSVC(C=10, class_weight=None, dual=True, ...</td>\n",
       "      <td>10</td>\n",
       "      <td>NMF(alpha=0.0, beta_loss='frobenius', init=Non...</td>\n",
       "      <td>10</td>\n",
       "      <td>{'clf': LinearSVC(C=10, class_weight=None, dua...</td>\n",
       "      <td>5</td>\n",
       "      <td>0.935567</td>\n",
       "      <td>0.927649</td>\n",
       "      <td>0.932990</td>\n",
       "      <td>0.931525</td>\n",
       "      <td>0.919689</td>\n",
       "      <td>0.929124</td>\n",
       "      <td>0.009230</td>\n",
       "      <td>0.007168</td>\n",
       "      <td>0.006952</td>\n",
       "      <td>0.001597</td>\n",
       "    </tr>\n",
       "    <tr>\n",
       "      <th>11</th>\n",
       "      <td>0.275733</td>\n",
       "      <td>0.110249</td>\n",
       "      <td>0.929432</td>\n",
       "      <td>0.936321</td>\n",
       "      <td>LinearSVC(C=10, class_weight=None, dual=True, ...</td>\n",
       "      <td>10</td>\n",
       "      <td>NMF(alpha=0.0, beta_loss='frobenius', init=Non...</td>\n",
       "      <td>50</td>\n",
       "      <td>{'clf': LinearSVC(C=10, class_weight=None, dua...</td>\n",
       "      <td>5</td>\n",
       "      <td>0.925258</td>\n",
       "      <td>0.941860</td>\n",
       "      <td>0.945876</td>\n",
       "      <td>0.935401</td>\n",
       "      <td>0.917098</td>\n",
       "      <td>0.931701</td>\n",
       "      <td>0.008535</td>\n",
       "      <td>0.008051</td>\n",
       "      <td>0.012110</td>\n",
       "      <td>0.004198</td>\n",
       "    </tr>\n",
       "    <tr>\n",
       "      <th>12</th>\n",
       "      <td>0.254508</td>\n",
       "      <td>0.084818</td>\n",
       "      <td>0.880379</td>\n",
       "      <td>0.877355</td>\n",
       "      <td>GaussianNB(priors=None)</td>\n",
       "      <td>NaN</td>\n",
       "      <td>TruncatedSVD(algorithm='randomized', n_compone...</td>\n",
       "      <td>10</td>\n",
       "      <td>{'clf': GaussianNB(priors=None), 'reduce_dim':...</td>\n",
       "      <td>15</td>\n",
       "      <td>0.920103</td>\n",
       "      <td>0.906977</td>\n",
       "      <td>0.835052</td>\n",
       "      <td>0.834625</td>\n",
       "      <td>0.886010</td>\n",
       "      <td>0.890464</td>\n",
       "      <td>0.003968</td>\n",
       "      <td>0.021014</td>\n",
       "      <td>0.034978</td>\n",
       "      <td>0.030958</td>\n",
       "    </tr>\n",
       "    <tr>\n",
       "      <th>13</th>\n",
       "      <td>0.347859</td>\n",
       "      <td>0.150202</td>\n",
       "      <td>0.774527</td>\n",
       "      <td>0.827465</td>\n",
       "      <td>GaussianNB(priors=None)</td>\n",
       "      <td>NaN</td>\n",
       "      <td>TruncatedSVD(algorithm='randomized', n_compone...</td>\n",
       "      <td>50</td>\n",
       "      <td>{'clf': GaussianNB(priors=None), 'reduce_dim':...</td>\n",
       "      <td>16</td>\n",
       "      <td>0.734536</td>\n",
       "      <td>0.812661</td>\n",
       "      <td>0.827320</td>\n",
       "      <td>0.856589</td>\n",
       "      <td>0.761658</td>\n",
       "      <td>0.813144</td>\n",
       "      <td>0.102542</td>\n",
       "      <td>0.107460</td>\n",
       "      <td>0.038983</td>\n",
       "      <td>0.020595</td>\n",
       "    </tr>\n",
       "    <tr>\n",
       "      <th>14</th>\n",
       "      <td>0.300669</td>\n",
       "      <td>0.154218</td>\n",
       "      <td>0.901033</td>\n",
       "      <td>0.894146</td>\n",
       "      <td>GaussianNB(priors=None)</td>\n",
       "      <td>NaN</td>\n",
       "      <td>NMF(alpha=0.0, beta_loss='frobenius', init=Non...</td>\n",
       "      <td>10</td>\n",
       "      <td>{'clf': GaussianNB(priors=None), 'reduce_dim':...</td>\n",
       "      <td>14</td>\n",
       "      <td>0.907216</td>\n",
       "      <td>0.901809</td>\n",
       "      <td>0.904639</td>\n",
       "      <td>0.883721</td>\n",
       "      <td>0.891192</td>\n",
       "      <td>0.896907</td>\n",
       "      <td>0.041588</td>\n",
       "      <td>0.079053</td>\n",
       "      <td>0.007020</td>\n",
       "      <td>0.007638</td>\n",
       "    </tr>\n",
       "    <tr>\n",
       "      <th>15</th>\n",
       "      <td>0.298195</td>\n",
       "      <td>0.125085</td>\n",
       "      <td>0.903614</td>\n",
       "      <td>0.924706</td>\n",
       "      <td>GaussianNB(priors=None)</td>\n",
       "      <td>NaN</td>\n",
       "      <td>NMF(alpha=0.0, beta_loss='frobenius', init=Non...</td>\n",
       "      <td>50</td>\n",
       "      <td>{'clf': GaussianNB(priors=None), 'reduce_dim':...</td>\n",
       "      <td>13</td>\n",
       "      <td>0.873711</td>\n",
       "      <td>0.927649</td>\n",
       "      <td>0.948454</td>\n",
       "      <td>0.930233</td>\n",
       "      <td>0.888601</td>\n",
       "      <td>0.916237</td>\n",
       "      <td>0.022156</td>\n",
       "      <td>0.014316</td>\n",
       "      <td>0.032323</td>\n",
       "      <td>0.006081</td>\n",
       "    </tr>\n",
       "  </tbody>\n",
       "</table>\n",
       "</div>"
      ],
      "text/plain": [
       "    mean_fit_time  mean_score_time  mean_test_score  mean_train_score  \\\n",
       "0        1.084690         0.087081         0.919966          0.925135   \n",
       "1        0.613888         0.092680         0.936317          0.946217   \n",
       "2        1.351925         0.093882         0.911360          0.909638   \n",
       "3       16.630639         0.115106         0.911360          0.905335   \n",
       "4        0.285721         0.094092         0.928571          0.931157   \n",
       "5        0.300280         0.080426         0.944062          0.960847   \n",
       "6        0.295010         0.076805         0.917384          0.914804   \n",
       "7        0.312434         0.126650         0.919105          0.916095   \n",
       "8        0.273779         0.079616         0.933735          0.936316   \n",
       "9        0.283329         0.082133         0.949225          0.971171   \n",
       "10       0.304268         0.091553         0.929432          0.929432   \n",
       "11       0.275733         0.110249         0.929432          0.936321   \n",
       "12       0.254508         0.084818         0.880379          0.877355   \n",
       "13       0.347859         0.150202         0.774527          0.827465   \n",
       "14       0.300669         0.154218         0.901033          0.894146   \n",
       "15       0.298195         0.125085         0.903614          0.924706   \n",
       "\n",
       "                                            param_clf param_clf__C  \\\n",
       "0   LinearSVC(C=10, class_weight=None, dual=True, ...          0.1   \n",
       "1   LinearSVC(C=10, class_weight=None, dual=True, ...          0.1   \n",
       "2   LinearSVC(C=10, class_weight=None, dual=True, ...          0.1   \n",
       "3   LinearSVC(C=10, class_weight=None, dual=True, ...          0.1   \n",
       "4   LinearSVC(C=10, class_weight=None, dual=True, ...            1   \n",
       "5   LinearSVC(C=10, class_weight=None, dual=True, ...            1   \n",
       "6   LinearSVC(C=10, class_weight=None, dual=True, ...            1   \n",
       "7   LinearSVC(C=10, class_weight=None, dual=True, ...            1   \n",
       "8   LinearSVC(C=10, class_weight=None, dual=True, ...           10   \n",
       "9   LinearSVC(C=10, class_weight=None, dual=True, ...           10   \n",
       "10  LinearSVC(C=10, class_weight=None, dual=True, ...           10   \n",
       "11  LinearSVC(C=10, class_weight=None, dual=True, ...           10   \n",
       "12                            GaussianNB(priors=None)          NaN   \n",
       "13                            GaussianNB(priors=None)          NaN   \n",
       "14                            GaussianNB(priors=None)          NaN   \n",
       "15                            GaussianNB(priors=None)          NaN   \n",
       "\n",
       "                                     param_reduce_dim  \\\n",
       "0   TruncatedSVD(algorithm='randomized', n_compone...   \n",
       "1   TruncatedSVD(algorithm='randomized', n_compone...   \n",
       "2   NMF(alpha=0.0, beta_loss='frobenius', init=Non...   \n",
       "3   NMF(alpha=0.0, beta_loss='frobenius', init=Non...   \n",
       "4   TruncatedSVD(algorithm='randomized', n_compone...   \n",
       "5   TruncatedSVD(algorithm='randomized', n_compone...   \n",
       "6   NMF(alpha=0.0, beta_loss='frobenius', init=Non...   \n",
       "7   NMF(alpha=0.0, beta_loss='frobenius', init=Non...   \n",
       "8   TruncatedSVD(algorithm='randomized', n_compone...   \n",
       "9   TruncatedSVD(algorithm='randomized', n_compone...   \n",
       "10  NMF(alpha=0.0, beta_loss='frobenius', init=Non...   \n",
       "11  NMF(alpha=0.0, beta_loss='frobenius', init=Non...   \n",
       "12  TruncatedSVD(algorithm='randomized', n_compone...   \n",
       "13  TruncatedSVD(algorithm='randomized', n_compone...   \n",
       "14  NMF(alpha=0.0, beta_loss='frobenius', init=Non...   \n",
       "15  NMF(alpha=0.0, beta_loss='frobenius', init=Non...   \n",
       "\n",
       "   param_reduce_dim__n_components  \\\n",
       "0                              10   \n",
       "1                              50   \n",
       "2                              10   \n",
       "3                              50   \n",
       "4                              10   \n",
       "5                              50   \n",
       "6                              10   \n",
       "7                              50   \n",
       "8                              10   \n",
       "9                              50   \n",
       "10                             10   \n",
       "11                             50   \n",
       "12                             10   \n",
       "13                             50   \n",
       "14                             10   \n",
       "15                             50   \n",
       "\n",
       "                                               params  rank_test_score  \\\n",
       "0   {'clf': LinearSVC(C=10, class_weight=None, dua...                8   \n",
       "1   {'clf': LinearSVC(C=10, class_weight=None, dua...                3   \n",
       "2   {'clf': LinearSVC(C=10, class_weight=None, dua...               11   \n",
       "3   {'clf': LinearSVC(C=10, class_weight=None, dua...               11   \n",
       "4   {'clf': LinearSVC(C=10, class_weight=None, dua...                7   \n",
       "5   {'clf': LinearSVC(C=10, class_weight=None, dua...                2   \n",
       "6   {'clf': LinearSVC(C=10, class_weight=None, dua...               10   \n",
       "7   {'clf': LinearSVC(C=10, class_weight=None, dua...                9   \n",
       "8   {'clf': LinearSVC(C=10, class_weight=None, dua...                4   \n",
       "9   {'clf': LinearSVC(C=10, class_weight=None, dua...                1   \n",
       "10  {'clf': LinearSVC(C=10, class_weight=None, dua...                5   \n",
       "11  {'clf': LinearSVC(C=10, class_weight=None, dua...                5   \n",
       "12  {'clf': GaussianNB(priors=None), 'reduce_dim':...               15   \n",
       "13  {'clf': GaussianNB(priors=None), 'reduce_dim':...               16   \n",
       "14  {'clf': GaussianNB(priors=None), 'reduce_dim':...               14   \n",
       "15  {'clf': GaussianNB(priors=None), 'reduce_dim':...               13   \n",
       "\n",
       "    split0_test_score  split0_train_score  split1_test_score  \\\n",
       "0            0.920103            0.918605           0.930412   \n",
       "1            0.930412            0.947028           0.948454   \n",
       "2            0.925258            0.908269           0.904639   \n",
       "3            0.917526            0.909561           0.917526   \n",
       "4            0.932990            0.922481           0.940722   \n",
       "5            0.938144            0.961240           0.958763   \n",
       "6            0.927835            0.918605           0.922680   \n",
       "7            0.920103            0.930233           0.930412   \n",
       "8            0.932990            0.927649           0.956186   \n",
       "9            0.943299            0.968992           0.958763   \n",
       "10           0.935567            0.927649           0.932990   \n",
       "11           0.925258            0.941860           0.945876   \n",
       "12           0.920103            0.906977           0.835052   \n",
       "13           0.734536            0.812661           0.827320   \n",
       "14           0.907216            0.901809           0.904639   \n",
       "15           0.873711            0.927649           0.948454   \n",
       "\n",
       "    split1_train_score  split2_test_score  split2_train_score  std_fit_time  \\\n",
       "0             0.937984           0.909326            0.918814      0.015070   \n",
       "1             0.949612           0.930052            0.942010      0.031922   \n",
       "2             0.910853           0.904145            0.909794      0.077522   \n",
       "3             0.900517           0.898964            0.905928      1.524968   \n",
       "4             0.944444           0.911917            0.926546      0.026412   \n",
       "5             0.965116           0.935233            0.956186      0.009305   \n",
       "6             0.913437           0.901554            0.912371      0.038096   \n",
       "7             0.904393           0.906736            0.913660      0.031074   \n",
       "8             0.944444           0.911917            0.936856      0.015466   \n",
       "9             0.974160           0.945596            0.970361      0.008235   \n",
       "10            0.931525           0.919689            0.929124      0.009230   \n",
       "11            0.935401           0.917098            0.931701      0.008535   \n",
       "12            0.834625           0.886010            0.890464      0.003968   \n",
       "13            0.856589           0.761658            0.813144      0.102542   \n",
       "14            0.883721           0.891192            0.896907      0.041588   \n",
       "15            0.930233           0.888601            0.916237      0.022156   \n",
       "\n",
       "    std_score_time  std_test_score  std_train_score  \n",
       "0         0.002589        0.008605         0.009087  \n",
       "1         0.013473        0.008594         0.003156  \n",
       "2         0.019159        0.009842         0.001061  \n",
       "3         0.005656        0.008743         0.003716  \n",
       "4         0.010971        0.012163         0.009541  \n",
       "5         0.010101        0.010476         0.003657  \n",
       "6         0.009130        0.011361         0.002722  \n",
       "7         0.019027        0.009688         0.010689  \n",
       "8         0.010177        0.018072         0.006867  \n",
       "9         0.009699        0.006817         0.002186  \n",
       "10        0.007168        0.006952         0.001597  \n",
       "11        0.008051        0.012110         0.004198  \n",
       "12        0.021014        0.034978         0.030958  \n",
       "13        0.107460        0.038983         0.020595  \n",
       "14        0.079053        0.007020         0.007638  \n",
       "15        0.014316        0.032323         0.006081  "
      ]
     },
     "execution_count": 70,
     "metadata": {},
     "output_type": "execute_result"
    }
   ],
   "source": [
    "import pandas as pd\n",
    "\n",
    "pd.DataFrame(grid.cv_results_)"
   ]
  },
  {
   "cell_type": "code",
   "execution_count": null,
   "metadata": {
    "collapsed": true
   },
   "outputs": [],
   "source": [
    "import pandas as pd\n",
    "import numpy as np\n",
    "\n",
    "from sklearn.model_selection import GridSearchCV\n",
    "\n",
    "class EstimatorSelectionHelper:\n",
    "\n",
    "    def __init__(self, models, params):\n",
    "        if not set(models.keys()).issubset(set(params.keys())):\n",
    "            missing_params = list(set(models.keys()) - set(params.keys()))\n",
    "            raise ValueError(\"Some estimators are missing parameters: %s\" % missing_params)\n",
    "        self.models = models\n",
    "        self.params = params\n",
    "        self.keys = models.keys()\n",
    "        self.grid_searches = {}\n",
    "\n",
    "    def fit(self, X, y, cv=3, n_jobs=3, verbose=1, scoring=None, refit=False):\n",
    "        for key in self.keys:\n",
    "            print(\"Running GridSearchCV for %s.\" % key)\n",
    "            model = self.models[key]\n",
    "            params = self.params[key]\n",
    "            gs = GridSearchCV(model, params, cv=cv, n_jobs=n_jobs,\n",
    "                              verbose=verbose, scoring=scoring, refit=refit,\n",
    "                              return_train_score=True)\n",
    "            gs.fit(X,y)\n",
    "            self.grid_searches[key] = gs    \n",
    "\n",
    "    def score_summary(self, sort_by='mean_score'):\n",
    "        def row(key, scores, params):\n",
    "            d = {\n",
    "                 'estimator': key,\n",
    "                 'min_score': min(scores),\n",
    "                 'max_score': max(scores),\n",
    "                 'mean_score': np.mean(scores),\n",
    "                 'std_score': np.std(scores),\n",
    "            }\n",
    "            return pd.Series({**params,**d})\n",
    "\n",
    "        rows = []\n",
    "        for k in self.grid_searches:\n",
    "            print(k)\n",
    "            params = self.grid_searches[k].cv_results_['params']\n",
    "            scores = []\n",
    "            for i in range(self.grid_searches[k].cv):\n",
    "                key = \"split{}_test_score\".format(i)\n",
    "                r = self.grid_searches[k].cv_results_[key]        \n",
    "                scores.append(r.reshape(len(params),1))\n",
    "\n",
    "            all_scores = np.hstack(scores)\n",
    "            for p, s in zip(params,all_scores):\n",
    "                rows.append((row(k, s, p)))\n",
    "\n",
    "        df = pd.concat(rows, axis=1).T.sort_values([sort_by], ascending=False)\n",
    "\n",
    "        columns = ['estimator', 'min_score', 'mean_score', 'max_score', 'std_score']\n",
    "        columns = columns + [c for c in df.columns if c not in columns]\n",
    "\n",
    "        return df[columns]"
   ]
  }
 ],
 "metadata": {
  "kernelspec": {
   "display_name": "Python [Root]",
   "language": "python",
   "name": "Python [Root]"
  },
  "language_info": {
   "codemirror_mode": {
    "name": "ipython",
    "version": 3
   },
   "file_extension": ".py",
   "mimetype": "text/x-python",
   "name": "python",
   "nbconvert_exporter": "python",
   "pygments_lexer": "ipython3",
   "version": "3.5.2"
  },
  "varInspector": {
   "cols": {
    "lenName": 16.0,
    "lenType": 16.0,
    "lenVar": 40.0
   },
   "kernels_config": {
    "python": {
     "delete_cmd_postfix": "",
     "delete_cmd_prefix": "del ",
     "library": "var_list.py",
     "varRefreshCmd": "print(var_dic_list())"
    },
    "r": {
     "delete_cmd_postfix": ") ",
     "delete_cmd_prefix": "rm(",
     "library": "var_list.r",
     "varRefreshCmd": "cat(var_dic_list()) "
    }
   },
   "types_to_exclude": [
    "module",
    "function",
    "builtin_function_or_method",
    "instance",
    "_Feature"
   ],
   "window_display": false
  }
 },
 "nbformat": 4,
 "nbformat_minor": 1
}
